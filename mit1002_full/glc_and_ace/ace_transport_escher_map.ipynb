{
 "cells": [
  {
   "cell_type": "code",
   "execution_count": 21,
   "metadata": {},
   "outputs": [],
   "source": [
    "import escher\n",
    "from escher import Builder\n",
    "import cobra\n",
    "from time import sleep\n",
    "import os\n",
    "import pickle"
   ]
  },
  {
   "cell_type": "code",
   "execution_count": 22,
   "metadata": {},
   "outputs": [
    {
     "name": "stderr",
     "output_type": "stream",
     "text": [
      "'' is not a valid SBML 'SId'.\n"
     ]
    }
   ],
   "source": [
    "# Load the model into cobra\n",
    "# Relative path to model file saved locally on Helen's computer, but no changes to the model since downloading it from BiGG\n",
    "model = cobra.io.read_sbml_model('../../../../GEM-repos/mit1002-model/model.xml')"
   ]
  },
  {
   "cell_type": "code",
   "execution_count": 23,
   "metadata": {},
   "outputs": [],
   "source": [
    "# Load the solutions\n",
    "# Load the results from the COBRA simulations\n",
    "with open('results.pkl', 'rb') as f:\n",
    "    cobra_results = pickle.load(f)\n",
    "\n",
    "glc_only_fba = cobra_results[0]\n",
    "glc_only_pfba = cobra_results[1]\n",
    "ace_only_fba = cobra_results[2]\n",
    "ace_only_pfba = cobra_results[3]\n",
    "mix_fba = cobra_results[4]\n",
    "mix_pfba = cobra_results[5]"
   ]
  },
  {
   "cell_type": "code",
   "execution_count": 24,
   "metadata": {},
   "outputs": [],
   "source": [
    "# Make a map with the solution for glucose only\n",
    "glc_only_map = Builder(\n",
    "    map_json = 'ace_transport_map.json',\n",
    "    reaction_data = glc_only_fba.fluxes\n",
    ")"
   ]
  },
  {
   "cell_type": "code",
   "execution_count": 25,
   "metadata": {},
   "outputs": [
    {
     "data": {
      "application/vnd.jupyter.widget-view+json": {
       "model_id": "a72c0040a9934f8a87d3f3bd84433845",
       "version_major": 2,
       "version_minor": 0
      },
      "text/plain": [
       "Builder(reaction_data={'rxn00247_c0': 0.0, 'rxn05625_c0': -3.5239759075541848, 'rxn02342_c0': 0.0, 'rxn06493_c…"
      ]
     },
     "metadata": {},
     "output_type": "display_data"
    }
   ],
   "source": [
    "# View the map\n",
    "glc_only_map"
   ]
  },
  {
   "cell_type": "code",
   "execution_count": 26,
   "metadata": {},
   "outputs": [],
   "source": [
    "# Make a map with the solution for acetate only\n",
    "ace_only_map = Builder(\n",
    "    map_json = 'ace_transport_map.json',\n",
    "    reaction_data = ace_only_fba.fluxes\n",
    ")"
   ]
  },
  {
   "cell_type": "code",
   "execution_count": 27,
   "metadata": {},
   "outputs": [
    {
     "data": {
      "application/vnd.jupyter.widget-view+json": {
       "model_id": "5fbc3d2577bc43f699d5820221a61843",
       "version_major": 2,
       "version_minor": 0
      },
      "text/plain": [
       "Builder(reaction_data={'rxn00247_c0': 0.0, 'rxn05625_c0': -0.7524648226980366, 'rxn02342_c0': 0.0, 'rxn06493_c…"
      ]
     },
     "metadata": {},
     "output_type": "display_data"
    }
   ],
   "source": [
    "ace_only_map"
   ]
  },
  {
   "cell_type": "code",
   "execution_count": null,
   "metadata": {},
   "outputs": [],
   "source": []
  },
  {
   "cell_type": "code",
   "execution_count": 28,
   "metadata": {},
   "outputs": [
    {
     "data": {
      "text/html": [
       "<strong><em>Optimal</em> solution with objective value 1.104</strong><br><div>\n",
       "<style scoped>\n",
       "    .dataframe tbody tr th:only-of-type {\n",
       "        vertical-align: middle;\n",
       "    }\n",
       "\n",
       "    .dataframe tbody tr th {\n",
       "        vertical-align: top;\n",
       "    }\n",
       "\n",
       "    .dataframe thead th {\n",
       "        text-align: right;\n",
       "    }\n",
       "</style>\n",
       "<table border=\"1\" class=\"dataframe\">\n",
       "  <thead>\n",
       "    <tr style=\"text-align: right;\">\n",
       "      <th></th>\n",
       "      <th>fluxes</th>\n",
       "      <th>reduced_costs</th>\n",
       "    </tr>\n",
       "  </thead>\n",
       "  <tbody>\n",
       "    <tr>\n",
       "      <th>rxn00247_c0</th>\n",
       "      <td>0.000000</td>\n",
       "      <td>-6.368166e-03</td>\n",
       "    </tr>\n",
       "    <tr>\n",
       "      <th>rxn05625_c0</th>\n",
       "      <td>-3.523976</td>\n",
       "      <td>-2.649918e-17</td>\n",
       "    </tr>\n",
       "    <tr>\n",
       "      <th>rxn02342_c0</th>\n",
       "      <td>0.000000</td>\n",
       "      <td>-8.756229e-02</td>\n",
       "    </tr>\n",
       "    <tr>\n",
       "      <th>rxn06493_c0</th>\n",
       "      <td>0.025807</td>\n",
       "      <td>1.169186e-16</td>\n",
       "    </tr>\n",
       "    <tr>\n",
       "      <th>rxn02376_c0</th>\n",
       "      <td>0.000000</td>\n",
       "      <td>-1.133212e-18</td>\n",
       "    </tr>\n",
       "    <tr>\n",
       "      <th>...</th>\n",
       "      <td>...</td>\n",
       "      <td>...</td>\n",
       "    </tr>\n",
       "    <tr>\n",
       "      <th>EX_cpd00033_e0</th>\n",
       "      <td>0.000000</td>\n",
       "      <td>-2.220898e-01</td>\n",
       "    </tr>\n",
       "    <tr>\n",
       "      <th>EX_cpd00060_e0</th>\n",
       "      <td>0.000000</td>\n",
       "      <td>-3.128362e-01</td>\n",
       "    </tr>\n",
       "    <tr>\n",
       "      <th>DM_cpd15302_c0</th>\n",
       "      <td>0.000000</td>\n",
       "      <td>0.000000e+00</td>\n",
       "    </tr>\n",
       "    <tr>\n",
       "      <th>DM_cpd02701_c0</th>\n",
       "      <td>0.003099</td>\n",
       "      <td>0.000000e+00</td>\n",
       "    </tr>\n",
       "    <tr>\n",
       "      <th>DM_cpd11416_c0</th>\n",
       "      <td>1.104399</td>\n",
       "      <td>0.000000e+00</td>\n",
       "    </tr>\n",
       "  </tbody>\n",
       "</table>\n",
       "<p>880 rows × 2 columns</p>\n",
       "</div>"
      ],
      "text/plain": [
       "<Solution 1.104 at 0x7fd6497d7430>"
      ]
     },
     "execution_count": 28,
     "metadata": {},
     "output_type": "execute_result"
    }
   ],
   "source": [
    "glc_only_fba"
   ]
  },
  {
   "cell_type": "code",
   "execution_count": 29,
   "metadata": {},
   "outputs": [],
   "source": [
    "# Make a map with the solution for glucose only using pFBA\n",
    "glc_only_pfba_map = Builder(\n",
    "    map_json = 'ace_transport_map.json',\n",
    "    reaction_data = glc_only_pfba.fluxes\n",
    ")"
   ]
  },
  {
   "cell_type": "code",
   "execution_count": 30,
   "metadata": {},
   "outputs": [
    {
     "data": {
      "application/vnd.jupyter.widget-view+json": {
       "model_id": "696c167b9fd648a79de300ba3c59e788",
       "version_major": 2,
       "version_minor": 0
      },
      "text/plain": [
       "Builder(reaction_data={'rxn00247_c0': 0.0, 'rxn05625_c0': -3.523975907554188, 'rxn02342_c0': 0.0, 'rxn06493_c0…"
      ]
     },
     "metadata": {},
     "output_type": "display_data"
    }
   ],
   "source": [
    "glc_only_pfba_map"
   ]
  },
  {
   "cell_type": "code",
   "execution_count": 31,
   "metadata": {},
   "outputs": [],
   "source": [
    "# Make a map with the solution for acetate only using pFBA\n",
    "ace_only_pfba_map = Builder(\n",
    "    map_json = 'ace_transport_map.json',\n",
    "    reaction_data = ace_only_pfba.fluxes\n",
    ")"
   ]
  },
  {
   "cell_type": "code",
   "execution_count": 32,
   "metadata": {},
   "outputs": [
    {
     "data": {
      "application/vnd.jupyter.widget-view+json": {
       "model_id": "14c7e74b6b1941b2a21025725af64c3b",
       "version_major": 2,
       "version_minor": 0
      },
      "text/plain": [
       "Builder(reaction_data={'rxn00247_c0': 0.0, 'rxn05625_c0': -0.7524648226980615, 'rxn02342_c0': 0.0, 'rxn06493_c…"
      ]
     },
     "metadata": {},
     "output_type": "display_data"
    }
   ],
   "source": [
    "ace_only_pfba_map"
   ]
  },
  {
   "cell_type": "code",
   "execution_count": null,
   "metadata": {},
   "outputs": [],
   "source": []
  }
 ],
 "metadata": {
  "kernelspec": {
   "display_name": "escher",
   "language": "python",
   "name": "python3"
  },
  "language_info": {
   "codemirror_mode": {
    "name": "ipython",
    "version": 3
   },
   "file_extension": ".py",
   "mimetype": "text/x-python",
   "name": "python",
   "nbconvert_exporter": "python",
   "pygments_lexer": "ipython3",
   "version": "3.8.17"
  }
 },
 "nbformat": 4,
 "nbformat_minor": 2
}
