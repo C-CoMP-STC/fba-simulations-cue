{
 "cells": [
  {
   "cell_type": "code",
   "execution_count": 1,
   "metadata": {},
   "outputs": [],
   "source": [
    "import escher\n",
    "from escher import Builder\n",
    "import cobra\n",
    "from time import sleep\n",
    "import os\n",
    "import pickle"
   ]
  },
  {
   "cell_type": "code",
   "execution_count": 2,
   "metadata": {},
   "outputs": [
    {
     "name": "stderr",
     "output_type": "stream",
     "text": [
      "'' is not a valid SBML 'SId'.\n"
     ]
    }
   ],
   "source": [
    "# Load the model into cobra\n",
    "# Relative path to model file saved locally on Helen's computer, but no changes to the model since downloading it from BiGG\n",
    "model = cobra.io.read_sbml_model('../../../../GEM-repos/mit1002-model/model.xml')"
   ]
  },
  {
   "cell_type": "code",
   "execution_count": 16,
   "metadata": {},
   "outputs": [
    {
     "data": {
      "text/plain": [
       "[<Metabolite cpd00029_e0 at 0x7f9910630a90>]"
      ]
     },
     "execution_count": 16,
     "metadata": {},
     "output_type": "execute_result"
    }
   ],
   "source": [
    "model.reactions.EX_cpd00029_e0.reactants"
   ]
  },
  {
   "cell_type": "code",
   "execution_count": null,
   "metadata": {},
   "outputs": [],
   "source": []
  },
  {
   "cell_type": "code",
   "execution_count": 19,
   "metadata": {},
   "outputs": [],
   "source": [
    "# Get a list of reactions that involve acetate\n",
    "ace_met_c = model.metabolites.cpd00029_c0\n",
    "ace_met_e = model.metabolites.cpd00029_e0\n",
    "ace_rxns = [r for r in model.reactions if ace_met_e in r.metabolites or ace_met_c in r.metabolites]"
   ]
  },
  {
   "cell_type": "code",
   "execution_count": 20,
   "metadata": {},
   "outputs": [
    {
     "data": {
      "text/plain": [
       "[<Reaction rxn00225_c0 at 0x7f9931a74ee0>,\n",
       " <Reaction rxn00175_c0 at 0x7f99507c0c70>,\n",
       " <Reaction rxn05488_c0 at 0x7f99507ec070>,\n",
       " <Reaction rxn05733_c0 at 0x7f9950623940>,\n",
       " <Reaction rxn00649_c0 at 0x7f98f06138b0>,\n",
       " <Reaction rxn01484_c0 at 0x7f99413dbdf0>,\n",
       " <Reaction rxn07879_c0 at 0x7f99206c4970>,\n",
       " <Reaction rxn03146_c0 at 0x7f9941436eb0>,\n",
       " <Reaction rxn03504_c0 at 0x7f99015ce970>,\n",
       " <Reaction rxn08063_c0 at 0x7f99206d1940>,\n",
       " <Reaction rxn13143_c0 at 0x7f9901662f10>,\n",
       " <Reaction rxn00265_c0 at 0x7f99519618e0>,\n",
       " <Reaction EX_cpd00029_e0 at 0x7f9941493490>]"
      ]
     },
     "execution_count": 20,
     "metadata": {},
     "output_type": "execute_result"
    }
   ],
   "source": [
    "ace_rxns"
   ]
  },
  {
   "cell_type": "code",
   "execution_count": 41,
   "metadata": {},
   "outputs": [],
   "source": [
    "# Function to get all reactions one metabolite away from a given reaction\n",
    "def get_neighbours(reaction):\n",
    "    neighbours = []\n",
    "    for met in reaction.metabolites:\n",
    "        # Skip highly connected metabolites\n",
    "        if met.id in ['cpd00001_c0',  # H2O\n",
    "                      'cpd00002_c0',  # ATP\n",
    "                      'cpd00003_c0',  # NAD+\n",
    "                      'cpd00004_c0',  # NADH\n",
    "                      'cpd00008_c0',  # ADP\n",
    "                      'cpd00012_c0',  # PPi\n",
    "                      'cpd00067_c0',  # H+\n",
    "                      ]:\n",
    "            continue\n",
    "        for rxn in met.reactions:\n",
    "            if rxn not in neighbours and rxn != reaction:\n",
    "                neighbours.append(rxn)\n",
    "    return neighbours"
   ]
  },
  {
   "cell_type": "code",
   "execution_count": 32,
   "metadata": {},
   "outputs": [
    {
     "data": {
      "text/plain": [
       "[<Reaction rxn08063_c0 at 0x7f99206d1940>,\n",
       " <Reaction rxn05488_c0 at 0x7f99507ec070>]"
      ]
     },
     "execution_count": 32,
     "metadata": {},
     "output_type": "execute_result"
    }
   ],
   "source": [
    "get_neighbours(model.reactions.EX_cpd00029_e0)"
   ]
  },
  {
   "cell_type": "code",
   "execution_count": 42,
   "metadata": {},
   "outputs": [],
   "source": [
    "# Make a nested dictionary of the acetate reactions and their neighbours\n",
    "ace_dict = {}\n",
    "for rxn in ace_rxns:\n",
    "    ace_dict[rxn.id] = get_neighbours(rxn)"
   ]
  },
  {
   "cell_type": "code",
   "execution_count": 43,
   "metadata": {},
   "outputs": [
    {
     "name": "stdout",
     "output_type": "stream",
     "text": [
      "rxn00225_c0 16\n",
      "rxn00175_c0 65\n",
      "rxn05488_c0 61\n",
      "rxn05733_c0 29\n",
      "rxn00649_c0 23\n",
      "rxn01484_c0 15\n",
      "rxn07879_c0 11\n",
      "rxn03146_c0 13\n",
      "rxn03504_c0 11\n",
      "rxn08063_c0 12\n",
      "rxn13143_c0 21\n",
      "rxn00265_c0 18\n",
      "EX_cpd00029_e0 2\n"
     ]
    }
   ],
   "source": [
    "# Print out the lengths of the nested dictionaries for each reaction\n",
    "for k,v in ace_dict.items():\n",
    "    print(k, len(v))"
   ]
  },
  {
   "cell_type": "code",
   "execution_count": 62,
   "metadata": {},
   "outputs": [
    {
     "data": {
      "text/html": [
       "\n",
       "        <table>\n",
       "            <tr>\n",
       "                <td><strong>Reaction identifier</strong></td><td>rxn00265_c0</td>\n",
       "            </tr><tr>\n",
       "                <td><strong>Name</strong></td><td>citrate oxaloacetate-lyase (forming acetate from the pro-S carboxymethyl group of citrate)_c0</td>\n",
       "            </tr><tr>\n",
       "                <td><strong>Memory address</strong></td>\n",
       "                <td>0x7f99519618e0</td>\n",
       "            </tr><tr>\n",
       "                <td><strong>Stoichiometry</strong></td>\n",
       "                <td>\n",
       "                    <p style='text-align:right'>cpd00137_c0 <-- cpd00029_c0 + cpd00032_c0</p>\n",
       "                    <p style='text-align:right'>Citrate_c0 <-- Acetate_c0 + Oxaloacetate_c0</p>\n",
       "                </td>\n",
       "            </tr><tr>\n",
       "                <td><strong>GPR</strong></td><td></td>\n",
       "            </tr><tr>\n",
       "                <td><strong>Lower bound</strong></td><td>-1000.0</td>\n",
       "            </tr><tr>\n",
       "                <td><strong>Upper bound</strong></td><td>0.0</td>\n",
       "            </tr>\n",
       "        </table>\n",
       "        "
      ],
      "text/plain": [
       "<Reaction rxn00265_c0 at 0x7f99519618e0>"
      ]
     },
     "execution_count": 62,
     "metadata": {},
     "output_type": "execute_result"
    }
   ],
   "source": [
    "model.reactions.rxn00265_c0"
   ]
  },
  {
   "cell_type": "code",
   "execution_count": 3,
   "metadata": {},
   "outputs": [],
   "source": [
    "# Load the solutions\n",
    "# Load the results from the COBRA simulations\n",
    "with open('results.pkl', 'rb') as f:\n",
    "    cobra_results = pickle.load(f)"
   ]
  },
  {
   "cell_type": "code",
   "execution_count": 8,
   "metadata": {},
   "outputs": [
    {
     "data": {
      "text/plain": [
       "1.1043992751974898"
      ]
     },
     "execution_count": 8,
     "metadata": {},
     "output_type": "execute_result"
    }
   ],
   "source": [
    "cobra_results['glc_medium_inf_o2_fba'].objective_value"
   ]
  },
  {
   "cell_type": "code",
   "execution_count": 10,
   "metadata": {},
   "outputs": [
    {
     "name": "stdout",
     "output_type": "stream",
     "text": [
      "Infinite O2 (LB = -1000)\n",
      "------------------------\n",
      "\n",
      "Glucose (FBA): 1.1043992751974898\n",
      "Acetate (FBA): 0.5244769419861662\n",
      "Glucose Heavy Mixture (FBA): 0.9120647264925414\n",
      "Acetate Heavy Mixture (FBA): 0.7196187348738703\n",
      "Glucose (pFBA): 1.1043992751974805\n",
      "Acetate (pFBA): 0.5244769419861675\n",
      "Mixture (pFBA): 0.9120647264925411\n",
      "Acetate Heavy Mixture (FBA): 0.7196187348738702\n",
      "\n",
      "Limited O2 (LB = -20)\n",
      "---------------------\n",
      "\n",
      "Glucose (FBA): 1.1043992751974716\n",
      "Acetate (FBA): 0.4883441468306618\n",
      "Glucose Heavy Mixture (FBA): 0.9120647264925414\n",
      "Acetate Heavy Mixture (FBA): 0.7196187348738694\n",
      "Glucose (pFBA): 1.1043992751974663\n",
      "Acetate (pFBA): 0.4883441468306319\n",
      "Mixture (pFBA): 0.9120647264925411\n",
      "Acetate Heavy Mixture (FBA): 0.7196187348738702\n"
     ]
    }
   ],
   "source": [
    "print('Infinite O2 (LB = -1000)\\n------------------------\\n')\n",
    "print(f'Glucose (FBA): {cobra_results[\"glc_medium_inf_o2_fba\"].objective_value}')\n",
    "print(f'Acetate (FBA): {cobra_results[\"ace_medium_inf_o2_fba\"].objective_value}')\n",
    "print(f'Glucose Heavy Mixture (FBA): {cobra_results[\"glc_heavy_mix_medium_inf_o2_fba\"].objective_value}')\n",
    "print(f'Acetate Heavy Mixture (FBA): {cobra_results[\"ace_heavy_mix_medium_inf_o2_fba\"].objective_value}')\n",
    "print(f'Glucose (pFBA): {cobra_results[\"glc_medium_inf_o2_pfba\"].fluxes.bio1_biomass}')\n",
    "print(f'Acetate (pFBA): {cobra_results[\"ace_medium_inf_o2_pfba\"].fluxes.bio1_biomass}')\n",
    "print(f'Mixture (pFBA): {cobra_results[\"glc_heavy_mix_medium_inf_o2_pfba\"].fluxes.bio1_biomass}')\n",
    "print(f'Acetate Heavy Mixture (FBA): {cobra_results[\"ace_heavy_mix_medium_inf_o2_pfba\"].fluxes.bio1_biomass}')\n",
    "print('\\nLimited O2 (LB = -20)\\n---------------------\\n')\n",
    "print(f'Glucose (FBA): {cobra_results[\"glc_medium_real_o2_fba\"].objective_value}')\n",
    "print(f'Acetate (FBA): {cobra_results[\"ace_medium_real_o2_fba\"].objective_value}')\n",
    "print(f'Glucose Heavy Mixture (FBA): {cobra_results[\"glc_heavy_mix_medium_real_o2_fba\"].objective_value}')\n",
    "print(f'Acetate Heavy Mixture (FBA): {cobra_results[\"ace_heavy_mix_medium_real_o2_fba\"].objective_value}')\n",
    "print(f'Glucose (pFBA): {cobra_results[\"glc_medium_real_o2_pfba\"].fluxes.bio1_biomass}')\n",
    "print(f'Acetate (pFBA): {cobra_results[\"ace_medium_real_o2_pfba\"].fluxes.bio1_biomass}')\n",
    "print(f'Mixture (pFBA): {cobra_results[\"glc_heavy_mix_medium_real_o2_pfba\"].fluxes.bio1_biomass}')\n",
    "print(f'Acetate Heavy Mixture (FBA): {cobra_results[\"ace_heavy_mix_medium_real_o2_pfba\"].fluxes.bio1_biomass}')"
   ]
  },
  {
   "cell_type": "code",
   "execution_count": 11,
   "metadata": {},
   "outputs": [],
   "source": [
    "# Make a map with the solution for glucose only\n",
    "glc_only_map = Builder(\n",
    "    map_json = 'ace_transport_map.json',\n",
    "    reaction_data = cobra_results[\"glc_medium_inf_o2_fba\"].fluxes\n",
    ")"
   ]
  },
  {
   "cell_type": "code",
   "execution_count": 12,
   "metadata": {},
   "outputs": [
    {
     "data": {
      "application/vnd.jupyter.widget-view+json": {
       "model_id": "354cc302583249ca8ee1d50dacb9eb39",
       "version_major": 2,
       "version_minor": 0
      },
      "text/plain": [
       "Builder(reaction_data={'rxn00247_c0': 0.0, 'rxn05625_c0': -3.5239759075541848, 'rxn02342_c0': 0.0, 'rxn06493_c…"
      ]
     },
     "metadata": {},
     "output_type": "display_data"
    }
   ],
   "source": [
    "# View the map\n",
    "glc_only_map"
   ]
  },
  {
   "cell_type": "code",
   "execution_count": 13,
   "metadata": {},
   "outputs": [
    {
     "data": {
      "text/html": [
       "\n",
       "        <table>\n",
       "            <tr>\n",
       "                <td><strong>Name</strong></td>\n",
       "                <td></td>\n",
       "            </tr><tr>\n",
       "                <td><strong>Memory address</strong></td>\n",
       "                <td>7f99406bc340</td>\n",
       "            </tr><tr>\n",
       "                <td><strong>Number of metabolites</strong></td>\n",
       "                <td>896</td>\n",
       "            </tr><tr>\n",
       "                <td><strong>Number of reactions</strong></td>\n",
       "                <td>881</td>\n",
       "            </tr><tr>\n",
       "                <td><strong>Number of genes</strong></td>\n",
       "                <td>331</td>\n",
       "            </tr><tr>\n",
       "                <td><strong>Number of groups</strong></td>\n",
       "                <td>0</td>\n",
       "            </tr><tr>\n",
       "                <td><strong>Objective expression</strong></td>\n",
       "                <td>1.0*bio1_biomass - 1.0*bio1_biomass_reverse_6e711</td>\n",
       "            </tr><tr>\n",
       "                <td><strong>Compartments</strong></td>\n",
       "                <td>c0, e0</td>\n",
       "            </tr>\n",
       "          </table>"
      ],
      "text/plain": [
       "<Model  at 0x7f99406bc340>"
      ]
     },
     "execution_count": 13,
     "metadata": {},
     "output_type": "execute_result"
    }
   ],
   "source": [
    "model"
   ]
  },
  {
   "cell_type": "code",
   "execution_count": 50,
   "metadata": {},
   "outputs": [],
   "source": [
    "# Make a map with the solution for glucose only\n",
    "glc_only_full_map = Builder(\n",
    "    map_json = '../../../../GEM-repos/mit1002-model/escher/e_coli.Core metabolism.modelseed.json',\n",
    "    reaction_data = glc_only_fba.fluxes\n",
    ")"
   ]
  },
  {
   "cell_type": "code",
   "execution_count": 51,
   "metadata": {},
   "outputs": [
    {
     "data": {
      "application/vnd.jupyter.widget-view+json": {
       "model_id": "a1257b49a1a44b05ac9f3ce1b5e85a7a",
       "version_major": 2,
       "version_minor": 0
      },
      "text/plain": [
       "Builder(reaction_data={'rxn00247_c0': 0.0, 'rxn05625_c0': -3.5239759075541848, 'rxn02342_c0': 0.0, 'rxn06493_c…"
      ]
     },
     "metadata": {},
     "output_type": "display_data"
    }
   ],
   "source": [
    "glc_only_full_map"
   ]
  },
  {
   "cell_type": "code",
   "execution_count": 38,
   "metadata": {},
   "outputs": [],
   "source": [
    "# Make a map with the solution for acetate only\n",
    "ace_only_map = Builder(\n",
    "    map_json = 'ace_transport_map.json',\n",
    "    reaction_data = ace_only_fba.fluxes\n",
    ")"
   ]
  },
  {
   "cell_type": "code",
   "execution_count": 39,
   "metadata": {},
   "outputs": [
    {
     "data": {
      "application/vnd.jupyter.widget-view+json": {
       "model_id": "d061f2eed18f42a7b69c2192a4573004",
       "version_major": 2,
       "version_minor": 0
      },
      "text/plain": [
       "Builder(reaction_data={'rxn00247_c0': 0.0, 'rxn05625_c0': -0.7524648226980373, 'rxn02342_c0': 0.0, 'rxn06493_c…"
      ]
     },
     "metadata": {},
     "output_type": "display_data"
    }
   ],
   "source": [
    "ace_only_map"
   ]
  },
  {
   "cell_type": "code",
   "execution_count": 53,
   "metadata": {},
   "outputs": [],
   "source": [
    "# Make a map with the solution for acetate only\n",
    "ace_only_full_map = Builder(\n",
    "    map_json = '../../../../GEM-repos/mit1002-model/escher/e_coli.Core metabolism.modelseed.json',\n",
    "    reaction_data = ace_only_fba.fluxes\n",
    ")"
   ]
  },
  {
   "cell_type": "code",
   "execution_count": 54,
   "metadata": {},
   "outputs": [
    {
     "data": {
      "application/vnd.jupyter.widget-view+json": {
       "model_id": "c6a6c2d43e984573a802d4f6c2e16d40",
       "version_major": 2,
       "version_minor": 0
      },
      "text/plain": [
       "Builder(reaction_data={'rxn00247_c0': 0.0, 'rxn05625_c0': -0.7524648226980373, 'rxn02342_c0': 0.0, 'rxn06493_c…"
      ]
     },
     "metadata": {},
     "output_type": "display_data"
    }
   ],
   "source": [
    "ace_only_full_map"
   ]
  },
  {
   "cell_type": "code",
   "execution_count": 40,
   "metadata": {},
   "outputs": [
    {
     "data": {
      "text/html": [
       "<strong><em>Optimal</em> solution with objective value 1.104</strong><br><div>\n",
       "<style scoped>\n",
       "    .dataframe tbody tr th:only-of-type {\n",
       "        vertical-align: middle;\n",
       "    }\n",
       "\n",
       "    .dataframe tbody tr th {\n",
       "        vertical-align: top;\n",
       "    }\n",
       "\n",
       "    .dataframe thead th {\n",
       "        text-align: right;\n",
       "    }\n",
       "</style>\n",
       "<table border=\"1\" class=\"dataframe\">\n",
       "  <thead>\n",
       "    <tr style=\"text-align: right;\">\n",
       "      <th></th>\n",
       "      <th>fluxes</th>\n",
       "      <th>reduced_costs</th>\n",
       "    </tr>\n",
       "  </thead>\n",
       "  <tbody>\n",
       "    <tr>\n",
       "      <th>rxn00247_c0</th>\n",
       "      <td>0.000000</td>\n",
       "      <td>-6.368166e-03</td>\n",
       "    </tr>\n",
       "    <tr>\n",
       "      <th>rxn05625_c0</th>\n",
       "      <td>-3.523976</td>\n",
       "      <td>-2.649918e-17</td>\n",
       "    </tr>\n",
       "    <tr>\n",
       "      <th>rxn02342_c0</th>\n",
       "      <td>0.000000</td>\n",
       "      <td>-8.756229e-02</td>\n",
       "    </tr>\n",
       "    <tr>\n",
       "      <th>rxn06493_c0</th>\n",
       "      <td>0.025807</td>\n",
       "      <td>1.169186e-16</td>\n",
       "    </tr>\n",
       "    <tr>\n",
       "      <th>rxn02376_c0</th>\n",
       "      <td>0.000000</td>\n",
       "      <td>-1.133212e-18</td>\n",
       "    </tr>\n",
       "    <tr>\n",
       "      <th>...</th>\n",
       "      <td>...</td>\n",
       "      <td>...</td>\n",
       "    </tr>\n",
       "    <tr>\n",
       "      <th>EX_cpd00033_e0</th>\n",
       "      <td>0.000000</td>\n",
       "      <td>-2.220898e-01</td>\n",
       "    </tr>\n",
       "    <tr>\n",
       "      <th>EX_cpd00060_e0</th>\n",
       "      <td>0.000000</td>\n",
       "      <td>-3.128362e-01</td>\n",
       "    </tr>\n",
       "    <tr>\n",
       "      <th>DM_cpd15302_c0</th>\n",
       "      <td>0.000000</td>\n",
       "      <td>0.000000e+00</td>\n",
       "    </tr>\n",
       "    <tr>\n",
       "      <th>DM_cpd02701_c0</th>\n",
       "      <td>0.003099</td>\n",
       "      <td>0.000000e+00</td>\n",
       "    </tr>\n",
       "    <tr>\n",
       "      <th>DM_cpd11416_c0</th>\n",
       "      <td>1.104399</td>\n",
       "      <td>0.000000e+00</td>\n",
       "    </tr>\n",
       "  </tbody>\n",
       "</table>\n",
       "<p>881 rows × 2 columns</p>\n",
       "</div>"
      ],
      "text/plain": [
       "<Solution 1.104 at 0x7fd5e85b6880>"
      ]
     },
     "execution_count": 40,
     "metadata": {},
     "output_type": "execute_result"
    }
   ],
   "source": [
    "glc_only_fba"
   ]
  },
  {
   "cell_type": "code",
   "execution_count": 41,
   "metadata": {},
   "outputs": [],
   "source": [
    "# Make a map with the solution for glucose only using pFBA\n",
    "glc_only_pfba_map = Builder(\n",
    "    map_json = 'ace_transport_map.json',\n",
    "    reaction_data = glc_only_pfba.fluxes\n",
    ")"
   ]
  },
  {
   "cell_type": "code",
   "execution_count": 42,
   "metadata": {},
   "outputs": [
    {
     "data": {
      "application/vnd.jupyter.widget-view+json": {
       "model_id": "d2f32285bc774a5e831244a8746478c5",
       "version_major": 2,
       "version_minor": 0
      },
      "text/plain": [
       "Builder(reaction_data={'rxn00247_c0': 0.0, 'rxn05625_c0': -3.523975907554188, 'rxn02342_c0': 0.0, 'rxn06493_c0…"
      ]
     },
     "metadata": {},
     "output_type": "display_data"
    }
   ],
   "source": [
    "glc_only_pfba_map"
   ]
  },
  {
   "cell_type": "code",
   "execution_count": 43,
   "metadata": {},
   "outputs": [],
   "source": [
    "# Make a map with the solution for acetate only using pFBA\n",
    "ace_only_pfba_map = Builder(\n",
    "    map_json = 'ace_transport_map.json',\n",
    "    reaction_data = ace_only_pfba.fluxes\n",
    ")"
   ]
  },
  {
   "cell_type": "code",
   "execution_count": 44,
   "metadata": {},
   "outputs": [
    {
     "data": {
      "application/vnd.jupyter.widget-view+json": {
       "model_id": "7848ed2006824f1cac0320eca54c54a1",
       "version_major": 2,
       "version_minor": 0
      },
      "text/plain": [
       "Builder(reaction_data={'rxn00247_c0': 0.0, 'rxn05625_c0': -0.7524648226980581, 'rxn02342_c0': 0.0, 'rxn06493_c…"
      ]
     },
     "metadata": {},
     "output_type": "display_data"
    }
   ],
   "source": [
    "ace_only_pfba_map"
   ]
  },
  {
   "cell_type": "code",
   "execution_count": null,
   "metadata": {},
   "outputs": [],
   "source": []
  }
 ],
 "metadata": {
  "kernelspec": {
   "display_name": "escher",
   "language": "python",
   "name": "python3"
  },
  "language_info": {
   "codemirror_mode": {
    "name": "ipython",
    "version": 3
   },
   "file_extension": ".py",
   "mimetype": "text/x-python",
   "name": "python",
   "nbconvert_exporter": "python",
   "pygments_lexer": "ipython3",
   "version": "3.8.17"
  }
 },
 "nbformat": 4,
 "nbformat_minor": 2
}
