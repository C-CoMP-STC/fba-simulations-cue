{
 "cells": [
  {
   "cell_type": "code",
   "execution_count": 1,
   "metadata": {},
   "outputs": [],
   "source": [
    "import cobra\n",
    "import os"
   ]
  },
  {
   "cell_type": "code",
   "execution_count": 38,
   "metadata": {},
   "outputs": [],
   "source": [
    "import escher"
   ]
  },
  {
   "cell_type": "code",
   "execution_count": 2,
   "metadata": {},
   "outputs": [
    {
     "data": {
      "text/plain": [
       "'/Users/helenscott/Documents/PhD/Segre-lab/CUE/cue-simulations/mit1002_core/testing'"
      ]
     },
     "execution_count": 2,
     "metadata": {},
     "output_type": "execute_result"
    }
   ],
   "source": [
    "os.getcwd()"
   ]
  },
  {
   "cell_type": "code",
   "execution_count": 2,
   "metadata": {},
   "outputs": [
    {
     "name": "stdout",
     "output_type": "stream",
     "text": [
      "Scaling...\n",
      " A: min|aij| =  1.000e+00  max|aij| =  1.000e+00  ratio =  1.000e+00\n",
      "Problem data seem to be well scaled\n"
     ]
    }
   ],
   "source": [
    "model = cobra.io.load_json_model('../../../../GEM-repos/mit1002-core-model/model.json')"
   ]
  },
  {
   "cell_type": "code",
   "execution_count": 3,
   "metadata": {},
   "outputs": [],
   "source": [
    "# Change the objective to the biomass reaction not the energy production reaction\n",
    "model.objective = 'bio1_biomass'"
   ]
  },
  {
   "cell_type": "code",
   "execution_count": 34,
   "metadata": {},
   "outputs": [],
   "source": [
    "# Limit the uptake of glucose\n",
    "model.reactions.EX_cpd00027_e0.lower_bound = -10\n",
    "# Don't allow the uptake of acetate\n",
    "model.reactions.EX_cpd00029_e0.lower_bound = 0\n",
    "# Don't allow the uptake of glycerol\n",
    "model.reactions.EX_cpd00100_e0.lower_bound = 0\n",
    "# Don't allow uptake of EtOH\n",
    "model.reactions.EX_cpd00363_e0.lower_bound = 0\n",
    "# Don't allow uptake of CO2- why even was it???\n",
    "model.reactions.EX_cpd00011_e0.lower_bound = 0\n",
    "# Limit uptake of oxygen\n",
    "model.reactions.EX_cpd00007_e0.lower_bound = -20"
   ]
  },
  {
   "cell_type": "code",
   "execution_count": 35,
   "metadata": {},
   "outputs": [
    {
     "data": {
      "text/html": [
       "<strong><em>Optimal</em> solution with objective value 1.342</strong><br><div>\n",
       "<style scoped>\n",
       "    .dataframe tbody tr th:only-of-type {\n",
       "        vertical-align: middle;\n",
       "    }\n",
       "\n",
       "    .dataframe tbody tr th {\n",
       "        vertical-align: top;\n",
       "    }\n",
       "\n",
       "    .dataframe thead th {\n",
       "        text-align: right;\n",
       "    }\n",
       "</style>\n",
       "<table border=\"1\" class=\"dataframe\">\n",
       "  <thead>\n",
       "    <tr style=\"text-align: right;\">\n",
       "      <th></th>\n",
       "      <th>fluxes</th>\n",
       "      <th>reduced_costs</th>\n",
       "    </tr>\n",
       "  </thead>\n",
       "  <tbody>\n",
       "    <tr>\n",
       "      <th>ATPM</th>\n",
       "      <td>1.000000e+03</td>\n",
       "      <td>1.677044e-17</td>\n",
       "    </tr>\n",
       "    <tr>\n",
       "      <th>rxn14414_c0</th>\n",
       "      <td>0.000000e+00</td>\n",
       "      <td>-3.081488e-33</td>\n",
       "    </tr>\n",
       "    <tr>\n",
       "      <th>rxn14412_c0</th>\n",
       "      <td>-5.000000e+02</td>\n",
       "      <td>-3.081488e-33</td>\n",
       "    </tr>\n",
       "    <tr>\n",
       "      <th>rxn14416_c0</th>\n",
       "      <td>-1.019254e-14</td>\n",
       "      <td>3.033073e-19</td>\n",
       "    </tr>\n",
       "    <tr>\n",
       "      <th>rxn14418_c0</th>\n",
       "      <td>0.000000e+00</td>\n",
       "      <td>-1.222340e-17</td>\n",
       "    </tr>\n",
       "    <tr>\n",
       "      <th>...</th>\n",
       "      <td>...</td>\n",
       "      <td>...</td>\n",
       "    </tr>\n",
       "    <tr>\n",
       "      <th>EX_cpd00027_e0</th>\n",
       "      <td>-1.000000e+01</td>\n",
       "      <td>-2.684426e-01</td>\n",
       "    </tr>\n",
       "    <tr>\n",
       "      <th>EX_cpd00211_e0</th>\n",
       "      <td>0.000000e+00</td>\n",
       "      <td>0.000000e+00</td>\n",
       "    </tr>\n",
       "    <tr>\n",
       "      <th>EX_cpd00363_e0</th>\n",
       "      <td>0.000000e+00</td>\n",
       "      <td>-8.948085e-02</td>\n",
       "    </tr>\n",
       "    <tr>\n",
       "      <th>EX_cpd00001_e0</th>\n",
       "      <td>-4.748056e+02</td>\n",
       "      <td>-3.357808e-17</td>\n",
       "    </tr>\n",
       "    <tr>\n",
       "      <th>DM_cpd11416_c0</th>\n",
       "      <td>2.793396e+02</td>\n",
       "      <td>0.000000e+00</td>\n",
       "    </tr>\n",
       "  </tbody>\n",
       "</table>\n",
       "<p>156 rows × 2 columns</p>\n",
       "</div>"
      ],
      "text/plain": [
       "<Solution 1.342 at 0x162968ac0>"
      ]
     },
     "execution_count": 35,
     "metadata": {},
     "output_type": "execute_result"
    }
   ],
   "source": [
    "sol = model.optimize()\n",
    "sol"
   ]
  },
  {
   "cell_type": "code",
   "execution_count": 36,
   "metadata": {},
   "outputs": [],
   "source": [
    "df = sol.to_frame()"
   ]
  },
  {
   "cell_type": "code",
   "execution_count": 37,
   "metadata": {},
   "outputs": [],
   "source": [
    "df.to_csv('data.csv')"
   ]
  }
 ],
 "metadata": {
  "kernelspec": {
   "display_name": "base",
   "language": "python",
   "name": "python3"
  },
  "language_info": {
   "codemirror_mode": {
    "name": "ipython",
    "version": 3
   },
   "file_extension": ".py",
   "mimetype": "text/x-python",
   "name": "python",
   "nbconvert_exporter": "python",
   "pygments_lexer": "ipython3",
   "version": "3.9.13"
  },
  "orig_nbformat": 4
 },
 "nbformat": 4,
 "nbformat_minor": 2
}
