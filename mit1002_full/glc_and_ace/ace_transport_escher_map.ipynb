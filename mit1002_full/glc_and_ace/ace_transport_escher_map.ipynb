{
 "cells": [
  {
   "cell_type": "code",
   "execution_count": 33,
   "metadata": {},
   "outputs": [],
   "source": [
    "import escher\n",
    "from escher import Builder\n",
    "import cobra\n",
    "from time import sleep\n",
    "import os\n",
    "import pickle"
   ]
  },
  {
   "cell_type": "code",
   "execution_count": 34,
   "metadata": {},
   "outputs": [
    {
     "name": "stderr",
     "output_type": "stream",
     "text": [
      "'' is not a valid SBML 'SId'.\n"
     ]
    }
   ],
   "source": [
    "# Load the model into cobra\n",
    "# Relative path to model file saved locally on Helen's computer, but no changes to the model since downloading it from BiGG\n",
    "model = cobra.io.read_sbml_model('../../../../GEM-repos/mit1002-model/model.xml')"
   ]
  },
  {
   "cell_type": "code",
   "execution_count": 55,
   "metadata": {},
   "outputs": [],
   "source": [
    "# Load the solutions\n",
    "# Load the results from the COBRA simulations\n",
    "with open('results.pkl', 'rb') as f:\n",
    "    cobra_results = pickle.load(f)\n",
    "\n",
    "glc_inf_o2_fba = cobra_results[0]\n",
    "glc_inf_o2_pfba = cobra_results[1]\n",
    "glc_lim_o2_fba = cobra_results[2]\n",
    "glc_lim_o2_pfba = cobra_results[3]\n",
    "ace_inf_o2_fba = cobra_results[4]\n",
    "ace_inf_o2_pfba = cobra_results[5]\n",
    "ace_lim_o2_fba = cobra_results[6]\n",
    "ace_lim_o2_pfba = cobra_results[7]\n",
    "mix_inf_o2_fba = cobra_results[8]\n",
    "mix_inf_o2_pfba = cobra_results[9]\n",
    "mix_lim_o2_fba = cobra_results[10]\n",
    "mix_lim_o2_pfba = cobra_results[11]"
   ]
  },
  {
   "cell_type": "code",
   "execution_count": null,
   "metadata": {},
   "outputs": [],
   "source": [
    "model.reactions.bio1"
   ]
  },
  {
   "cell_type": "code",
   "execution_count": 66,
   "metadata": {},
   "outputs": [
    {
     "name": "stdout",
     "output_type": "stream",
     "text": [
      "Infinite O2 (LB = -1000)\n",
      "------------------------\n",
      "\n",
      "Glucose (FBA): 1.1043992751974898\n",
      "Acetate (FBA): 0.16817467161512917\n",
      "Mixture (FBA): 1.283503957999422\n",
      "Glucose (pFBA): 1.1043992751974805\n",
      "Acetate (pFBA): 0.16817467161512878\n",
      "Mixture (pFBA): 1.2835039579994187\n",
      "\n",
      "Limited O2 (LB = -20)\n",
      "---------------------\n",
      "\n",
      "Glucose (FBA): 1.1043992751974716\n",
      "Acetate (FBA): 0.16817467161512917\n",
      "Mixture (FBA): 1.283503957999421\n",
      "Glucose (pFBA): 1.1043992751974663\n",
      "Acetate (pFBA): 0.16817467161512878\n",
      "Mixture (pFBA): 1.2835039579994187\n"
     ]
    }
   ],
   "source": [
    "print('Infinite O2 (LB = -1000)\\n------------------------\\n')\n",
    "print(f'Glucose (FBA): {glc_inf_o2_fba.objective_value}')\n",
    "print(f'Acetate (FBA): {ace_inf_o2_fba.objective_value}')\n",
    "print(f'Mixture (FBA): {mix_inf_o2_fba.objective_value}')\n",
    "print(f'Glucose (pFBA): {glc_inf_o2_pfba.fluxes.bio1_biomass}')\n",
    "print(f'Acetate (pFBA): {ace_inf_o2_pfba.fluxes.bio1_biomass}')\n",
    "print(f'Mixture (pFBA): {mix_inf_o2_pfba.fluxes.bio1_biomass}')\n",
    "print('\\nLimited O2 (LB = -20)\\n---------------------\\n')\n",
    "print(f'Glucose (FBA): {glc_lim_o2_fba.objective_value}')\n",
    "print(f'Acetate (FBA): {ace_lim_o2_fba.objective_value}')\n",
    "print(f'Mixture (FBA): {mix_lim_o2_fba.objective_value}')\n",
    "print(f'Glucose (pFBA): {glc_lim_o2_pfba.fluxes.bio1_biomass}')\n",
    "print(f'Acetate (pFBA): {ace_lim_o2_pfba.fluxes.bio1_biomass}')\n",
    "print(f'Mixture (pFBA): {mix_lim_o2_pfba.fluxes.bio1_biomass}')"
   ]
  },
  {
   "cell_type": "code",
   "execution_count": 36,
   "metadata": {},
   "outputs": [],
   "source": [
    "# Make a map with the solution for glucose only\n",
    "glc_only_map = Builder(\n",
    "    map_json = 'ace_transport_map.json',\n",
    "    reaction_data = glc_only_fba.fluxes\n",
    ")"
   ]
  },
  {
   "cell_type": "code",
   "execution_count": 37,
   "metadata": {},
   "outputs": [
    {
     "data": {
      "application/vnd.jupyter.widget-view+json": {
       "model_id": "da5b719d050b4bde84d9e9dc9dd39c2d",
       "version_major": 2,
       "version_minor": 0
      },
      "text/plain": [
       "Builder(reaction_data={'rxn00247_c0': 0.0, 'rxn05625_c0': -3.5239759075541848, 'rxn02342_c0': 0.0, 'rxn06493_c…"
      ]
     },
     "metadata": {},
     "output_type": "display_data"
    }
   ],
   "source": [
    "# View the map\n",
    "glc_only_map"
   ]
  },
  {
   "cell_type": "code",
   "execution_count": 50,
   "metadata": {},
   "outputs": [],
   "source": [
    "# Make a map with the solution for glucose only\n",
    "glc_only_full_map = Builder(\n",
    "    map_json = '../../../../GEM-repos/mit1002-model/escher/e_coli.Core metabolism.modelseed.json',\n",
    "    reaction_data = glc_only_fba.fluxes\n",
    ")"
   ]
  },
  {
   "cell_type": "code",
   "execution_count": 51,
   "metadata": {},
   "outputs": [
    {
     "data": {
      "application/vnd.jupyter.widget-view+json": {
       "model_id": "a1257b49a1a44b05ac9f3ce1b5e85a7a",
       "version_major": 2,
       "version_minor": 0
      },
      "text/plain": [
       "Builder(reaction_data={'rxn00247_c0': 0.0, 'rxn05625_c0': -3.5239759075541848, 'rxn02342_c0': 0.0, 'rxn06493_c…"
      ]
     },
     "metadata": {},
     "output_type": "display_data"
    }
   ],
   "source": [
    "glc_only_full_map"
   ]
  },
  {
   "cell_type": "code",
   "execution_count": 38,
   "metadata": {},
   "outputs": [],
   "source": [
    "# Make a map with the solution for acetate only\n",
    "ace_only_map = Builder(\n",
    "    map_json = 'ace_transport_map.json',\n",
    "    reaction_data = ace_only_fba.fluxes\n",
    ")"
   ]
  },
  {
   "cell_type": "code",
   "execution_count": 39,
   "metadata": {},
   "outputs": [
    {
     "data": {
      "application/vnd.jupyter.widget-view+json": {
       "model_id": "d061f2eed18f42a7b69c2192a4573004",
       "version_major": 2,
       "version_minor": 0
      },
      "text/plain": [
       "Builder(reaction_data={'rxn00247_c0': 0.0, 'rxn05625_c0': -0.7524648226980373, 'rxn02342_c0': 0.0, 'rxn06493_c…"
      ]
     },
     "metadata": {},
     "output_type": "display_data"
    }
   ],
   "source": [
    "ace_only_map"
   ]
  },
  {
   "cell_type": "code",
   "execution_count": 53,
   "metadata": {},
   "outputs": [],
   "source": [
    "# Make a map with the solution for acetate only\n",
    "ace_only_full_map = Builder(\n",
    "    map_json = '../../../../GEM-repos/mit1002-model/escher/e_coli.Core metabolism.modelseed.json',\n",
    "    reaction_data = ace_only_fba.fluxes\n",
    ")"
   ]
  },
  {
   "cell_type": "code",
   "execution_count": 54,
   "metadata": {},
   "outputs": [
    {
     "data": {
      "application/vnd.jupyter.widget-view+json": {
       "model_id": "c6a6c2d43e984573a802d4f6c2e16d40",
       "version_major": 2,
       "version_minor": 0
      },
      "text/plain": [
       "Builder(reaction_data={'rxn00247_c0': 0.0, 'rxn05625_c0': -0.7524648226980373, 'rxn02342_c0': 0.0, 'rxn06493_c…"
      ]
     },
     "metadata": {},
     "output_type": "display_data"
    }
   ],
   "source": [
    "ace_only_full_map"
   ]
  },
  {
   "cell_type": "code",
   "execution_count": 40,
   "metadata": {},
   "outputs": [
    {
     "data": {
      "text/html": [
       "<strong><em>Optimal</em> solution with objective value 1.104</strong><br><div>\n",
       "<style scoped>\n",
       "    .dataframe tbody tr th:only-of-type {\n",
       "        vertical-align: middle;\n",
       "    }\n",
       "\n",
       "    .dataframe tbody tr th {\n",
       "        vertical-align: top;\n",
       "    }\n",
       "\n",
       "    .dataframe thead th {\n",
       "        text-align: right;\n",
       "    }\n",
       "</style>\n",
       "<table border=\"1\" class=\"dataframe\">\n",
       "  <thead>\n",
       "    <tr style=\"text-align: right;\">\n",
       "      <th></th>\n",
       "      <th>fluxes</th>\n",
       "      <th>reduced_costs</th>\n",
       "    </tr>\n",
       "  </thead>\n",
       "  <tbody>\n",
       "    <tr>\n",
       "      <th>rxn00247_c0</th>\n",
       "      <td>0.000000</td>\n",
       "      <td>-6.368166e-03</td>\n",
       "    </tr>\n",
       "    <tr>\n",
       "      <th>rxn05625_c0</th>\n",
       "      <td>-3.523976</td>\n",
       "      <td>-2.649918e-17</td>\n",
       "    </tr>\n",
       "    <tr>\n",
       "      <th>rxn02342_c0</th>\n",
       "      <td>0.000000</td>\n",
       "      <td>-8.756229e-02</td>\n",
       "    </tr>\n",
       "    <tr>\n",
       "      <th>rxn06493_c0</th>\n",
       "      <td>0.025807</td>\n",
       "      <td>1.169186e-16</td>\n",
       "    </tr>\n",
       "    <tr>\n",
       "      <th>rxn02376_c0</th>\n",
       "      <td>0.000000</td>\n",
       "      <td>-1.133212e-18</td>\n",
       "    </tr>\n",
       "    <tr>\n",
       "      <th>...</th>\n",
       "      <td>...</td>\n",
       "      <td>...</td>\n",
       "    </tr>\n",
       "    <tr>\n",
       "      <th>EX_cpd00033_e0</th>\n",
       "      <td>0.000000</td>\n",
       "      <td>-2.220898e-01</td>\n",
       "    </tr>\n",
       "    <tr>\n",
       "      <th>EX_cpd00060_e0</th>\n",
       "      <td>0.000000</td>\n",
       "      <td>-3.128362e-01</td>\n",
       "    </tr>\n",
       "    <tr>\n",
       "      <th>DM_cpd15302_c0</th>\n",
       "      <td>0.000000</td>\n",
       "      <td>0.000000e+00</td>\n",
       "    </tr>\n",
       "    <tr>\n",
       "      <th>DM_cpd02701_c0</th>\n",
       "      <td>0.003099</td>\n",
       "      <td>0.000000e+00</td>\n",
       "    </tr>\n",
       "    <tr>\n",
       "      <th>DM_cpd11416_c0</th>\n",
       "      <td>1.104399</td>\n",
       "      <td>0.000000e+00</td>\n",
       "    </tr>\n",
       "  </tbody>\n",
       "</table>\n",
       "<p>881 rows × 2 columns</p>\n",
       "</div>"
      ],
      "text/plain": [
       "<Solution 1.104 at 0x7fd5e85b6880>"
      ]
     },
     "execution_count": 40,
     "metadata": {},
     "output_type": "execute_result"
    }
   ],
   "source": [
    "glc_only_fba"
   ]
  },
  {
   "cell_type": "code",
   "execution_count": 41,
   "metadata": {},
   "outputs": [],
   "source": [
    "# Make a map with the solution for glucose only using pFBA\n",
    "glc_only_pfba_map = Builder(\n",
    "    map_json = 'ace_transport_map.json',\n",
    "    reaction_data = glc_only_pfba.fluxes\n",
    ")"
   ]
  },
  {
   "cell_type": "code",
   "execution_count": 42,
   "metadata": {},
   "outputs": [
    {
     "data": {
      "application/vnd.jupyter.widget-view+json": {
       "model_id": "d2f32285bc774a5e831244a8746478c5",
       "version_major": 2,
       "version_minor": 0
      },
      "text/plain": [
       "Builder(reaction_data={'rxn00247_c0': 0.0, 'rxn05625_c0': -3.523975907554188, 'rxn02342_c0': 0.0, 'rxn06493_c0…"
      ]
     },
     "metadata": {},
     "output_type": "display_data"
    }
   ],
   "source": [
    "glc_only_pfba_map"
   ]
  },
  {
   "cell_type": "code",
   "execution_count": 43,
   "metadata": {},
   "outputs": [],
   "source": [
    "# Make a map with the solution for acetate only using pFBA\n",
    "ace_only_pfba_map = Builder(\n",
    "    map_json = 'ace_transport_map.json',\n",
    "    reaction_data = ace_only_pfba.fluxes\n",
    ")"
   ]
  },
  {
   "cell_type": "code",
   "execution_count": 44,
   "metadata": {},
   "outputs": [
    {
     "data": {
      "application/vnd.jupyter.widget-view+json": {
       "model_id": "7848ed2006824f1cac0320eca54c54a1",
       "version_major": 2,
       "version_minor": 0
      },
      "text/plain": [
       "Builder(reaction_data={'rxn00247_c0': 0.0, 'rxn05625_c0': -0.7524648226980581, 'rxn02342_c0': 0.0, 'rxn06493_c…"
      ]
     },
     "metadata": {},
     "output_type": "display_data"
    }
   ],
   "source": [
    "ace_only_pfba_map"
   ]
  },
  {
   "cell_type": "code",
   "execution_count": null,
   "metadata": {},
   "outputs": [],
   "source": []
  }
 ],
 "metadata": {
  "kernelspec": {
   "display_name": "escher",
   "language": "python",
   "name": "python3"
  },
  "language_info": {
   "codemirror_mode": {
    "name": "ipython",
    "version": 3
   },
   "file_extension": ".py",
   "mimetype": "text/x-python",
   "name": "python",
   "nbconvert_exporter": "python",
   "pygments_lexer": "ipython3",
   "version": "3.8.17"
  }
 },
 "nbformat": 4,
 "nbformat_minor": 2
}
