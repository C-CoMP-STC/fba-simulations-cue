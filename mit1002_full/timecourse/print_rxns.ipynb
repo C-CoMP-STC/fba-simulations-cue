{
 "cells": [
  {
   "cell_type": "code",
   "execution_count": null,
   "metadata": {},
   "outputs": [],
   "source": [
    "import pickle\n",
    "import cobra"
   ]
  },
  {
   "cell_type": "code",
   "execution_count": null,
   "metadata": {},
   "outputs": [],
   "source": [
    "# Load the results\n",
    "with open('results.pkl', 'rb') as f:\n",
    "    experiment = pickle.load(f)"
   ]
  },
  {
   "cell_type": "code",
   "execution_count": null,
   "metadata": {},
   "outputs": [],
   "source": [
    "# Load the COBRA model\n",
    "alt_model = cobra.io.read_sbml_model(\"../../../../GEM-repos/mit1002-model/model.xml\")"
   ]
  },
  {
   "cell_type": "code",
   "execution_count": null,
   "metadata": {},
   "outputs": [],
   "source": [
    "ecoli_model = cobra.io.load_json_model(\"../../../../GEM-repos/ecoli/iJO1366.json\")"
   ]
  },
  {
   "cell_type": "code",
   "execution_count": null,
   "metadata": {},
   "outputs": [],
   "source": [
    "def get_readable_metabolite_name(metabolite):\n",
    "    return f\"{metabolite.name} ({metabolite.id})\""
   ]
  },
  {
   "cell_type": "code",
   "execution_count": null,
   "metadata": {},
   "outputs": [],
   "source": [
    "#metabolite_id = \"cpd00007_c0\" # (O2)\n",
    "# metabolite_id = \"cpd00011_c0\" # (CO2)\n",
    "metabolite_id = \"cpd00002_c0\" # (ATP)"
   ]
  },
  {
   "cell_type": "code",
   "execution_count": null,
   "metadata": {},
   "outputs": [],
   "source": [
    "# Check if the metabolite exists in the model\n",
    "if metabolite_id in alt_model.metabolites:\n",
    "    metabolite = alt_model.metabolites.get_by_id(metabolite_id)\n",
    "else:\n",
    "    raise ValueError(f\"Metabolite {metabolite_id} not found in the model.\")"
   ]
  },
  {
   "cell_type": "code",
   "execution_count": null,
   "metadata": {},
   "outputs": [],
   "source": [
    "# Find all reactions containing the metabolite\n",
    "reactions_with_metabolite = [reaction for reaction in alt_model.reactions if metabolite in reaction.metabolites]"
   ]
  },
  {
   "cell_type": "code",
   "execution_count": null,
   "metadata": {},
   "outputs": [],
   "source": [
    "reactions_with_metabolite"
   ]
  },
  {
   "cell_type": "code",
   "execution_count": null,
   "metadata": {},
   "outputs": [],
   "source": [
    "# Get the fluxes for a specific cycle (the first, index 0) of the simulation\n",
    "fluxes = experiment.fluxes_by_species[''].iloc[0]"
   ]
  },
  {
   "cell_type": "code",
   "execution_count": null,
   "metadata": {},
   "outputs": [],
   "source": [
    "# Print the nonzero flux reactions containing the metabolite, flux, and bounds\n",
    "for reaction in reactions_with_metabolite:\n",
    "    reaction_id = reaction.id\n",
    "    flux = fluxes[reaction_id]\n",
    "    \n",
    "    # Filter out reactions with near-zero flux (using a threshold, e.g., 1e-6)\n",
    "    if abs(flux) > 1e-6:\n",
    "        lower_bound = reaction.lower_bound\n",
    "        upper_bound = reaction.upper_bound\n",
    "        readable_reaction_string = \" + \".join([f\"{coefficient} {get_readable_metabolite_name(met)}\" for met, coefficient in reaction.metabolites.items()])\n",
    "        print(f\"{reaction_id} | {reaction.name} | {readable_reaction_string} : {flux} | Bounds: [{lower_bound}, {upper_bound}]\")"
   ]
  },
  {
   "cell_type": "code",
   "execution_count": null,
   "metadata": {},
   "outputs": [],
   "source": [
    "# Print the nonzero flux reactions containing the metabolite, flux, and bounds\n",
    "for reaction in reactions_with_metabolite:\n",
    "    reaction_id = reaction.id\n",
    "    flux = fluxes[reaction_id]\n",
    "    \n",
    "    # Filter out reactions with near-zero flux (using a threshold, e.g., 1e-6)\n",
    "    if abs(flux) < 1e-6:\n",
    "        continue\n",
    "    \n",
    "    # Get reactions where CO2 is being used (i.e. the it is a product and the \n",
    "    # flux is negative or it is a reactant and the flux is positive)\n",
    "    if (metabolite in reaction.products and flux > 0) or (metabolite in reaction.reactants and flux < 0):\n",
    "        lower_bound = reaction.lower_bound\n",
    "        upper_bound = reaction.upper_bound\n",
    "        readable_reaction_string = \" + \".join([f\"{coefficient} {get_readable_metabolite_name(met)}\" for met, coefficient in reaction.metabolites.items()])\n",
    "        print(f\"{reaction_id} | {reaction.name} | {readable_reaction_string} : {flux} | Bounds: [{lower_bound}, {upper_bound}]\")"
   ]
  },
  {
   "cell_type": "code",
   "execution_count": null,
   "metadata": {},
   "outputs": [],
   "source": [
    "# Get all the reactions that can produce ATP\n",
    "metabolite_id = \"cpd00002_c0\" # (ATP)\n",
    "metabolite = alt_model.metabolites.get_by_id(metabolite_id)\n",
    "\n",
    "for reaction in alt_model.reactions:\n",
    "    if metabolite in reaction.products:\n",
    "        if 'bigg.reaction' in reaction.annotation.keys():\n",
    "            bigg_id = reaction.annotation['bigg.reaction']\n",
    "        else:\n",
    "            bigg_id = 'No BiGG ID'\n",
    "        lower_bound = reaction.lower_bound\n",
    "        upper_bound = reaction.upper_bound\n",
    "        readable_reaction_string = \" + \".join([f\"{coefficient} {get_readable_metabolite_name(met)}\" for met, coefficient in reaction.metabolites.items()])\n",
    "        print(f\"{reaction.id} | {bigg_id} | Bounds: [{lower_bound}, {upper_bound}] | {reaction.name} | {readable_reaction_string}\")\n",
    "    if metabolite in reaction.reactants and reaction.lower_bound < 0:\n",
    "        if 'bigg.reaction' in reaction.annotation.keys():\n",
    "            bigg_id = reaction.annotation['bigg.reaction']\n",
    "        else:\n",
    "            bigg_id = 'No BiGG ID'\n",
    "        lower_bound = reaction.lower_bound\n",
    "        upper_bound = reaction.upper_bound\n",
    "        readable_reaction_string = \" + \".join([f\"{coefficient} {get_readable_metabolite_name(met)}\" for met, coefficient in reaction.metabolites.items()])\n",
    "        print(f\"{reaction.id} | {bigg_id} | Bounds: [{lower_bound}, {upper_bound}] | {reaction.name} | {readable_reaction_string}\")"
   ]
  },
  {
   "cell_type": "code",
   "execution_count": null,
   "metadata": {},
   "outputs": [],
   "source": [
    "for reaction in alt_model.reactions:\n",
    "    if (metabolite in reaction.products) or (metabolite in reaction.reactants and reaction.lower_bound < 0):\n",
    "        if 'bigg.reaction' in reaction.annotation.keys():\n",
    "            bigg_id = reaction.annotation['bigg.reaction']\n",
    "            ec_reaction = ecoli_model.reactions.get_by_id(bigg_id)\n",
    "            ec_lower_bound = ec_reaction.lower_bound\n",
    "            ec_upper_bound = ec_reaction.upper_bound\n",
    "        else:\n",
    "            bigg_id = 'No BiGG ID'\n",
    "        lower_bound = reaction.lower_bound\n",
    "        upper_bound = reaction.upper_bound\n",
    "        readable_reaction_string = \" + \".join([f\"{coefficient} {get_readable_metabolite_name(met)}\" for met, coefficient in reaction.metabolites.items()])\n",
    "        # Look up the reaction in the E. coli model\n",
    "        for id in b\n",
    "        print(f\"{reaction.id} / {bigg_id}/ {reaction.name}\")\n",
    "        print(\"----------------------------------\")\n",
    "        print(f\"Bounds in ALT: [{lower_bound}, {upper_bound}]\")\n",
    "        print(f\"Bounds in E. coli: [{ec_lower_bound}, {ec_upper_bound}]\")\n",
    "        print(f\"{readable_reaction_string}\\n\")"
   ]
  }
 ],
 "metadata": {
  "kernelspec": {
   "display_name": "base",
   "language": "python",
   "name": "python3"
  },
  "language_info": {
   "codemirror_mode": {
    "name": "ipython",
    "version": 3
   },
   "file_extension": ".py",
   "mimetype": "text/x-python",
   "name": "python",
   "nbconvert_exporter": "python",
   "pygments_lexer": "ipython3",
   "version": "3.9.13"
  },
  "orig_nbformat": 4
 },
 "nbformat": 4,
 "nbformat_minor": 2
}
