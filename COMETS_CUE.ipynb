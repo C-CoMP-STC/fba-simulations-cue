{
 "cells": [
  {
   "cell_type": "markdown",
   "metadata": {},
   "source": [
    "# Carbon Use Efficiency of a COMETS Simulation"
   ]
  },
  {
   "cell_type": "code",
   "execution_count": 102,
   "metadata": {},
   "outputs": [],
   "source": [
    "import cometspy as c\n",
    "import cobra\n",
    "import matplotlib.pyplot as plt"
   ]
  },
  {
   "cell_type": "code",
   "execution_count": 103,
   "metadata": {},
   "outputs": [],
   "source": [
    "import numpy as np"
   ]
  },
  {
   "cell_type": "code",
   "execution_count": 104,
   "metadata": {},
   "outputs": [],
   "source": [
    "# Import my own helper functions\n",
    "from cue_utils import utils"
   ]
  },
  {
   "cell_type": "markdown",
   "metadata": {},
   "source": [
    "## Set up and run COMETS simulation"
   ]
  },
  {
   "cell_type": "code",
   "execution_count": 105,
   "metadata": {},
   "outputs": [
    {
     "name": "stdout",
     "output_type": "stream",
     "text": [
      "building empty layout model\n",
      "models will need to be added with layout.add_model()\n",
      "Warning: The added metabolite (glc__D_e) is notable to be taken up by any of the current models\n",
      "Warning: The added metabolite (o2_e) is notable to be taken up by any of the current models\n",
      "Warning: The added metabolite (nh4_e) is notable to be taken up by any of the current models\n",
      "Warning: The added metabolite (pi_e) is notable to be taken up by any of the current models\n",
      "Warning: The added metabolite (h2o_e) is notable to be taken up by any of the current models\n",
      "Warning: The added metabolite (h_e) is notable to be taken up by any of the current models\n"
     ]
    }
   ],
   "source": [
    "# Create empty 1x1 layout\n",
    "test_tube = c.layout()\n",
    "\n",
    "# Add 11mM glucose and remove o2\n",
    "test_tube.set_specific_metabolite('glc__D_e', 0.011)\n",
    "test_tube.set_specific_metabolite('o2_e', 1000)\n",
    "\n",
    "# Add the rest of nutrients unlimited (ammonia, phosphate, water and protons)\n",
    "test_tube.set_specific_metabolite('nh4_e',1000);\n",
    "test_tube.set_specific_metabolite('pi_e',1000);\n",
    "test_tube.set_specific_metabolite('h2o_e',1000);\n",
    "test_tube.set_specific_metabolite('h_e',1000);"
   ]
  },
  {
   "cell_type": "code",
   "execution_count": 106,
   "metadata": {},
   "outputs": [],
   "source": [
    "# create the model using CobraPy functionality\n",
    "e_coli_cobra = cobra.io.load_model('textbook')\n",
    "\n",
    "# use the loaded model to build a comets model\n",
    "e_coli = c.model(e_coli_cobra)\n",
    "\n",
    "# remove the bounds from glucose import (will be set dynamically by COMETS)\n",
    "e_coli.change_bounds('EX_glc__D_e', -1000, 1000)\n",
    "e_coli.change_bounds('EX_ac_e', -1000, 1000)\n",
    "\n",
    "# set the model's initial biomass\n",
    "e_coli.initial_pop = [0, 0, 5e-6]\n",
    "\n",
    "# add it to the test_tube\n",
    "test_tube.add_model(e_coli)"
   ]
  },
  {
   "cell_type": "code",
   "execution_count": 107,
   "metadata": {},
   "outputs": [
    {
     "data": {
      "text/plain": [
       "[<Reaction ACALD at 0x159002a30>,\n",
       " <Reaction ACALDt at 0x1590670d0>,\n",
       " <Reaction ACKr at 0x159067d30>,\n",
       " <Reaction ACONTa at 0x159067bb0>,\n",
       " <Reaction ACONTb at 0x15906b610>,\n",
       " <Reaction ACt2r at 0x15906b820>,\n",
       " <Reaction ADK1 at 0x159067fd0>,\n",
       " <Reaction AKGDH at 0x159067b20>,\n",
       " <Reaction AKGt2r at 0x15906e310>,\n",
       " <Reaction ALCD2x at 0x15906ea00>,\n",
       " <Reaction ATPM at 0x15906e820>,\n",
       " <Reaction ATPS4r at 0x159067b50>,\n",
       " <Reaction Biomass_Ecoli_core at 0x1590676a0>,\n",
       " <Reaction CO2t at 0x159067700>,\n",
       " <Reaction CS at 0x15906e550>,\n",
       " <Reaction CYTBD at 0x159073f10>,\n",
       " <Reaction D_LACt2 at 0x1590735b0>,\n",
       " <Reaction ENO at 0x15907ee20>,\n",
       " <Reaction ETOHt2r at 0x15907ec40>,\n",
       " <Reaction EX_ac_e at 0x159073c70>,\n",
       " <Reaction EX_acald_e at 0x159073dc0>,\n",
       " <Reaction EX_akg_e at 0x15907eca0>,\n",
       " <Reaction EX_co2_e at 0x159073b20>,\n",
       " <Reaction EX_etoh_e at 0x15907e7f0>,\n",
       " <Reaction EX_for_e at 0x15907ec10>,\n",
       " <Reaction EX_fru_e at 0x159086bb0>,\n",
       " <Reaction EX_fum_e at 0x159086cd0>,\n",
       " <Reaction EX_glc__D_e at 0x159086df0>,\n",
       " <Reaction EX_gln__L_e at 0x159086fd0>,\n",
       " <Reaction EX_glu__L_e at 0x159086970>,\n",
       " <Reaction EX_h_e at 0x159086c40>,\n",
       " <Reaction EX_h2o_e at 0x159086730>,\n",
       " <Reaction EX_lac__D_e at 0x1590903d0>,\n",
       " <Reaction EX_mal__L_e at 0x1590904f0>,\n",
       " <Reaction EX_nh4_e at 0x159090610>,\n",
       " <Reaction EX_o2_e at 0x159090730>,\n",
       " <Reaction EX_pi_e at 0x159090850>,\n",
       " <Reaction EX_pyr_e at 0x159090970>,\n",
       " <Reaction EX_succ_e at 0x159090a90>,\n",
       " <Reaction FBA at 0x159090bb0>,\n",
       " <Reaction FBP at 0x159090cd0>,\n",
       " <Reaction FORt2 at 0x15909a400>,\n",
       " <Reaction FORti at 0x15909a2e0>,\n",
       " <Reaction FRD7 at 0x15909aa90>,\n",
       " <Reaction FRUpts2 at 0x15909aeb0>,\n",
       " <Reaction FUM at 0x1590a0580>,\n",
       " <Reaction FUMt2_2 at 0x1590a0bb0>,\n",
       " <Reaction G6PDH2r at 0x1590a0fd0>,\n",
       " <Reaction GAPD at 0x1590a0cd0>,\n",
       " <Reaction GLCpts at 0x1590a0af0>,\n",
       " <Reaction GLNS at 0x1590a8910>,\n",
       " <Reaction GLNabc at 0x1590a8f40>,\n",
       " <Reaction GLUDy at 0x1590a8d30>,\n",
       " <Reaction GLUN at 0x1590b1160>,\n",
       " <Reaction GLUSy at 0x1590b1280>,\n",
       " <Reaction GLUt2r at 0x1590b8d30>,\n",
       " <Reaction GND at 0x1590b8c10>,\n",
       " <Reaction H2Ot at 0x1590b8cd0>,\n",
       " <Reaction ICDHyr at 0x1590c06a0>,\n",
       " <Reaction ICL at 0x1590c0c70>,\n",
       " <Reaction LDH_D at 0x1590c0ca0>,\n",
       " <Reaction MALS at 0x1590c62b0>,\n",
       " <Reaction MALt2_2 at 0x1590c68e0>,\n",
       " <Reaction MDH at 0x1590c6c40>,\n",
       " <Reaction ME1 at 0x1590c6c70>,\n",
       " <Reaction ME2 at 0x1590c6910>,\n",
       " <Reaction NADH16 at 0x1590ce8e0>,\n",
       " <Reaction NADTRHD at 0x1590ced00>,\n",
       " <Reaction NH4t at 0x1590d7d00>,\n",
       " <Reaction O2t at 0x1590d7820>,\n",
       " <Reaction PDH at 0x1590d7520>,\n",
       " <Reaction PFK at 0x1590d7700>,\n",
       " <Reaction PFL at 0x1590ddbe0>,\n",
       " <Reaction PGI at 0x1590ddac0>,\n",
       " <Reaction PGK at 0x1590dddf0>,\n",
       " <Reaction PGL at 0x1590dde50>,\n",
       " <Reaction PGM at 0x1590e6820>,\n",
       " <Reaction PIt2r at 0x1590e65b0>,\n",
       " <Reaction PPC at 0x1590eb790>,\n",
       " <Reaction PPCK at 0x1590eb9a0>,\n",
       " <Reaction PPS at 0x1590eb730>,\n",
       " <Reaction PTAr at 0x1590ebd90>,\n",
       " <Reaction PYK at 0x1590f3280>,\n",
       " <Reaction PYRt2 at 0x1590f3d30>,\n",
       " <Reaction RPE at 0x1590ce4c0>,\n",
       " <Reaction RPI at 0x1590e6160>,\n",
       " <Reaction SUCCt2_2 at 0x1590fb910>,\n",
       " <Reaction SUCCt3 at 0x1590fbc10>,\n",
       " <Reaction SUCDi at 0x1590f3b80>,\n",
       " <Reaction SUCOAS at 0x1590fbdf0>,\n",
       " <Reaction TALA at 0x159303940>,\n",
       " <Reaction THD2 at 0x1593037c0>,\n",
       " <Reaction TKT1 at 0x159303f40>,\n",
       " <Reaction TKT2 at 0x15930b4c0>,\n",
       " <Reaction TPI at 0x15930bb50>]"
      ]
     },
     "execution_count": 107,
     "metadata": {},
     "output_type": "execute_result"
    }
   ],
   "source": [
    "e_coli_cobra.reactions"
   ]
  },
  {
   "cell_type": "code",
   "execution_count": 108,
   "metadata": {},
   "outputs": [],
   "source": [
    "# Set the parameters that are different from the default\n",
    "sim_params = c.params()\n",
    "\n",
    "sim_params.set_param('defaultVmax', 18.5)\n",
    "sim_params.set_param('defaultKm', 0.000015)\n",
    "sim_params.set_param('maxCycles', 1000)\n",
    "sim_params.set_param('timeStep', 0.01)\n",
    "sim_params.set_param('spaceWidth', 1)\n",
    "sim_params.set_param('maxSpaceBiomass', 10)\n",
    "sim_params.set_param('minSpaceBiomass', 1e-11)\n",
    "sim_params.set_param('writeMediaLog', True)\n",
    "sim_params.set_param('writeFluxLog', True)"
   ]
  },
  {
   "cell_type": "code",
   "execution_count": 109,
   "metadata": {},
   "outputs": [],
   "source": [
    "experiment = c.comets(test_tube, sim_params)"
   ]
  },
  {
   "cell_type": "code",
   "execution_count": 110,
   "metadata": {},
   "outputs": [
    {
     "name": "stdout",
     "output_type": "stream",
     "text": [
      "\n",
      "Running COMETS simulation ...\n"
     ]
    },
    {
     "name": "stderr",
     "output_type": "stream",
     "text": [
      "/Users/helenscott/opt/miniconda3/lib/python3.9/site-packages/cometspy/model.py:973: FutureWarning: the 'line_terminator'' keyword is deprecated, use 'lineterminator' instead.\n",
      "  smat.to_csv(f, mode='a', line_terminator = '\\n', header=False, index=False)\n",
      "/Users/helenscott/opt/miniconda3/lib/python3.9/site-packages/cometspy/model.py:979: FutureWarning: the 'line_terminator'' keyword is deprecated, use 'lineterminator' instead.\n",
      "  bnd.to_csv(f, mode='a', line_terminator = '\\n', header=False, index=False)\n",
      "/Users/helenscott/opt/miniconda3/lib/python3.9/site-packages/cometspy/model.py:987: FutureWarning: the 'line_terminator'' keyword is deprecated, use 'lineterminator' instead.\n",
      "  met_n.to_csv(f, mode='a', line_terminator = '\\n', header=False, index=False)\n",
      "/Users/helenscott/opt/miniconda3/lib/python3.9/site-packages/cometspy/model.py:991: FutureWarning: the 'line_terminator'' keyword is deprecated, use 'lineterminator' instead.\n",
      "  rxn_n.to_csv(f, mode='a', line_terminator = '\\n', header=False, index=False)\n"
     ]
    },
    {
     "name": "stdout",
     "output_type": "stream",
     "text": [
      "Done!\n"
     ]
    }
   ],
   "source": [
    "experiment.run()"
   ]
  },
  {
   "cell_type": "code",
   "execution_count": 111,
   "metadata": {},
   "outputs": [
    {
     "data": {
      "text/plain": [
       "Text(0, 0.5, 'Biomass (gr.)')"
      ]
     },
     "execution_count": 111,
     "metadata": {},
     "output_type": "execute_result"
    },
    {
     "data": {
      "image/png": "[encoded data removed]",
      "text/plain": [
       "<Figure size 640x480 with 1 Axes>"
      ]
     },
     "metadata": {},
     "output_type": "display_data"
    }
   ],
   "source": [
    "ax = experiment.total_biomass.plot(x = 'cycle')\n",
    "ax.set_ylabel(\"Biomass (gr.)\")\n"
   ]
  },
  {
   "cell_type": "code",
   "execution_count": 112,
   "metadata": {},
   "outputs": [
    {
     "data": {
      "text/plain": [
       "Text(0, 0.5, 'Concentration (mmol)')"
      ]
     },
     "execution_count": 112,
     "metadata": {},
     "output_type": "execute_result"
    },
    {
     "data": {
      "image/png": "[encoded data removed]",
      "text/plain": [
       "<Figure size 640x480 with 1 Axes>"
      ]
     },
     "metadata": {},
     "output_type": "display_data"
    }
   ],
   "source": [
    "media = experiment.media.copy()\n",
    "media = media[media.conc_mmol<900]\n",
    "\n",
    "fig, ax = plt.subplots()\n",
    "media.groupby('metabolite').plot(x='cycle', ax =ax, y='conc_mmol')\n",
    "ax.legend(('acetate','ethanol', 'formate', 'glucose'))\n",
    "ax.set_ylabel(\"Concentration (mmol)\")\n"
   ]
  },
  {
   "cell_type": "markdown",
   "metadata": {},
   "source": [
    "## Calculate CUE and plot"
   ]
  },
  {
   "cell_type": "code",
   "execution_count": 113,
   "metadata": {},
   "outputs": [
    {
     "data": {
      "text/plain": [
       "{'EX_ac_e': 2,\n",
       " 'EX_acald_e': 2,\n",
       " 'EX_akg_e': 5,\n",
       " 'EX_co2_e': 1,\n",
       " 'EX_etoh_e': 2,\n",
       " 'EX_for_e': 1,\n",
       " 'EX_fru_e': 6,\n",
       " 'EX_fum_e': 4,\n",
       " 'EX_glc__D_e': 6,\n",
       " 'EX_gln__L_e': 5,\n",
       " 'EX_glu__L_e': 5,\n",
       " 'EX_lac__D_e': 3,\n",
       " 'EX_mal__L_e': 4,\n",
       " 'EX_pyr_e': 3,\n",
       " 'EX_succ_e': 4}"
      ]
     },
     "execution_count": 113,
     "metadata": {},
     "output_type": "execute_result"
    }
   ],
   "source": [
    "# Get the exchange reactions for the E coli core model\n",
    "c_ex_rxns = utils.atomExchangeMetabolite(e_coli_cobra)\n",
    "c_ex_rxns"
   ]
  },
  {
   "cell_type": "code",
   "execution_count": 114,
   "metadata": {},
   "outputs": [],
   "source": [
    "# Get the fluxes for each exchange reaction for each cycle of the experiment\n",
    "fluxes = experiment.fluxes_by_species['e_coli_core'].copy()\n",
    "# Create an empty array to hold the CUE for each cycle\n",
    "cue_list = []\n",
    "# Loop through each cycle and calculate the CUE from the exchange fluxes\n",
    "for index, row in fluxes.iterrows():\n",
    "    # Get the exchange fluxes for the current cycle\n",
    "    c_ex_fluxes = [float(row[r]) * -c for r, c in c_ex_rxns.items()]\n",
    "    # Calculate the CUE for the current cycle and add it to the cue array\n",
    "    uptake = sum([flux for flux in c_ex_fluxes if flux > 0])\n",
    "    release = sum([flux for flux in c_ex_fluxes if flux < 0])\n",
    "    if uptake == 0:\n",
    "        cue_list.append(0)\n",
    "    else:\n",
    "        cue = 1 + release/uptake\n",
    "    cue_list.append(cue)"
   ]
  },
  {
   "cell_type": "code",
   "execution_count": 115,
   "metadata": {},
   "outputs": [
    {
     "data": {
      "text/plain": [
       "[0.4263944737657729,\n",
       " 0.42639459359631016,\n",
       " 0.4263947203838322,\n",
       " 0.42639485444983827,\n",
       " 0.42639499631016553,\n",
       " 0.4263951463903687,\n",
       " 0.426395305170286,\n",
       " 0.4263954731457754,\n",
       " 0.426395650937722,\n",
       " 0.42639583904981804,\n",
       " 0.4263960381183771,\n",
       " 0.42639624882836424,\n",
       " 0.42639647187678353,\n",
       " 0.426396707968697,\n",
       " 0.4263969579184881,\n",
       " 0.426397222557774,\n",
       " 0.42639750283035505,\n",
       " 0.42639779961915814,\n",
       " 0.4263981139569635,\n",
       " 0.42639844697919516,\n",
       " 0.42639879976304396,\n",
       " 0.4263991736047279,\n",
       " 0.42639956977795,\n",
       " 0.4263999897133519,\n",
       " 0.42640043489665536,\n",
       " 0.4264009069481296,\n",
       " 0.4264014075635103,\n",
       " 0.4264019385968547,\n",
       " 0.42640250204829566,\n",
       " 0.42640309999699577,\n",
       " 0.426403734711143,\n",
       " 0.4264044087083384,\n",
       " 0.42640512447496437,\n",
       " 0.4264058849812624,\n",
       " 0.4264066931512588,\n",
       " 0.4264075523922871,\n",
       " 0.42640846611596495,\n",
       " 0.42640943825727784,\n",
       " 0.42641047293848455,\n",
       " 0.4264115746008791,\n",
       " 0.42641274819881425,\n",
       " 0.4264139990209841,\n",
       " 0.42641533285469346,\n",
       " 0.4264167559363985,\n",
       " 0.4264182752177359,\n",
       " 0.4264198981738494,\n",
       " 0.42642163308952885,\n",
       " 0.426423488990748,\n",
       " 0.42642547589131696,\n",
       " 0.42642760479200403,\n",
       " 0.42642988787067404,\n",
       " 0.4264323385633979,\n",
       " 0.42643497197217506,\n",
       " 0.4264378047443321,\n",
       " 0.4264408555880662,\n",
       " 0.4264441455126434,\n",
       " 0.42644769808383143,\n",
       " 0.42645153998417495,\n",
       " 0.42645570140952294,\n",
       " 0.4264602167851518,\n",
       " 0.42646512542634774,\n",
       " 0.42647047254917125,\n",
       " 0.42647631030301125,\n",
       " 0.42648269924173277,\n",
       " 0.4264897100952735,\n",
       " 0.4264974258537769,\n",
       " 0.42650594481656545,\n",
       " 0.4265153840802892,\n",
       " 0.4265258842885288,\n",
       " 0.4265376160242659,\n",
       " 0.4265507879715694,\n",
       " 0.4265656584304779,\n",
       " 0.42658255102249953,\n",
       " 0.4266018764263897,\n",
       " 0.42662416411018345,\n",
       " 0.42665010855818775,\n",
       " 0.42668063892106733,\n",
       " 0.4267170272733106,\n",
       " 0.42676106302029027,\n",
       " 0.426815345259164,\n",
       " 0.42688379922630626,\n",
       " 0.4269726448497332,\n",
       " 0.42709235887425456,\n",
       " 0.4272620625710164,\n",
       " 0.4275207361581034,\n",
       " 0.4279619528097942,\n",
       " 0.42888028718211957,\n",
       " 0.43192231047111074,\n",
       " 0.40196352892633,\n",
       " 0.40196352892633,\n",
       " 0.40196352892633,\n",
       " 0.40196352892633,\n",
       " 0.40196352892633,\n",
       " 0.40196352892633,\n",
       " 0.40196352892633,\n",
       " 0.40196352892633,\n",
       " 0.40196352892633,\n",
       " 0.40196352892633,\n",
       " 0.40196352892633,\n",
       " 0.40196352892633,\n",
       " 0.40196352892633,\n",
       " 0.40196352892633,\n",
       " 0.40196352892633,\n",
       " 0.40196352892633,\n",
       " 0.40196352892633,\n",
       " 0.40196352892633,\n",
       " 0.40196352892633,\n",
       " 0.40196352892633,\n",
       " 0,\n",
       " 0.40196352892633,\n",
       " 0,\n",
       " 0.40196352892633,\n",
       " 0,\n",
       " 0.40196352892633,\n",
       " 0,\n",
       " 0.40196352892633,\n",
       " 0,\n",
       " 0.40196352892633,\n",
       " 0,\n",
       " 0.40196352892633,\n",
       " 0,\n",
       " 0.40196352892633,\n",
       " 0,\n",
       " 0.40196352892633,\n",
       " 0,\n",
       " 0.40196352892633,\n",
       " 0,\n",
       " 0.40196352892633,\n",
       " 0,\n",
       " 0.40196352892633,\n",
       " 0,\n",
       " 0.40196352892633,\n",
       " 0,\n",
       " 0.40196352892633,\n",
       " 0,\n",
       " 0.40196352892633,\n",
       " 0,\n",
       " 0.40196352892633,\n",
       " 0,\n",
       " 0.40196352892633,\n",
       " 0,\n",
       " 0.40196352892633,\n",
       " 0,\n",
       " 0.40196352892633,\n",
       " 0,\n",
       " 0.40196352892633,\n",
       " 0,\n",
       " 0.40196352892633,\n",
       " 0,\n",
       " 0.40196352892633,\n",
       " 0,\n",
       " 0.40196352892633,\n",
       " 0,\n",
       " 0.40196352892633,\n",
       " 0,\n",
       " 0.40196352892633,\n",
       " 0,\n",
       " 0.40196352892633,\n",
       " 0,\n",
       " 0.40196352892633,\n",
       " 0,\n",
       " 0.40196352892633,\n",
       " 0,\n",
       " 0.40196352892633,\n",
       " 0,\n",
       " 0.40196352892633,\n",
       " 0,\n",
       " 0.40196352892633,\n",
       " 0,\n",
       " 0.40196352892633,\n",
       " 0,\n",
       " 0.40196352892633,\n",
       " 0,\n",
       " 0.40196352892633,\n",
       " 0,\n",
       " 0.40196352892633,\n",
       " 0,\n",
       " 0.40196352892633,\n",
       " 0,\n",
       " 0.40196352892633,\n",
       " 0,\n",
       " 0.40196352892633,\n",
       " 0,\n",
       " 0.40196352892633,\n",
       " 0,\n",
       " 0.40196352892633,\n",
       " 0,\n",
       " 0.40196352892633,\n",
       " 0,\n",
       " 0.40196352892633,\n",
       " 0,\n",
       " 0.40196352892633,\n",
       " 0,\n",
       " 0.40196352892633,\n",
       " 0,\n",
       " 0.40196352892633,\n",
       " 0,\n",
       " 0.40196352892633,\n",
       " 0,\n",
       " 0.40196352892633,\n",
       " 0,\n",
       " 0.40196352892633,\n",
       " 0,\n",
       " 0.40196352892633,\n",
       " 0,\n",
       " 0.40196352892633,\n",
       " 0,\n",
       " 0.40196352892633,\n",
       " 0,\n",
       " 0.40196352892633,\n",
       " 0,\n",
       " 0.40196352892633,\n",
       " 0,\n",
       " 0.40196352892633,\n",
       " 0,\n",
       " 0.40196352892633,\n",
       " 0,\n",
       " 0.40196352892633,\n",
       " 0,\n",
       " 0.40196352892633,\n",
       " 0,\n",
       " 0.40196352892633,\n",
       " 0,\n",
       " 0.40196352892633,\n",
       " 0,\n",
       " 0.40196352892633,\n",
       " 0,\n",
       " 0.40196352892633,\n",
       " 0,\n",
       " 0.40196352892633,\n",
       " 0,\n",
       " 0.40196352892633,\n",
       " 0,\n",
       " 0.40196352892633,\n",
       " 0,\n",
       " 0.40196352892633,\n",
       " 0,\n",
       " 0.40196352892633,\n",
       " 0,\n",
       " 0.40196352892633,\n",
       " 0,\n",
       " 0.40196352892633,\n",
       " 0,\n",
       " 0.40196352892633,\n",
       " 0,\n",
       " 0.40196352892633,\n",
       " 0,\n",
       " 0.40196352892633,\n",
       " 0,\n",
       " 0.40196352892633,\n",
       " 0,\n",
       " 0.40196352892633,\n",
       " 0,\n",
       " 0.40196352892633,\n",
       " 0,\n",
       " 0.40196352892633,\n",
       " 0,\n",
       " 0.40196352892633,\n",
       " 0,\n",
       " 0.40196352892633,\n",
       " 0,\n",
       " 0.40196352892633,\n",
       " 0,\n",
       " 0.40196352892633,\n",
       " 0,\n",
       " 0.40196352892633,\n",
       " 0,\n",
       " 0.40196352892633,\n",
       " 0,\n",
       " 0.40196352892633,\n",
       " 0,\n",
       " 0.40196352892633,\n",
       " 0,\n",
       " 0.40196352892633,\n",
       " 0,\n",
       " 0.40196352892633,\n",
       " 0,\n",
       " 0.40196352892633,\n",
       " 0,\n",
       " 0.40196352892633,\n",
       " 0,\n",
       " 0.40196352892633,\n",
       " 0,\n",
       " 0.40196352892633,\n",
       " 0,\n",
       " 0.40196352892633,\n",
       " 0,\n",
       " 0.40196352892633,\n",
       " 0,\n",
       " 0.40196352892633,\n",
       " 0,\n",
       " 0.40196352892633]"
      ]
     },
     "execution_count": 115,
     "metadata": {},
     "output_type": "execute_result"
    }
   ],
   "source": [
    "cue_list"
   ]
  },
  {
   "cell_type": "code",
   "execution_count": 116,
   "metadata": {},
   "outputs": [
    {
     "data": {
      "text/plain": [
       "292"
      ]
     },
     "execution_count": 116,
     "metadata": {},
     "output_type": "execute_result"
    }
   ],
   "source": [
    "len(cue_list)"
   ]
  },
  {
   "cell_type": "code",
   "execution_count": 117,
   "metadata": {},
   "outputs": [
    {
     "data": {
      "text/plain": [
       "[<matplotlib.lines.Line2D at 0x159355640>]"
      ]
     },
     "execution_count": 117,
     "metadata": {},
     "output_type": "execute_result"
    },
    {
     "data": {
      "image/png": "[encoded data removed]",
      "text/plain": [
       "<Figure size 640x480 with 1 Axes>"
      ]
     },
     "metadata": {},
     "output_type": "display_data"
    }
   ],
   "source": [
    "# Plot the CUE for each cycle\n",
    "fig, ax = plt.subplots()\n",
    "ax.plot(cue_list)\n",
    "# Fix so x axis is labeled by cycle\n",
    "ax.set_xlabel(\"Cycle\")"
   ]
  },
  {
   "cell_type": "code",
   "execution_count": 118,
   "metadata": {},
   "outputs": [],
   "source": [
    "row = fluxes[fluxes.cycle == 5]"
   ]
  },
  {
   "cell_type": "code",
   "execution_count": 119,
   "metadata": {},
   "outputs": [
    {
     "data": {
      "text/html": [
       "<div>\n",
       "<style scoped>\n",
       "    .dataframe tbody tr th:only-of-type {\n",
       "        vertical-align: middle;\n",
       "    }\n",
       "\n",
       "    .dataframe tbody tr th {\n",
       "        vertical-align: top;\n",
       "    }\n",
       "\n",
       "    .dataframe thead th {\n",
       "        text-align: right;\n",
       "    }\n",
       "</style>\n",
       "<table border=\"1\" class=\"dataframe\">\n",
       "  <thead>\n",
       "    <tr style=\"text-align: right;\">\n",
       "      <th></th>\n",
       "      <th>cycle</th>\n",
       "      <th>x</th>\n",
       "      <th>y</th>\n",
       "      <th>ACALD</th>\n",
       "      <th>ACALDt</th>\n",
       "      <th>ACKr</th>\n",
       "      <th>ACONTa</th>\n",
       "      <th>ACONTb</th>\n",
       "      <th>ACt2r</th>\n",
       "      <th>ADK1</th>\n",
       "      <th>...</th>\n",
       "      <th>RPI</th>\n",
       "      <th>SUCCt2_2</th>\n",
       "      <th>SUCCt3</th>\n",
       "      <th>SUCDi</th>\n",
       "      <th>SUCOAS</th>\n",
       "      <th>TALA</th>\n",
       "      <th>THD2</th>\n",
       "      <th>TKT1</th>\n",
       "      <th>TKT2</th>\n",
       "      <th>TPI</th>\n",
       "    </tr>\n",
       "  </thead>\n",
       "  <tbody>\n",
       "    <tr>\n",
       "      <th>0</th>\n",
       "      <td>5</td>\n",
       "      <td>1</td>\n",
       "      <td>1</td>\n",
       "      <td>0.0</td>\n",
       "      <td>0.0</td>\n",
       "      <td>-20.069009</td>\n",
       "      <td>1.198307</td>\n",
       "      <td>1.198307</td>\n",
       "      <td>-20.069009</td>\n",
       "      <td>0.0</td>\n",
       "      <td>...</td>\n",
       "      <td>-0.798353</td>\n",
       "      <td>0.0</td>\n",
       "      <td>0.0</td>\n",
       "      <td>0.0</td>\n",
       "      <td>0.0</td>\n",
       "      <td>-0.1987</td>\n",
       "      <td>19.043737</td>\n",
       "      <td>-0.1987</td>\n",
       "      <td>-0.599653</td>\n",
       "      <td>17.37001</td>\n",
       "    </tr>\n",
       "  </tbody>\n",
       "</table>\n",
       "<p>1 rows × 98 columns</p>\n",
       "</div>"
      ],
      "text/plain": [
       "   cycle  x  y  ACALD  ACALDt       ACKr    ACONTa    ACONTb      ACt2r  ADK1  \\\n",
       "0      5  1  1    0.0     0.0 -20.069009  1.198307  1.198307 -20.069009   0.0   \n",
       "\n",
       "   ...       RPI  SUCCt2_2  SUCCt3  SUCDi  SUCOAS    TALA       THD2    TKT1  \\\n",
       "0  ... -0.798353       0.0     0.0    0.0     0.0 -0.1987  19.043737 -0.1987   \n",
       "\n",
       "       TKT2       TPI  \n",
       "0 -0.599653  17.37001  \n",
       "\n",
       "[1 rows x 98 columns]"
      ]
     },
     "execution_count": 119,
     "metadata": {},
     "output_type": "execute_result"
    }
   ],
   "source": [
    "row"
   ]
  },
  {
   "cell_type": "code",
   "execution_count": 120,
   "metadata": {},
   "outputs": [],
   "source": [
    "c_ex_fluxes = [float(row[r]) * -c for r, c in c_ex_rxns.items()]"
   ]
  },
  {
   "cell_type": "code",
   "execution_count": 121,
   "metadata": {},
   "outputs": [
    {
     "data": {
      "text/plain": [
       "[-40.138018892,\n",
       " 0.0,\n",
       " 0.0,\n",
       " -16.122641044,\n",
       " 0.0,\n",
       " -7.3228191098,\n",
       " 0.0,\n",
       " 0.0,\n",
       " 110.84879091600001,\n",
       " 0.0,\n",
       " 0.0,\n",
       " 0.0,\n",
       " 0.0,\n",
       " 0.0,\n",
       " 0.0]"
      ]
     },
     "execution_count": 121,
     "metadata": {},
     "output_type": "execute_result"
    }
   ],
   "source": [
    "c_ex_fluxes"
   ]
  },
  {
   "cell_type": "code",
   "execution_count": 122,
   "metadata": {},
   "outputs": [
    {
     "data": {
      "text/plain": [
       "-63.5834790458"
      ]
     },
     "execution_count": 122,
     "metadata": {},
     "output_type": "execute_result"
    }
   ],
   "source": [
    "sum([flux for flux in c_ex_fluxes if flux < 0])"
   ]
  },
  {
   "cell_type": "code",
   "execution_count": 123,
   "metadata": {},
   "outputs": [
    {
     "data": {
      "text/plain": [
       "110.84879091600001"
      ]
     },
     "execution_count": 123,
     "metadata": {},
     "output_type": "execute_result"
    }
   ],
   "source": [
    "sum([flux for flux in c_ex_fluxes if flux > 0])"
   ]
  },
  {
   "cell_type": "code",
   "execution_count": 124,
   "metadata": {},
   "outputs": [
    {
     "data": {
      "text/plain": [
       "0.4263944737657729"
      ]
     },
     "execution_count": 124,
     "metadata": {},
     "output_type": "execute_result"
    }
   ],
   "source": [
    "1 + sum([flux for flux in c_ex_fluxes if flux < 0]) / sum([flux for flux in c_ex_fluxes if flux > 0])"
   ]
  },
  {
   "cell_type": "code",
   "execution_count": 125,
   "metadata": {},
   "outputs": [
    {
     "data": {
      "text/plain": [
       "'EX_ac_e'"
      ]
     },
     "execution_count": 125,
     "metadata": {},
     "output_type": "execute_result"
    }
   ],
   "source": [
    "list(c_ex_rxns.items())[0][0]"
   ]
  },
  {
   "cell_type": "code",
   "execution_count": 126,
   "metadata": {},
   "outputs": [
    {
     "data": {
      "text/plain": [
       "20.069009446"
      ]
     },
     "execution_count": 126,
     "metadata": {},
     "output_type": "execute_result"
    }
   ],
   "source": [
    "float(row['EX_ac_e'])"
   ]
  },
  {
   "cell_type": "code",
   "execution_count": 127,
   "metadata": {},
   "outputs": [
    {
     "data": {
      "text/html": [
       "<div>\n",
       "<style scoped>\n",
       "    .dataframe tbody tr th:only-of-type {\n",
       "        vertical-align: middle;\n",
       "    }\n",
       "\n",
       "    .dataframe tbody tr th {\n",
       "        vertical-align: top;\n",
       "    }\n",
       "\n",
       "    .dataframe thead th {\n",
       "        text-align: right;\n",
       "    }\n",
       "</style>\n",
       "<table border=\"1\" class=\"dataframe\">\n",
       "  <thead>\n",
       "    <tr style=\"text-align: right;\">\n",
       "      <th></th>\n",
       "      <th>cycle</th>\n",
       "      <th>x</th>\n",
       "      <th>y</th>\n",
       "      <th>ACALD</th>\n",
       "      <th>ACALDt</th>\n",
       "      <th>ACKr</th>\n",
       "      <th>ACONTa</th>\n",
       "      <th>ACONTb</th>\n",
       "      <th>ACt2r</th>\n",
       "      <th>ADK1</th>\n",
       "      <th>...</th>\n",
       "      <th>RPI</th>\n",
       "      <th>SUCCt2_2</th>\n",
       "      <th>SUCCt3</th>\n",
       "      <th>SUCDi</th>\n",
       "      <th>SUCOAS</th>\n",
       "      <th>TALA</th>\n",
       "      <th>THD2</th>\n",
       "      <th>TKT1</th>\n",
       "      <th>TKT2</th>\n",
       "      <th>TPI</th>\n",
       "    </tr>\n",
       "  </thead>\n",
       "  <tbody>\n",
       "    <tr>\n",
       "      <th>0</th>\n",
       "      <td>5</td>\n",
       "      <td>1</td>\n",
       "      <td>1</td>\n",
       "      <td>0.0</td>\n",
       "      <td>0.0</td>\n",
       "      <td>-20.069009</td>\n",
       "      <td>1.198307</td>\n",
       "      <td>1.198307</td>\n",
       "      <td>-20.069009</td>\n",
       "      <td>0.0</td>\n",
       "      <td>...</td>\n",
       "      <td>-0.798353</td>\n",
       "      <td>0.0</td>\n",
       "      <td>0.0</td>\n",
       "      <td>0.0</td>\n",
       "      <td>0.0</td>\n",
       "      <td>-0.198700</td>\n",
       "      <td>19.043737</td>\n",
       "      <td>-0.198700</td>\n",
       "      <td>-0.599653</td>\n",
       "      <td>17.370010</td>\n",
       "    </tr>\n",
       "    <tr>\n",
       "      <th>1</th>\n",
       "      <td>10</td>\n",
       "      <td>1</td>\n",
       "      <td>1</td>\n",
       "      <td>0.0</td>\n",
       "      <td>0.0</td>\n",
       "      <td>-20.068992</td>\n",
       "      <td>1.198306</td>\n",
       "      <td>1.198306</td>\n",
       "      <td>-20.068992</td>\n",
       "      <td>0.0</td>\n",
       "      <td>...</td>\n",
       "      <td>-0.798353</td>\n",
       "      <td>0.0</td>\n",
       "      <td>0.0</td>\n",
       "      <td>0.0</td>\n",
       "      <td>0.0</td>\n",
       "      <td>-0.198700</td>\n",
       "      <td>19.043731</td>\n",
       "      <td>-0.198700</td>\n",
       "      <td>-0.599653</td>\n",
       "      <td>17.370000</td>\n",
       "    </tr>\n",
       "    <tr>\n",
       "      <th>2</th>\n",
       "      <td>15</td>\n",
       "      <td>1</td>\n",
       "      <td>1</td>\n",
       "      <td>0.0</td>\n",
       "      <td>0.0</td>\n",
       "      <td>-20.068974</td>\n",
       "      <td>1.198306</td>\n",
       "      <td>1.198306</td>\n",
       "      <td>-20.068974</td>\n",
       "      <td>0.0</td>\n",
       "      <td>...</td>\n",
       "      <td>-0.798352</td>\n",
       "      <td>0.0</td>\n",
       "      <td>0.0</td>\n",
       "      <td>0.0</td>\n",
       "      <td>0.0</td>\n",
       "      <td>-0.198700</td>\n",
       "      <td>19.043724</td>\n",
       "      <td>-0.198700</td>\n",
       "      <td>-0.599653</td>\n",
       "      <td>17.369988</td>\n",
       "    </tr>\n",
       "    <tr>\n",
       "      <th>3</th>\n",
       "      <td>20</td>\n",
       "      <td>1</td>\n",
       "      <td>1</td>\n",
       "      <td>0.0</td>\n",
       "      <td>0.0</td>\n",
       "      <td>-20.068955</td>\n",
       "      <td>1.198306</td>\n",
       "      <td>1.198306</td>\n",
       "      <td>-20.068955</td>\n",
       "      <td>0.0</td>\n",
       "      <td>...</td>\n",
       "      <td>-0.798352</td>\n",
       "      <td>0.0</td>\n",
       "      <td>0.0</td>\n",
       "      <td>0.0</td>\n",
       "      <td>0.0</td>\n",
       "      <td>-0.198699</td>\n",
       "      <td>19.043717</td>\n",
       "      <td>-0.198699</td>\n",
       "      <td>-0.599653</td>\n",
       "      <td>17.369976</td>\n",
       "    </tr>\n",
       "    <tr>\n",
       "      <th>4</th>\n",
       "      <td>25</td>\n",
       "      <td>1</td>\n",
       "      <td>1</td>\n",
       "      <td>0.0</td>\n",
       "      <td>0.0</td>\n",
       "      <td>-20.068935</td>\n",
       "      <td>1.198305</td>\n",
       "      <td>1.198305</td>\n",
       "      <td>-20.068935</td>\n",
       "      <td>0.0</td>\n",
       "      <td>...</td>\n",
       "      <td>-0.798352</td>\n",
       "      <td>0.0</td>\n",
       "      <td>0.0</td>\n",
       "      <td>0.0</td>\n",
       "      <td>0.0</td>\n",
       "      <td>-0.198699</td>\n",
       "      <td>19.043710</td>\n",
       "      <td>-0.198699</td>\n",
       "      <td>-0.599652</td>\n",
       "      <td>17.369963</td>\n",
       "    </tr>\n",
       "    <tr>\n",
       "      <th>...</th>\n",
       "      <td>...</td>\n",
       "      <td>...</td>\n",
       "      <td>...</td>\n",
       "      <td>...</td>\n",
       "      <td>...</td>\n",
       "      <td>...</td>\n",
       "      <td>...</td>\n",
       "      <td>...</td>\n",
       "      <td>...</td>\n",
       "      <td>...</td>\n",
       "      <td>...</td>\n",
       "      <td>...</td>\n",
       "      <td>...</td>\n",
       "      <td>...</td>\n",
       "      <td>...</td>\n",
       "      <td>...</td>\n",
       "      <td>...</td>\n",
       "      <td>...</td>\n",
       "      <td>...</td>\n",
       "      <td>...</td>\n",
       "      <td>...</td>\n",
       "    </tr>\n",
       "    <tr>\n",
       "      <th>195</th>\n",
       "      <td>980</td>\n",
       "      <td>1</td>\n",
       "      <td>1</td>\n",
       "      <td>0.0</td>\n",
       "      <td>0.0</td>\n",
       "      <td>0.000000</td>\n",
       "      <td>0.000000</td>\n",
       "      <td>0.000000</td>\n",
       "      <td>0.000000</td>\n",
       "      <td>0.0</td>\n",
       "      <td>...</td>\n",
       "      <td>0.000000</td>\n",
       "      <td>0.0</td>\n",
       "      <td>0.0</td>\n",
       "      <td>0.0</td>\n",
       "      <td>0.0</td>\n",
       "      <td>0.000000</td>\n",
       "      <td>0.000000</td>\n",
       "      <td>0.000000</td>\n",
       "      <td>0.000000</td>\n",
       "      <td>0.000000</td>\n",
       "    </tr>\n",
       "    <tr>\n",
       "      <th>196</th>\n",
       "      <td>985</td>\n",
       "      <td>1</td>\n",
       "      <td>1</td>\n",
       "      <td>0.0</td>\n",
       "      <td>0.0</td>\n",
       "      <td>0.000000</td>\n",
       "      <td>0.000000</td>\n",
       "      <td>0.000000</td>\n",
       "      <td>0.000000</td>\n",
       "      <td>0.0</td>\n",
       "      <td>...</td>\n",
       "      <td>0.000000</td>\n",
       "      <td>0.0</td>\n",
       "      <td>0.0</td>\n",
       "      <td>0.0</td>\n",
       "      <td>0.0</td>\n",
       "      <td>0.000000</td>\n",
       "      <td>0.000000</td>\n",
       "      <td>0.000000</td>\n",
       "      <td>0.000000</td>\n",
       "      <td>0.000000</td>\n",
       "    </tr>\n",
       "    <tr>\n",
       "      <th>197</th>\n",
       "      <td>990</td>\n",
       "      <td>1</td>\n",
       "      <td>1</td>\n",
       "      <td>0.0</td>\n",
       "      <td>0.0</td>\n",
       "      <td>0.000000</td>\n",
       "      <td>0.000000</td>\n",
       "      <td>0.000000</td>\n",
       "      <td>0.000000</td>\n",
       "      <td>0.0</td>\n",
       "      <td>...</td>\n",
       "      <td>0.000000</td>\n",
       "      <td>0.0</td>\n",
       "      <td>0.0</td>\n",
       "      <td>0.0</td>\n",
       "      <td>0.0</td>\n",
       "      <td>0.000000</td>\n",
       "      <td>0.000000</td>\n",
       "      <td>0.000000</td>\n",
       "      <td>0.000000</td>\n",
       "      <td>0.000000</td>\n",
       "    </tr>\n",
       "    <tr>\n",
       "      <th>198</th>\n",
       "      <td>995</td>\n",
       "      <td>1</td>\n",
       "      <td>1</td>\n",
       "      <td>0.0</td>\n",
       "      <td>0.0</td>\n",
       "      <td>0.000000</td>\n",
       "      <td>0.000000</td>\n",
       "      <td>0.000000</td>\n",
       "      <td>0.000000</td>\n",
       "      <td>0.0</td>\n",
       "      <td>...</td>\n",
       "      <td>0.000000</td>\n",
       "      <td>0.0</td>\n",
       "      <td>0.0</td>\n",
       "      <td>0.0</td>\n",
       "      <td>0.0</td>\n",
       "      <td>0.000000</td>\n",
       "      <td>0.000000</td>\n",
       "      <td>0.000000</td>\n",
       "      <td>0.000000</td>\n",
       "      <td>0.000000</td>\n",
       "    </tr>\n",
       "    <tr>\n",
       "      <th>199</th>\n",
       "      <td>1000</td>\n",
       "      <td>1</td>\n",
       "      <td>1</td>\n",
       "      <td>0.0</td>\n",
       "      <td>0.0</td>\n",
       "      <td>0.000000</td>\n",
       "      <td>0.000000</td>\n",
       "      <td>0.000000</td>\n",
       "      <td>0.000000</td>\n",
       "      <td>0.0</td>\n",
       "      <td>...</td>\n",
       "      <td>0.000000</td>\n",
       "      <td>0.0</td>\n",
       "      <td>0.0</td>\n",
       "      <td>0.0</td>\n",
       "      <td>0.0</td>\n",
       "      <td>0.000000</td>\n",
       "      <td>0.000000</td>\n",
       "      <td>0.000000</td>\n",
       "      <td>0.000000</td>\n",
       "      <td>0.000000</td>\n",
       "    </tr>\n",
       "  </tbody>\n",
       "</table>\n",
       "<p>200 rows × 98 columns</p>\n",
       "</div>"
      ],
      "text/plain": [
       "     cycle  x  y  ACALD  ACALDt       ACKr    ACONTa    ACONTb      ACt2r  \\\n",
       "0        5  1  1    0.0     0.0 -20.069009  1.198307  1.198307 -20.069009   \n",
       "1       10  1  1    0.0     0.0 -20.068992  1.198306  1.198306 -20.068992   \n",
       "2       15  1  1    0.0     0.0 -20.068974  1.198306  1.198306 -20.068974   \n",
       "3       20  1  1    0.0     0.0 -20.068955  1.198306  1.198306 -20.068955   \n",
       "4       25  1  1    0.0     0.0 -20.068935  1.198305  1.198305 -20.068935   \n",
       "..     ... .. ..    ...     ...        ...       ...       ...        ...   \n",
       "195    980  1  1    0.0     0.0   0.000000  0.000000  0.000000   0.000000   \n",
       "196    985  1  1    0.0     0.0   0.000000  0.000000  0.000000   0.000000   \n",
       "197    990  1  1    0.0     0.0   0.000000  0.000000  0.000000   0.000000   \n",
       "198    995  1  1    0.0     0.0   0.000000  0.000000  0.000000   0.000000   \n",
       "199   1000  1  1    0.0     0.0   0.000000  0.000000  0.000000   0.000000   \n",
       "\n",
       "     ADK1  ...       RPI  SUCCt2_2  SUCCt3  SUCDi  SUCOAS      TALA  \\\n",
       "0     0.0  ... -0.798353       0.0     0.0    0.0     0.0 -0.198700   \n",
       "1     0.0  ... -0.798353       0.0     0.0    0.0     0.0 -0.198700   \n",
       "2     0.0  ... -0.798352       0.0     0.0    0.0     0.0 -0.198700   \n",
       "3     0.0  ... -0.798352       0.0     0.0    0.0     0.0 -0.198699   \n",
       "4     0.0  ... -0.798352       0.0     0.0    0.0     0.0 -0.198699   \n",
       "..    ...  ...       ...       ...     ...    ...     ...       ...   \n",
       "195   0.0  ...  0.000000       0.0     0.0    0.0     0.0  0.000000   \n",
       "196   0.0  ...  0.000000       0.0     0.0    0.0     0.0  0.000000   \n",
       "197   0.0  ...  0.000000       0.0     0.0    0.0     0.0  0.000000   \n",
       "198   0.0  ...  0.000000       0.0     0.0    0.0     0.0  0.000000   \n",
       "199   0.0  ...  0.000000       0.0     0.0    0.0     0.0  0.000000   \n",
       "\n",
       "          THD2      TKT1      TKT2        TPI  \n",
       "0    19.043737 -0.198700 -0.599653  17.370010  \n",
       "1    19.043731 -0.198700 -0.599653  17.370000  \n",
       "2    19.043724 -0.198700 -0.599653  17.369988  \n",
       "3    19.043717 -0.198699 -0.599653  17.369976  \n",
       "4    19.043710 -0.198699 -0.599652  17.369963  \n",
       "..         ...       ...       ...        ...  \n",
       "195   0.000000  0.000000  0.000000   0.000000  \n",
       "196   0.000000  0.000000  0.000000   0.000000  \n",
       "197   0.000000  0.000000  0.000000   0.000000  \n",
       "198   0.000000  0.000000  0.000000   0.000000  \n",
       "199   0.000000  0.000000  0.000000   0.000000  \n",
       "\n",
       "[200 rows x 98 columns]"
      ]
     },
     "execution_count": 127,
     "metadata": {},
     "output_type": "execute_result"
    }
   ],
   "source": [
    "# Look at the \n",
    "# Not necessary, just useful when writing the equation\n",
    "experiment.fluxes_by_species['e_coli_core']"
   ]
  },
  {
   "cell_type": "code",
   "execution_count": 128,
   "metadata": {},
   "outputs": [
    {
     "data": {
      "text/plain": [
       "0.40196352892633"
      ]
     },
     "execution_count": 128,
     "metadata": {},
     "output_type": "execute_result"
    }
   ],
   "source": [
    "cue"
   ]
  },
  {
   "cell_type": "code",
   "execution_count": 129,
   "metadata": {},
   "outputs": [
    {
     "data": {
      "text/plain": [
       "[<Reaction ACALD at 0x159002a30>,\n",
       " <Reaction ACALDt at 0x1590670d0>,\n",
       " <Reaction ACKr at 0x159067d30>,\n",
       " <Reaction ACONTa at 0x159067bb0>,\n",
       " <Reaction ACONTb at 0x15906b610>,\n",
       " <Reaction ACt2r at 0x15906b820>,\n",
       " <Reaction ADK1 at 0x159067fd0>,\n",
       " <Reaction AKGDH at 0x159067b20>,\n",
       " <Reaction AKGt2r at 0x15906e310>,\n",
       " <Reaction ALCD2x at 0x15906ea00>,\n",
       " <Reaction ATPM at 0x15906e820>,\n",
       " <Reaction ATPS4r at 0x159067b50>,\n",
       " <Reaction Biomass_Ecoli_core at 0x1590676a0>,\n",
       " <Reaction CO2t at 0x159067700>,\n",
       " <Reaction CS at 0x15906e550>,\n",
       " <Reaction CYTBD at 0x159073f10>,\n",
       " <Reaction D_LACt2 at 0x1590735b0>,\n",
       " <Reaction ENO at 0x15907ee20>,\n",
       " <Reaction ETOHt2r at 0x15907ec40>,\n",
       " <Reaction EX_ac_e at 0x159073c70>,\n",
       " <Reaction EX_acald_e at 0x159073dc0>,\n",
       " <Reaction EX_akg_e at 0x15907eca0>,\n",
       " <Reaction EX_co2_e at 0x159073b20>,\n",
       " <Reaction EX_etoh_e at 0x15907e7f0>,\n",
       " <Reaction EX_for_e at 0x15907ec10>,\n",
       " <Reaction EX_fru_e at 0x159086bb0>,\n",
       " <Reaction EX_fum_e at 0x159086cd0>,\n",
       " <Reaction EX_glc__D_e at 0x159086df0>,\n",
       " <Reaction EX_gln__L_e at 0x159086fd0>,\n",
       " <Reaction EX_glu__L_e at 0x159086970>,\n",
       " <Reaction EX_h_e at 0x159086c40>,\n",
       " <Reaction EX_h2o_e at 0x159086730>,\n",
       " <Reaction EX_lac__D_e at 0x1590903d0>,\n",
       " <Reaction EX_mal__L_e at 0x1590904f0>,\n",
       " <Reaction EX_nh4_e at 0x159090610>,\n",
       " <Reaction EX_o2_e at 0x159090730>,\n",
       " <Reaction EX_pi_e at 0x159090850>,\n",
       " <Reaction EX_pyr_e at 0x159090970>,\n",
       " <Reaction EX_succ_e at 0x159090a90>,\n",
       " <Reaction FBA at 0x159090bb0>,\n",
       " <Reaction FBP at 0x159090cd0>,\n",
       " <Reaction FORt2 at 0x15909a400>,\n",
       " <Reaction FORti at 0x15909a2e0>,\n",
       " <Reaction FRD7 at 0x15909aa90>,\n",
       " <Reaction FRUpts2 at 0x15909aeb0>,\n",
       " <Reaction FUM at 0x1590a0580>,\n",
       " <Reaction FUMt2_2 at 0x1590a0bb0>,\n",
       " <Reaction G6PDH2r at 0x1590a0fd0>,\n",
       " <Reaction GAPD at 0x1590a0cd0>,\n",
       " <Reaction GLCpts at 0x1590a0af0>,\n",
       " <Reaction GLNS at 0x1590a8910>,\n",
       " <Reaction GLNabc at 0x1590a8f40>,\n",
       " <Reaction GLUDy at 0x1590a8d30>,\n",
       " <Reaction GLUN at 0x1590b1160>,\n",
       " <Reaction GLUSy at 0x1590b1280>,\n",
       " <Reaction GLUt2r at 0x1590b8d30>,\n",
       " <Reaction GND at 0x1590b8c10>,\n",
       " <Reaction H2Ot at 0x1590b8cd0>,\n",
       " <Reaction ICDHyr at 0x1590c06a0>,\n",
       " <Reaction ICL at 0x1590c0c70>,\n",
       " <Reaction LDH_D at 0x1590c0ca0>,\n",
       " <Reaction MALS at 0x1590c62b0>,\n",
       " <Reaction MALt2_2 at 0x1590c68e0>,\n",
       " <Reaction MDH at 0x1590c6c40>,\n",
       " <Reaction ME1 at 0x1590c6c70>,\n",
       " <Reaction ME2 at 0x1590c6910>,\n",
       " <Reaction NADH16 at 0x1590ce8e0>,\n",
       " <Reaction NADTRHD at 0x1590ced00>,\n",
       " <Reaction NH4t at 0x1590d7d00>,\n",
       " <Reaction O2t at 0x1590d7820>,\n",
       " <Reaction PDH at 0x1590d7520>,\n",
       " <Reaction PFK at 0x1590d7700>,\n",
       " <Reaction PFL at 0x1590ddbe0>,\n",
       " <Reaction PGI at 0x1590ddac0>,\n",
       " <Reaction PGK at 0x1590dddf0>,\n",
       " <Reaction PGL at 0x1590dde50>,\n",
       " <Reaction PGM at 0x1590e6820>,\n",
       " <Reaction PIt2r at 0x1590e65b0>,\n",
       " <Reaction PPC at 0x1590eb790>,\n",
       " <Reaction PPCK at 0x1590eb9a0>,\n",
       " <Reaction PPS at 0x1590eb730>,\n",
       " <Reaction PTAr at 0x1590ebd90>,\n",
       " <Reaction PYK at 0x1590f3280>,\n",
       " <Reaction PYRt2 at 0x1590f3d30>,\n",
       " <Reaction RPE at 0x1590ce4c0>,\n",
       " <Reaction RPI at 0x1590e6160>,\n",
       " <Reaction SUCCt2_2 at 0x1590fb910>,\n",
       " <Reaction SUCCt3 at 0x1590fbc10>,\n",
       " <Reaction SUCDi at 0x1590f3b80>,\n",
       " <Reaction SUCOAS at 0x1590fbdf0>,\n",
       " <Reaction TALA at 0x159303940>,\n",
       " <Reaction THD2 at 0x1593037c0>,\n",
       " <Reaction TKT1 at 0x159303f40>,\n",
       " <Reaction TKT2 at 0x15930b4c0>,\n",
       " <Reaction TPI at 0x15930bb50>]"
      ]
     },
     "execution_count": 129,
     "metadata": {},
     "output_type": "execute_result"
    }
   ],
   "source": [
    "e_coli_cobra.reactions"
   ]
  }
 ],
 "metadata": {
  "kernelspec": {
   "display_name": "base",
   "language": "python",
   "name": "python3"
  },
  "language_info": {
   "codemirror_mode": {
    "name": "ipython",
    "version": 3
   },
   "file_extension": ".py",
   "mimetype": "text/x-python",
   "name": "python",
   "nbconvert_exporter": "python",
   "pygments_lexer": "ipython3",
   "version": "3.9.13"
  },
  "orig_nbformat": 4,
  "vscode": {
   "interpreter": {
    "hash": "5ee899d5a686fcbb406810e4b8d4baf6ae3726e8507dfd4a7eda607d4a51ae84"
   }
  }
 },
 "nbformat": 4,
 "nbformat_minor": 2
}
