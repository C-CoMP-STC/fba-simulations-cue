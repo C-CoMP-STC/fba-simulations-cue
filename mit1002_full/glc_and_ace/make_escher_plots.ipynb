{
 "cells": [
  {
   "cell_type": "code",
   "execution_count": 3,
   "metadata": {},
   "outputs": [],
   "source": [
    "import escher\n",
    "from escher import Builder\n",
    "import cobra\n",
    "from time import sleep\n",
    "import os\n",
    "import pickle"
   ]
  },
  {
   "cell_type": "code",
   "execution_count": 4,
   "metadata": {},
   "outputs": [],
   "source": [
    "# Load the solutions\n",
    "# Load the results from the COBRA simulations\n",
    "with open('results.pkl', 'rb') as f:\n",
    "    cobra_results = pickle.load(f)"
   ]
  },
  {
   "cell_type": "code",
   "execution_count": 5,
   "metadata": {},
   "outputs": [
    {
     "data": {
      "text/plain": [
       "{'glc_medium_inf_o2_fba': <Solution 1.104 at 0x7fd188b72dc0>,\n",
       " 'glc_medium_inf_o2_pfba': <Solution 593.690 at 0x7fd18af03400>,\n",
       " 'ace_medium_inf_o2_fba': <Solution 0.524 at 0x7fd18af03be0>,\n",
       " 'ace_medium_inf_o2_pfba': <Solution 1066.703 at 0x7fd18af283d0>,\n",
       " 'glc_heavy_mix_medium_inf_o2_fba': <Solution 0.912 at 0x7fd18af28d30>,\n",
       " 'glc_heavy_mix_medium_inf_o2_pfba': <Solution 714.415 at 0x7fd1a0a2a880>,\n",
       " 'ace_heavy_mix_medium_inf_o2_fba': <Solution 0.720 at 0x7fd1a0a313d0>,\n",
       " 'ace_heavy_mix_medium_inf_o2_pfba': <Solution 886.210 at 0x7fd1a0a31ee0>,\n",
       " 'glc_medium_real_o2_fba': <Solution 1.104 at 0x7fd1a0a37a30>,\n",
       " 'glc_medium_real_o2_pfba': <Solution 593.690 at 0x7fd1a0a3e580>,\n",
       " 'ace_medium_real_o2_fba': <Solution 0.488 at 0x7fd1a0a440d0>,\n",
       " 'ace_medium_real_o2_pfba': <Solution 995.780 at 0x7fd1a0a44be0>,\n",
       " 'glc_heavy_mix_medium_real_o2_fba': <Solution 0.912 at 0x7fd1a0a4c730>,\n",
       " 'glc_heavy_mix_medium_real_o2_pfba': <Solution 714.415 at 0x7fd1a0a54280>,\n",
       " 'ace_heavy_mix_medium_real_o2_fba': <Solution 0.720 at 0x7fd1a0a54d90>,\n",
       " 'ace_heavy_mix_medium_real_o2_pfba': <Solution 886.210 at 0x7fd1a0a598e0>}"
      ]
     },
     "execution_count": 5,
     "metadata": {},
     "output_type": "execute_result"
    }
   ],
   "source": [
    "cobra_results"
   ]
  },
  {
   "cell_type": "code",
   "execution_count": 8,
   "metadata": {},
   "outputs": [
    {
     "data": {
      "application/vnd.jupyter.widget-view+json": {
       "model_id": "eca41ac08a7e4a9994e829faaa22eac3",
       "version_major": 2,
       "version_minor": 0
      },
      "text/plain": [
       "Builder(reaction_data={'rxn00247_c0': 0.0, 'rxn05625_c0': -3.5239759075541848, 'rxn02342_c0': 0.0, 'rxn06493_c…"
      ]
     },
     "metadata": {},
     "output_type": "display_data"
    }
   ],
   "source": [
    "# Make a map with the solution for glucose only\n",
    "glc_only_map = Builder(\n",
    "    map_json = 'core_with_acetate_map.json',\n",
    "    model_json='../../../../GEM-repos/mit1002-model/model.json',\n",
    "    reaction_data = cobra_results[\"glc_medium_inf_o2_fba\"].fluxes\n",
    ")\n",
    "glc_only_map"
   ]
  },
  {
   "cell_type": "code",
   "execution_count": 9,
   "metadata": {},
   "outputs": [
    {
     "data": {
      "application/vnd.jupyter.widget-view+json": {
       "model_id": "75e78296356e49dcb4bbed592cd93055",
       "version_major": 2,
       "version_minor": 0
      },
      "text/plain": [
       "Builder(reaction_data={'rxn00247_c0': 0.0, 'rxn05625_c0': -2.0500597860413476, 'rxn02342_c0': 0.0, 'rxn06493_c…"
      ]
     },
     "metadata": {},
     "output_type": "display_data"
    }
   ],
   "source": [
    "# Make a map with the solution for acetate only\n",
    "ace_only_map = Builder(\n",
    "    map_json = 'core_with_acetate_map.json',\n",
    "    model_json='../../../../GEM-repos/mit1002-model/model.json',\n",
    "    reaction_data = cobra_results[\"ace_medium_inf_o2_fba\"].fluxes\n",
    ")\n",
    "ace_only_map"
   ]
  },
  {
   "cell_type": "code",
   "execution_count": 6,
   "metadata": {},
   "outputs": [
    {
     "data": {
      "application/vnd.jupyter.widget-view+json": {
       "model_id": "c11b2f4974774b4bab2c968f4ec6ddec",
       "version_major": 2,
       "version_minor": 0
      },
      "text/plain": [
       "Builder(reaction_data={'rxn00247_c0': 0.0, 'rxn05625_c0': -3.023060988436947, 'rxn02342_c0': 0.0, 'rxn06493_c0…"
      ]
     },
     "metadata": {},
     "output_type": "display_data"
    }
   ],
   "source": [
    "# Make a map with the solution for the glucose heavy mixture\n",
    "glc_heavy_map = Builder(\n",
    "    map_json = 'core_with_acetate_map.json',\n",
    "    model_json='../../../../GEM-repos/mit1002-model/model.json',\n",
    "    reaction_data = cobra_results[\"glc_heavy_mix_medium_inf_o2_fba\"].fluxes\n",
    ")\n",
    "glc_heavy_map"
   ]
  },
  {
   "cell_type": "code",
   "execution_count": 7,
   "metadata": {},
   "outputs": [
    {
     "data": {
      "application/vnd.jupyter.widget-view+json": {
       "model_id": "b2d75860ff9b4e4fa9c6f83f65146d17",
       "version_major": 2,
       "version_minor": 0
      },
      "text/plain": [
       "Builder(reaction_data={'rxn00247_c0': 0.0, 'rxn05625_c0': -2.521804093950631, 'rxn02342_c0': 0.0, 'rxn06493_c0…"
      ]
     },
     "metadata": {},
     "output_type": "display_data"
    }
   ],
   "source": [
    "# Make a map with the solution for the acetate heavy mixture\n",
    "ace_heavy_map = Builder(\n",
    "    map_json = 'core_with_acetate_map.json',\n",
    "    model_json='../../../../GEM-repos/mit1002-model/model.json',\n",
    "    reaction_data = cobra_results[\"ace_heavy_mix_medium_inf_o2_fba\"].fluxes\n",
    ")\n",
    "ace_heavy_map"
   ]
  },
  {
   "cell_type": "code",
   "execution_count": 12,
   "metadata": {},
   "outputs": [
    {
     "data": {
      "application/vnd.jupyter.widget-view+json": {
       "model_id": "96643cf07bc84325b98502fd1ed34e6f",
       "version_major": 2,
       "version_minor": 0
      },
      "text/plain": [
       "Builder(reaction_data={'rxn00247_c0': 0.0, 'rxn05625_c0': 0.5009149191172377, 'rxn02342_c0': 0.0, 'rxn06493_c0…"
      ]
     },
     "metadata": {},
     "output_type": "display_data"
    }
   ],
   "source": [
    "# Get the difference the glucose and the glucose heacy mixture\n",
    "glc_diff_map = Builder(\n",
    "    map_json = 'core_with_acetate_map.json',\n",
    "    model_json='../../../../GEM-repos/mit1002-model/model.json',\n",
    "    reaction_data = cobra_results[\"glc_heavy_mix_medium_inf_o2_fba\"].fluxes - cobra_results[\"glc_medium_inf_o2_fba\"].fluxes\n",
    ")\n",
    "glc_diff_map"
   ]
  },
  {
   "cell_type": "code",
   "execution_count": null,
   "metadata": {},
   "outputs": [],
   "source": []
  }
 ],
 "metadata": {
  "kernelspec": {
   "display_name": "escher",
   "language": "python",
   "name": "python3"
  },
  "language_info": {
   "codemirror_mode": {
    "name": "ipython",
    "version": 3
   },
   "file_extension": ".py",
   "mimetype": "text/x-python",
   "name": "python",
   "nbconvert_exporter": "python",
   "pygments_lexer": "ipython3",
   "version": "3.8.17"
  }
 },
 "nbformat": 4,
 "nbformat_minor": 2
}
