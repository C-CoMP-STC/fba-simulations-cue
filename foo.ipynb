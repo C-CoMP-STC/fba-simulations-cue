{
 "cells": [
  {
   "cell_type": "code",
   "execution_count": 1,
   "metadata": {},
   "outputs": [],
   "source": [
    "import cobra"
   ]
  },
  {
   "cell_type": "code",
   "execution_count": 2,
   "metadata": {},
   "outputs": [
    {
     "name": "stdout",
     "output_type": "stream",
     "text": [
      "Scaling...\n",
      " A: min|aij| =  1.000e+00  max|aij| =  1.000e+00  ratio =  1.000e+00\n",
      "Problem data seem to be well scaled\n"
     ]
    }
   ],
   "source": [
    "# Load Haroon's model\n",
    "model = cobra.io.read_sbml_model(\"../../../../../Desktop/psimiae_utrecht_RASTtk_RCH2-Cytidine_WithExchangesAndTransports.xml\")"
   ]
  },
  {
   "cell_type": "code",
   "execution_count": 3,
   "metadata": {},
   "outputs": [
    {
     "data": {
      "text/plain": [
       "1649"
      ]
     },
     "execution_count": 3,
     "metadata": {},
     "output_type": "execute_result"
    }
   ],
   "source": [
    "len(model.reactions)"
   ]
  },
  {
   "cell_type": "code",
   "execution_count": 20,
   "metadata": {},
   "outputs": [],
   "source": [
    "model.reactions.EX_cpd00027_e0.lower_bound = -1"
   ]
  },
  {
   "cell_type": "code",
   "execution_count": 21,
   "metadata": {},
   "outputs": [
    {
     "data": {
      "text/html": [
       "<strong><em>Optimal</em> solution with objective value 170.452</strong><br><div>\n",
       "<style scoped>\n",
       "    .dataframe tbody tr th:only-of-type {\n",
       "        vertical-align: middle;\n",
       "    }\n",
       "\n",
       "    .dataframe tbody tr th {\n",
       "        vertical-align: top;\n",
       "    }\n",
       "\n",
       "    .dataframe thead th {\n",
       "        text-align: right;\n",
       "    }\n",
       "</style>\n",
       "<table border=\"1\" class=\"dataframe\">\n",
       "  <thead>\n",
       "    <tr style=\"text-align: right;\">\n",
       "      <th></th>\n",
       "      <th>fluxes</th>\n",
       "      <th>reduced_costs</th>\n",
       "    </tr>\n",
       "  </thead>\n",
       "  <tbody>\n",
       "    <tr>\n",
       "      <th>rxn05561_c0</th>\n",
       "      <td>0.000000</td>\n",
       "      <td>8.686597e-18</td>\n",
       "    </tr>\n",
       "    <tr>\n",
       "      <th>rxn00935_c0</th>\n",
       "      <td>0.000000</td>\n",
       "      <td>-1.747703e-18</td>\n",
       "    </tr>\n",
       "    <tr>\n",
       "      <th>rxn00247_c0</th>\n",
       "      <td>0.000000</td>\n",
       "      <td>-4.648684e-02</td>\n",
       "    </tr>\n",
       "    <tr>\n",
       "      <th>rxn05625_c0</th>\n",
       "      <td>-562.497511</td>\n",
       "      <td>-0.000000e+00</td>\n",
       "    </tr>\n",
       "    <tr>\n",
       "      <th>rxn02342_c0</th>\n",
       "      <td>0.000000</td>\n",
       "      <td>0.000000e+00</td>\n",
       "    </tr>\n",
       "    <tr>\n",
       "      <th>...</th>\n",
       "      <td>...</td>\n",
       "      <td>...</td>\n",
       "    </tr>\n",
       "    <tr>\n",
       "      <th>Transport_cpd00151_e0</th>\n",
       "      <td>0.000000</td>\n",
       "      <td>0.000000e+00</td>\n",
       "    </tr>\n",
       "    <tr>\n",
       "      <th>Transport_cpd00307_e0</th>\n",
       "      <td>35.757299</td>\n",
       "      <td>0.000000e+00</td>\n",
       "    </tr>\n",
       "    <tr>\n",
       "      <th>EX_cpd03846_e0</th>\n",
       "      <td>-21.315499</td>\n",
       "      <td>0.000000e+00</td>\n",
       "    </tr>\n",
       "    <tr>\n",
       "      <th>Transport_cpd03846_e0</th>\n",
       "      <td>21.315499</td>\n",
       "      <td>0.000000e+00</td>\n",
       "    </tr>\n",
       "    <tr>\n",
       "      <th>Transport_cpd00211_e0</th>\n",
       "      <td>0.000000</td>\n",
       "      <td>0.000000e+00</td>\n",
       "    </tr>\n",
       "  </tbody>\n",
       "</table>\n",
       "<p>1649 rows × 2 columns</p>\n",
       "</div>"
      ],
      "text/plain": [
       "<Solution 170.452 at 0x294cb02e0>"
      ]
     },
     "execution_count": 21,
     "metadata": {},
     "output_type": "execute_result"
    }
   ],
   "source": [
    "sol = model.optimize()\n",
    "sol"
   ]
  },
  {
   "cell_type": "code",
   "execution_count": 11,
   "metadata": {},
   "outputs": [
    {
     "data": {
      "text/plain": [
       "(<Model psimiae_utrecht_RASTtk_genome at 0x287a5e580>,\n",
       " {'SBML_FATAL': [],\n",
       "  'SBML_ERROR': [\"E0 (Error): SBML component consistency (fbc, L1610); Chemical formula must be string; The value of attribute 'fbc:chemicalFormula' on the SBML <species> object must be set to a string consisting only of atomic names or user defined compounds and their occurrence.\\nReference: L3V1 Fbc V3 Section 3.4\\n Encountered 'n' when expecting a capital letter. The chemicalFormula 'null' has incorrect syntax.\\n\",\n",
       "   \"E1 (Error): SBML component consistency (fbc, L11920); Chemical formula must be string; The value of attribute 'fbc:chemicalFormula' on the SBML <species> object must be set to a string consisting only of atomic names or user defined compounds and their occurrence.\\nReference: L3V1 Fbc V3 Section 3.4\\n Encountered 'n' when expecting a capital letter. The chemicalFormula 'null' has incorrect syntax.\\n\",\n",
       "   \"E2 (Error): SBML component consistency (fbc, L14345); Chemical formula must be string; The value of attribute 'fbc:chemicalFormula' on the SBML <species> object must be set to a string consisting only of atomic names or user defined compounds and their occurrence.\\nReference: L3V1 Fbc V3 Section 3.4\\n Encountered 'n' when expecting a capital letter. The chemicalFormula 'null' has incorrect syntax.\\n\",\n",
       "   \"E3 (Error): SBML component consistency (fbc, L22969); Chemical formula must be string; The value of attribute 'fbc:chemicalFormula' on the SBML <species> object must be set to a string consisting only of atomic names or user defined compounds and their occurrence.\\nReference: L3V1 Fbc V3 Section 3.4\\n Encountered 'n' when expecting a capital letter. The chemicalFormula 'nan' has incorrect syntax.\\n\",\n",
       "   \"E4 (Error): SBML component consistency (fbc, L23033); Chemical formula must be string; The value of attribute 'fbc:chemicalFormula' on the SBML <species> object must be set to a string consisting only of atomic names or user defined compounds and their occurrence.\\nReference: L3V1 Fbc V3 Section 3.4\\n Encountered 'n' when expecting a capital letter. The chemicalFormula 'nan' has incorrect syntax.\\n\",\n",
       "   \"E5 (Error): SBML component consistency (fbc, L24197); Chemical formula must be string; The value of attribute 'fbc:chemicalFormula' on the SBML <species> object must be set to a string consisting only of atomic names or user defined compounds and their occurrence.\\nReference: L3V1 Fbc V3 Section 3.4\\n Encountered 'n' when expecting a capital letter. The chemicalFormula 'null' has incorrect syntax.\\n\",\n",
       "   \"E6 (Error): SBML component consistency (fbc, L1610); Chemical formula must be string; The value of attribute 'fbc:chemicalFormula' on the SBML <species> object must be set to a string consisting only of atomic names or user defined compounds and their occurrence.\\nReference: L3V1 Fbc V3 Section 3.4\\n Encountered 'n' when expecting a capital letter. The chemicalFormula 'null' has incorrect syntax.\\n\",\n",
       "   \"E7 (Error): SBML component consistency (fbc, L11920); Chemical formula must be string; The value of attribute 'fbc:chemicalFormula' on the SBML <species> object must be set to a string consisting only of atomic names or user defined compounds and their occurrence.\\nReference: L3V1 Fbc V3 Section 3.4\\n Encountered 'n' when expecting a capital letter. The chemicalFormula 'null' has incorrect syntax.\\n\",\n",
       "   \"E8 (Error): SBML component consistency (fbc, L14345); Chemical formula must be string; The value of attribute 'fbc:chemicalFormula' on the SBML <species> object must be set to a string consisting only of atomic names or user defined compounds and their occurrence.\\nReference: L3V1 Fbc V3 Section 3.4\\n Encountered 'n' when expecting a capital letter. The chemicalFormula 'null' has incorrect syntax.\\n\",\n",
       "   \"E9 (Error): SBML component consistency (fbc, L22969); Chemical formula must be string; The value of attribute 'fbc:chemicalFormula' on the SBML <species> object must be set to a string consisting only of atomic names or user defined compounds and their occurrence.\\nReference: L3V1 Fbc V3 Section 3.4\\n Encountered 'n' when expecting a capital letter. The chemicalFormula 'nan' has incorrect syntax.\\n\",\n",
       "   \"E10 (Error): SBML component consistency (fbc, L23033); Chemical formula must be string; The value of attribute 'fbc:chemicalFormula' on the SBML <species> object must be set to a string consisting only of atomic names or user defined compounds and their occurrence.\\nReference: L3V1 Fbc V3 Section 3.4\\n Encountered 'n' when expecting a capital letter. The chemicalFormula 'nan' has incorrect syntax.\\n\",\n",
       "   \"E11 (Error): SBML component consistency (fbc, L24197); Chemical formula must be string; The value of attribute 'fbc:chemicalFormula' on the SBML <species> object must be set to a string consisting only of atomic names or user defined compounds and their occurrence.\\nReference: L3V1 Fbc V3 Section 3.4\\n Encountered 'n' when expecting a capital letter. The chemicalFormula 'null' has incorrect syntax.\\n\"],\n",
       "  'SBML_SCHEMA_ERROR': [],\n",
       "  'SBML_WARNING': [],\n",
       "  'COBRA_FATAL': [],\n",
       "  'COBRA_ERROR': [],\n",
       "  'COBRA_WARNING': [],\n",
       "  'COBRA_CHECK': []})"
      ]
     },
     "execution_count": 11,
     "metadata": {},
     "output_type": "execute_result"
    }
   ],
   "source": [
    "cobra.io.sbml.validate_sbml_model(\"../../../../../Desktop/haroon_w_ATPM.xml\")"
   ]
  },
  {
   "cell_type": "code",
   "execution_count": 12,
   "metadata": {},
   "outputs": [],
   "source": [
    "model_w_ATPM = cobra.io.read_sbml_model(\"../../../../../Desktop/haroon_w_ATPM.xml\")"
   ]
  },
  {
   "cell_type": "code",
   "execution_count": 14,
   "metadata": {},
   "outputs": [
    {
     "data": {
      "text/plain": [
       "1650"
      ]
     },
     "execution_count": 14,
     "metadata": {},
     "output_type": "execute_result"
    }
   ],
   "source": [
    "len(model_w_ATPM.reactions)"
   ]
  },
  {
   "cell_type": "code",
   "execution_count": 22,
   "metadata": {},
   "outputs": [
    {
     "data": {
      "text/html": [
       "<strong><em>Optimal</em> solution with objective value 170.379</strong><br><div>\n",
       "<style scoped>\n",
       "    .dataframe tbody tr th:only-of-type {\n",
       "        vertical-align: middle;\n",
       "    }\n",
       "\n",
       "    .dataframe tbody tr th {\n",
       "        vertical-align: top;\n",
       "    }\n",
       "\n",
       "    .dataframe thead th {\n",
       "        text-align: right;\n",
       "    }\n",
       "</style>\n",
       "<table border=\"1\" class=\"dataframe\">\n",
       "  <thead>\n",
       "    <tr style=\"text-align: right;\">\n",
       "      <th></th>\n",
       "      <th>fluxes</th>\n",
       "      <th>reduced_costs</th>\n",
       "    </tr>\n",
       "  </thead>\n",
       "  <tbody>\n",
       "    <tr>\n",
       "      <th>ATPM</th>\n",
       "      <td>3.150000e+00</td>\n",
       "      <td>-4.648684e-02</td>\n",
       "    </tr>\n",
       "    <tr>\n",
       "      <th>rxn05561_c0</th>\n",
       "      <td>0.000000e+00</td>\n",
       "      <td>3.955369e-18</td>\n",
       "    </tr>\n",
       "    <tr>\n",
       "      <th>rxn00935_c0</th>\n",
       "      <td>-9.142866e+01</td>\n",
       "      <td>-0.000000e+00</td>\n",
       "    </tr>\n",
       "    <tr>\n",
       "      <th>rxn00247_c0</th>\n",
       "      <td>0.000000e+00</td>\n",
       "      <td>-4.648684e-02</td>\n",
       "    </tr>\n",
       "    <tr>\n",
       "      <th>rxn05625_c0</th>\n",
       "      <td>7.815970e-14</td>\n",
       "      <td>-0.000000e+00</td>\n",
       "    </tr>\n",
       "    <tr>\n",
       "      <th>...</th>\n",
       "      <td>...</td>\n",
       "      <td>...</td>\n",
       "    </tr>\n",
       "    <tr>\n",
       "      <th>Transport_cpd00151_e0</th>\n",
       "      <td>0.000000e+00</td>\n",
       "      <td>0.000000e+00</td>\n",
       "    </tr>\n",
       "    <tr>\n",
       "      <th>Transport_cpd00307_e0</th>\n",
       "      <td>0.000000e+00</td>\n",
       "      <td>-5.428580e-17</td>\n",
       "    </tr>\n",
       "    <tr>\n",
       "      <th>EX_cpd03846_e0</th>\n",
       "      <td>-2.130634e+01</td>\n",
       "      <td>0.000000e+00</td>\n",
       "    </tr>\n",
       "    <tr>\n",
       "      <th>Transport_cpd03846_e0</th>\n",
       "      <td>2.130634e+01</td>\n",
       "      <td>0.000000e+00</td>\n",
       "    </tr>\n",
       "    <tr>\n",
       "      <th>Transport_cpd00211_e0</th>\n",
       "      <td>0.000000e+00</td>\n",
       "      <td>0.000000e+00</td>\n",
       "    </tr>\n",
       "  </tbody>\n",
       "</table>\n",
       "<p>1650 rows × 2 columns</p>\n",
       "</div>"
      ],
      "text/plain": [
       "<Solution 170.379 at 0x294cb2760>"
      ]
     },
     "execution_count": 22,
     "metadata": {},
     "output_type": "execute_result"
    }
   ],
   "source": [
    "sol = model_w_ATPM.optimize()\n",
    "sol"
   ]
  }
 ],
 "metadata": {
  "kernelspec": {
   "display_name": "base",
   "language": "python",
   "name": "python3"
  },
  "language_info": {
   "codemirror_mode": {
    "name": "ipython",
    "version": 3
   },
   "file_extension": ".py",
   "mimetype": "text/x-python",
   "name": "python",
   "nbconvert_exporter": "python",
   "pygments_lexer": "ipython3",
   "version": "3.9.13"
  },
  "orig_nbformat": 4
 },
 "nbformat": 4,
 "nbformat_minor": 2
}
