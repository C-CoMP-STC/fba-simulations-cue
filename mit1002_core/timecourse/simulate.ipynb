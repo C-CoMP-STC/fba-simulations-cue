{
 "cells": [
  {
   "cell_type": "code",
   "execution_count": 1,
   "metadata": {},
   "outputs": [],
   "source": [
    "import cobra"
   ]
  },
  {
   "cell_type": "code",
   "execution_count": 2,
   "metadata": {},
   "outputs": [],
   "source": [
    "import os"
   ]
  },
  {
   "cell_type": "code",
   "execution_count": 3,
   "metadata": {},
   "outputs": [
    {
     "data": {
      "text/plain": [
       "'/Users/helenscott/Documents/PhD/Segre-lab/CUE/cue-simulations/mit1002_core/timecourse'"
      ]
     },
     "execution_count": 3,
     "metadata": {},
     "output_type": "execute_result"
    }
   ],
   "source": [
    "os.getcwd()"
   ]
  },
  {
   "cell_type": "code",
   "execution_count": 12,
   "metadata": {},
   "outputs": [
    {
     "name": "stderr",
     "output_type": "stream",
     "text": [
      "'' is not a valid SBML 'SId'.\n"
     ]
    }
   ],
   "source": [
    "# Load in model file\n",
    "model = cobra.io.read_sbml_model(\"../../../../../../../Desktop/MIT1002-rasttk-GEM.SBML/MIT1002-rasttk-GEM.xml\")"
   ]
  },
  {
   "cell_type": "code",
   "execution_count": 13,
   "metadata": {},
   "outputs": [
    {
     "data": {
      "text/html": [
       "\n",
       "        <table>\n",
       "            <tr>\n",
       "                <td><strong>Name</strong></td>\n",
       "                <td></td>\n",
       "            </tr><tr>\n",
       "                <td><strong>Memory address</strong></td>\n",
       "                <td>0x0286f95eb0</td>\n",
       "            </tr><tr>\n",
       "                <td><strong>Number of metabolites</strong></td>\n",
       "                <td>1193</td>\n",
       "            </tr><tr>\n",
       "                <td><strong>Number of reactions</strong></td>\n",
       "                <td>1322</td>\n",
       "            </tr><tr>\n",
       "                <td><strong>Number of groups</strong></td>\n",
       "                <td>0</td>\n",
       "            </tr><tr>\n",
       "                <td><strong>Objective expression</strong></td>\n",
       "                <td>1.0*bio1_biomass - 1.0*bio1_biomass_reverse_6e711</td>\n",
       "            </tr><tr>\n",
       "                <td><strong>Compartments</strong></td>\n",
       "                <td>c0, e0</td>\n",
       "            </tr>\n",
       "          </table>"
      ],
      "text/plain": [
       "<Model  at 0x286f95eb0>"
      ]
     },
     "execution_count": 13,
     "metadata": {},
     "output_type": "execute_result"
    }
   ],
   "source": [
    "model"
   ]
  },
  {
   "cell_type": "code",
   "execution_count": 15,
   "metadata": {},
   "outputs": [
    {
     "name": "stdout",
     "output_type": "stream",
     "text": [
      "{'EX_cpd00438_e0': 1000.0, 'EX_cpd00393_e0': 1000.0, 'EX_cpd00065_e0': 1000.0, 'EX_cpd00023_e0': 1000.0, 'EX_cpd00635_e0': 1000.0, 'EX_cpd00107_e0': 1000.0, 'EX_cpd00184_e0': 1000.0, 'EX_cpd00028_e0': 1000.0, 'EX_cpd15378_e0': 1000.0, 'EX_cpd00149_e0': 1000.0, 'EX_cpd00246_e0': 1000.0, 'EX_cpd00041_e0': 1000.0, 'EX_cpd00254_e0': 1000.0, 'EX_cpd00142_e0': 1000.0, 'EX_cpd00531_e0': 1000.0, 'EX_cpd00104_e0': 1000.0, 'EX_cpd00067_e0': 1000.0, 'EX_cpd00060_e0': 1000.0, 'EX_cpd00033_e0': 1000.0, 'EX_cpd00220_e0': 1000.0, 'EX_cpd01012_e0': 1000.0, 'EX_cpd00053_e0': 1000.0, 'EX_cpd00084_e0': 1000.0, 'EX_cpd03726_e0': 1000.0, 'EX_cpd00322_e0': 1000.0, 'EX_cpd00211_e0': 1000.0, 'EX_cpd00215_e0': 1000.0, 'EX_cpd00205_e0': 1000.0, 'EX_cpd00128_e0': 1000.0, 'EX_cpd00797_e0': 1000.0, 'EX_cpd00132_e0': 1000.0, 'EX_cpd00051_e0': 1000.0, 'EX_cpd00009_e0': 1000.0, 'EX_cpd00309_e0': 1000.0, 'EX_cpd00054_e0': 1000.0, 'EX_cpd00218_e0': 1000.0, 'EX_cpd00161_e0': 1000.0, 'EX_cpd03847_e0': 1000.0, 'EX_cpd00156_e0': 1000.0, 'EX_cpd00154_e0': 1000.0, 'EX_cpd00036_e0': 1000.0, 'EX_cpd00159_e0': 1000.0, 'EX_cpd00030_e0': 1000.0, 'EX_cpd00249_e0': 1000.0, 'EX_cpd00540_e0': 1000.0, 'EX_cpd10516_e0': 1000.0, 'EX_cpd00244_e0': 1000.0, 'EX_cpd00013_e0': 1000.0, 'EX_cpd00108_e0': 1000.0, 'EX_cpd00166_e0': 1000.0, 'EX_cpd00116_e0': 1000.0, 'EX_cpd00098_e0': 1000.0, 'EX_cpd00011_e0': 1000.0, 'EX_cpd00117_e0': 1000.0, 'EX_cpd00027_e0': 1000.0, 'EX_cpd00118_e0': 1000.0, 'EX_cpd01017_e0': 1000.0, 'EX_cpd00063_e0': 1000.0, 'EX_cpd00017_e0': 1000.0, 'EX_cpd00731_e0': 1000.0, 'EX_cpd00307_e0': 1000.0, 'EX_cpd00119_e0': 1000.0, 'EX_cpd00264_e0': 1000.0, 'EX_cpd00012_e0': 1000.0, 'EX_cpd04097_e0': 1000.0, 'EX_cpd00971_e0': 1000.0, 'EX_cpd00311_e0': 1000.0, 'EX_cpd00001_e0': 1000.0, 'EX_cpd00644_e0': 1000.0, 'EX_cpd00266_e0': 1000.0, 'EX_cpd00106_e0': 1000.0, 'EX_cpd00214_e0': 1000.0, 'EX_cpd03424_e0': 1000.0, 'EX_cpd00034_e0': 1000.0, 'EX_cpd03453_e0': 1000.0, 'EX_cpd00129_e0': 1000.0, 'EX_cpd00367_e0': 1000.0, 'EX_cpd00654_e0': 1000.0, 'EX_cpd00069_e0': 1000.0, 'EX_cpd00229_e0': 1000.0, 'EX_cpd00092_e0': 1000.0, 'EX_cpd00100_e0': 1000.0, 'EX_cpd00058_e0': 1000.0, 'EX_cpd01092_e0': 1000.0, 'EX_cpd00048_e0': 1000.0, 'EX_cpd00305_e0': 1000.0, 'EX_cpd00035_e0': 1000.0, 'EX_cpd00099_e0': 1000.0, 'EX_cpd01080_e0': 1000.0, 'EX_cpd00066_e0': 1000.0, 'EX_cpd00007_e0': 1000.0, 'EX_cpd00039_e0': 1000.0}\n"
     ]
    }
   ],
   "source": [
    "print(model.medium)"
   ]
  },
  {
   "cell_type": "code",
   "execution_count": 28,
   "metadata": {},
   "outputs": [
    {
     "name": "stdout",
     "output_type": "stream",
     "text": [
      "'EX_cpd00438_e0': 1000.0, # Deoxyadenosine_e0\n",
      "'EX_cpd00393_e0': 1000.0, # Folate_e0\n",
      "'EX_cpd00065_e0': 1000.0, # L-Tryptophan_e0\n",
      "'EX_cpd00023_e0': 1000.0, # L-Glutamate_e0\n",
      "'EX_cpd00635_e0': 1000.0, # Cbl_e0\n",
      "'EX_cpd00107_e0': 1000.0, # L-Leucine_e0\n",
      "'EX_cpd00184_e0': 1000.0, # Thymidine_e0\n",
      "'EX_cpd00028_e0': 1000.0, # Heme_e0\n",
      "'EX_cpd15378_e0': 1000.0, # 4-Hydroxy-benzylalcohol_e0\n",
      "'EX_cpd00149_e0': 1000.0, # Co2+_e0\n",
      "'EX_cpd00246_e0': 1000.0, # Inosine_e0\n",
      "'EX_cpd00041_e0': 1000.0, # L-Aspartate_e0\n",
      "'EX_cpd00254_e0': 1000.0, # Mg_e0\n",
      "'EX_cpd00142_e0': 1000.0, # Acetoacetate_e0\n",
      "'EX_cpd00531_e0': 1000.0, # Hg2+_e0\n",
      "'EX_cpd00104_e0': 1000.0, # BIOT_e0\n",
      "'EX_cpd00067_e0': 1000.0, # H+_e0\n",
      "'EX_cpd00060_e0': 1000.0, # L-Methionine_e0\n",
      "'EX_cpd00033_e0': 1000.0, # Glycine_e0\n",
      "'EX_cpd00220_e0': 1000.0, # Riboflavin_e0\n",
      "'EX_cpd01012_e0': 1000.0, # Cd2+_e0\n",
      "'EX_cpd00053_e0': 1000.0, # L-Glutamine_e0\n",
      "'EX_cpd00084_e0': 1000.0, # L-Cysteine_e0\n",
      "'EX_cpd03726_e0': 1000.0, # Fe-enterochlin_e0\n",
      "'EX_cpd00322_e0': 1000.0, # L-Isoleucine_e0\n",
      "'EX_cpd00211_e0': 1000.0, # Butyrate_e0\n",
      "'EX_cpd00215_e0': 1000.0, # Pyridoxal_e0\n",
      "'EX_cpd00205_e0': 1000.0, # K+_e0\n",
      "'EX_cpd00128_e0': 1000.0, # Adenine_e0\n",
      "'EX_cpd00797_e0': 1000.0, # (R)-3-Hydroxybutanoate_e0\n",
      "'EX_cpd00132_e0': 1000.0, # L-Asparagine_e0\n",
      "'EX_cpd00051_e0': 1000.0, # L-Arginine_e0\n",
      "'EX_cpd00009_e0': 1000.0, # Phosphate_e0\n",
      "'EX_cpd00309_e0': 1000.0, # XAN_e0\n",
      "'EX_cpd00054_e0': 1000.0, # L-Serine_e0\n",
      "'EX_cpd00218_e0': 1000.0, # Niacin_e0\n",
      "'EX_cpd00161_e0': 1000.0, # L-Threonine_e0\n",
      "'EX_cpd03847_e0': 1000.0, # Myristic acid_e0\n",
      "'EX_cpd00156_e0': 1000.0, # L-Valine_e0\n",
      "'EX_cpd00154_e0': 1000.0, # Xylose_e0\n",
      "'EX_cpd00036_e0': 1000.0, # Succinate_e0\n",
      "'EX_cpd00159_e0': 1000.0, # L-Lactate_e0\n",
      "'EX_cpd00030_e0': 1000.0, # Mn2+_e0\n",
      "'EX_cpd00249_e0': 1000.0, # Uridine_e0\n",
      "'EX_cpd00540_e0': 1000.0, # BET_e0\n",
      "'EX_cpd10516_e0': 1000.0, # fe3_e0\n",
      "'EX_cpd00244_e0': 1000.0, # Ni2+_e0\n",
      "'EX_cpd00013_e0': 1000.0, # NH3_e0\n",
      "'EX_cpd00108_e0': 1000.0, # Galactose_e0\n",
      "'EX_cpd00166_e0': 1000.0, # Calomide_e0\n",
      "'EX_cpd00116_e0': 1000.0, # Methanol_e0\n",
      "'EX_cpd00098_e0': 1000.0, # Choline_e0\n",
      "'EX_cpd00011_e0': 1000.0, # CO2_e0\n",
      "'EX_cpd00117_e0': 1000.0, # D-Alanine_e0\n",
      "'EX_cpd00027_e0': 1000.0, # D-Glucose_e0\n",
      "'EX_cpd00118_e0': 1000.0, # Putrescine_e0\n",
      "'EX_cpd01017_e0': 1000.0, # Cys-Gly_e0\n",
      "'EX_cpd00063_e0': 1000.0, # Ca2+_e0\n",
      "'EX_cpd00017_e0': 1000.0, # S-Adenosyl-L-methionine_e0\n",
      "'EX_cpd00731_e0': 1000.0, # Ala-Ala_e0\n",
      "'EX_cpd00307_e0': 1000.0, # Cytosine_e0\n",
      "'EX_cpd00119_e0': 1000.0, # L-Histidine_e0\n",
      "'EX_cpd00264_e0': 1000.0, # Spermidine_e0\n",
      "'EX_cpd00012_e0': 1000.0, # PPi_e0\n",
      "'EX_cpd04097_e0': 1000.0, # Pb_e0\n",
      "'EX_cpd00971_e0': 1000.0, # Na+_e0\n",
      "'EX_cpd00311_e0': 1000.0, # Guanosine_e0\n",
      "'EX_cpd00001_e0': 1000.0, # H2O_e0\n",
      "'EX_cpd00644_e0': 1000.0, # PAN_e0\n",
      "'EX_cpd00266_e0': 1000.0, # Carnitine_e0\n",
      "'EX_cpd00106_e0': 1000.0, # Fumarate_e0\n",
      "'EX_cpd00214_e0': 1000.0, # Palmitate_e0\n",
      "'EX_cpd03424_e0': 1000.0, # Vitamin B12_e0\n",
      "'EX_cpd00034_e0': 1000.0, # Zn2+_e0\n",
      "'EX_cpd03453_e0': 1000.0, # Enterobactin_e0\n",
      "'EX_cpd00129_e0': 1000.0, # L-Proline_e0\n",
      "'EX_cpd00367_e0': 1000.0, # Cytidine_e0\n",
      "'EX_cpd00654_e0': 1000.0, # Deoxycytidine_e0\n",
      "'EX_cpd00069_e0': 1000.0, # L-Tyrosine_e0\n",
      "'EX_cpd00229_e0': 1000.0, # Glycolaldehyde_e0\n",
      "'EX_cpd00092_e0': 1000.0, # Uracil_e0\n",
      "'EX_cpd00100_e0': 1000.0, # Glycerol_e0\n",
      "'EX_cpd00058_e0': 1000.0, # Cu2+_e0\n",
      "'EX_cpd01092_e0': 1000.0, # Allantoin_e0\n",
      "'EX_cpd00048_e0': 1000.0, # Sulfate_e0\n",
      "'EX_cpd00305_e0': 1000.0, # Thiamin_e0\n",
      "'EX_cpd00035_e0': 1000.0, # L-Alanine_e0\n",
      "'EX_cpd00099_e0': 1000.0, # Cl-_e0\n",
      "'EX_cpd01080_e0': 1000.0, # ocdca_e0\n",
      "'EX_cpd00066_e0': 1000.0, # L-Phenylalanine_e0\n",
      "'EX_cpd00007_e0': 1000.0, # O2_e0\n",
      "'EX_cpd00039_e0': 1000.0, # L-Lysine_e0\n"
     ]
    }
   ],
   "source": [
    "for key in model.medium:\n",
    "    print (\"'\" + key + \"': \" + str(model.medium[key]) + \", # \" + model.reactions.get_by_id(key).reactants[0].name)"
   ]
  },
  {
   "cell_type": "code",
   "execution_count": 29,
   "metadata": {},
   "outputs": [],
   "source": [
    "minimal_media = {\n",
    "# 'EX_cpd00438_e0': 1000.0, # Deoxyadenosine_e0\n",
    "# 'EX_cpd00393_e0': 1000.0, # Folate_e0\n",
    "# 'EX_cpd00065_e0': 1000.0, # L-Tryptophan_e0\n",
    "# 'EX_cpd00023_e0': 1000.0, # L-Glutamate_e0\n",
    "# 'EX_cpd00635_e0': 1000.0, # Cbl_e0\n",
    "# 'EX_cpd00107_e0': 1000.0, # L-Leucine_e0\n",
    "# 'EX_cpd00184_e0': 1000.0, # Thymidine_e0\n",
    "# 'EX_cpd00028_e0': 1000.0, # Heme_e0\n",
    "# 'EX_cpd15378_e0': 1000.0, # 4-Hydroxy-benzylalcohol_e0\n",
    "# 'EX_cpd00149_e0': 1000.0, # Co2+_e0\n",
    "# 'EX_cpd00246_e0': 1000.0, # Inosine_e0\n",
    "# 'EX_cpd00041_e0': 1000.0, # L-Aspartate_e0\n",
    "'EX_cpd00254_e0': 1000.0, # Mg_e0\n",
    "# 'EX_cpd00142_e0': 1000.0, # Acetoacetate_e0\n",
    "# 'EX_cpd00531_e0': 1000.0, # Hg2+_e0\n",
    "# 'EX_cpd00104_e0': 1000.0, # BIOT_e0\n",
    "# 'EX_cpd00067_e0': 1000.0, # H+_e0\n",
    "# 'EX_cpd00060_e0': 1000.0, # L-Methionine_e0\n",
    "# 'EX_cpd00033_e0': 1000.0, # Glycine_e0\n",
    "'EX_cpd00220_e0': 1000.0, # Riboflavin_e0\n",
    "# 'EX_cpd01012_e0': 1000.0, # Cd2+_e0\n",
    "# 'EX_cpd00053_e0': 1000.0, # L-Glutamine_e0\n",
    "# 'EX_cpd00084_e0': 1000.0, # L-Cysteine_e0\n",
    "# 'EX_cpd03726_e0': 1000.0, # Fe-enterochlin_e0\n",
    "# 'EX_cpd00322_e0': 1000.0, # L-Isoleucine_e0\n",
    "# 'EX_cpd00211_e0': 1000.0, # Butyrate_e0\n",
    "# 'EX_cpd00215_e0': 1000.0, # Pyridoxal_e0\n",
    "'EX_cpd00205_e0': 1000.0, # K+_e0\n",
    "# 'EX_cpd00128_e0': 1000.0, # Adenine_e0\n",
    "# 'EX_cpd00797_e0': 1000.0, # (R)-3-Hydroxybutanoate_e0\n",
    "# 'EX_cpd00132_e0': 1000.0, # L-Asparagine_e0\n",
    "# 'EX_cpd00051_e0': 1000.0, # L-Arginine_e0\n",
    "'EX_cpd00009_e0': 1000.0, # Phosphate_e0\n",
    "# 'EX_cpd00309_e0': 1000.0, # XAN_e0\n",
    "# 'EX_cpd00054_e0': 1000.0, # L-Serine_e0\n",
    "'EX_cpd00218_e0': 1000.0, # Niacin_e0\n",
    "# 'EX_cpd00161_e0': 1000.0, # L-Threonine_e0\n",
    "# 'EX_cpd03847_e0': 1000.0, # Myristic acid_e0\n",
    "# 'EX_cpd00156_e0': 1000.0, # L-Valine_e0\n",
    "# 'EX_cpd00154_e0': 1000.0, # Xylose_e0\n",
    "# 'EX_cpd00036_e0': 1000.0, # Succinate_e0\n",
    "# 'EX_cpd00159_e0': 1000.0, # L-Lactate_e0\n",
    "'EX_cpd00030_e0': 1000.0, # Mn2+_e0\n",
    "# 'EX_cpd00249_e0': 1000.0, # Uridine_e0\n",
    "# 'EX_cpd00540_e0': 1000.0, # BET_e0\n",
    "'EX_cpd10516_e0': 1000.0, # fe3_e0\n",
    "'EX_cpd00244_e0': 1000.0, # Ni2+_e0\n",
    "'EX_cpd00013_e0': 1000.0, # NH3_e0\n",
    "# 'EX_cpd00108_e0': 1000.0, # Galactose_e0\n",
    "# 'EX_cpd00166_e0': 1000.0, # Calomide_e0\n",
    "# 'EX_cpd00116_e0': 1000.0, # Methanol_e0\n",
    "# 'EX_cpd00098_e0': 1000.0, # Choline_e0\n",
    "# 'EX_cpd00011_e0': 1000.0, # CO2_e0\n",
    "# 'EX_cpd00117_e0': 1000.0, # D-Alanine_e0\n",
    "'EX_cpd00027_e0': 1000.0, # D-Glucose_e0\n",
    "# 'EX_cpd00118_e0': 1000.0, # Putrescine_e0\n",
    "# 'EX_cpd01017_e0': 1000.0, # Cys-Gly_e0\n",
    "'EX_cpd00063_e0': 1000.0, # Ca2+_e0\n",
    "# 'EX_cpd00017_e0': 1000.0, # S-Adenosyl-L-methionine_e0\n",
    "# 'EX_cpd00731_e0': 1000.0, # Ala-Ala_e0\n",
    "# 'EX_cpd00307_e0': 1000.0, # Cytosine_e0\n",
    "# 'EX_cpd00119_e0': 1000.0, # L-Histidine_e0\n",
    "# 'EX_cpd00264_e0': 1000.0, # Spermidine_e0\n",
    "'EX_cpd00012_e0': 1000.0, # PPi_e0\n",
    "'EX_cpd04097_e0': 1000.0, # Pb_e0\n",
    "'EX_cpd00971_e0': 1000.0, # Na+_e0\n",
    "# 'EX_cpd00311_e0': 1000.0, # Guanosine_e0\n",
    "'EX_cpd00001_e0': 1000.0, # H2O_e0\n",
    "# 'EX_cpd00644_e0': 1000.0, # PAN_e0\n",
    "# 'EX_cpd00266_e0': 1000.0, # Carnitine_e0\n",
    "# 'EX_cpd00106_e0': 1000.0, # Fumarate_e0\n",
    "# 'EX_cpd00214_e0': 1000.0, # Palmitate_e0\n",
    "'EX_cpd03424_e0': 1000.0, # Vitamin B12_e0\n",
    "'EX_cpd00034_e0': 1000.0, # Zn2+_e0\n",
    "# 'EX_cpd03453_e0': 1000.0, # Enterobactin_e0\n",
    "# 'EX_cpd00129_e0': 1000.0, # L-Proline_e0\n",
    "# 'EX_cpd00367_e0': 1000.0, # Cytidine_e0\n",
    "# 'EX_cpd00654_e0': 1000.0, # Deoxycytidine_e0\n",
    "# 'EX_cpd00069_e0': 1000.0, # L-Tyrosine_e0\n",
    "# 'EX_cpd00229_e0': 1000.0, # Glycolaldehyde_e0\n",
    "# 'EX_cpd00092_e0': 1000.0, # Uracil_e0\n",
    "# 'EX_cpd00100_e0': 1000.0, # Glycerol_e0\n",
    "'EX_cpd00058_e0': 1000.0, # Cu2+_e0\n",
    "# 'EX_cpd01092_e0': 1000.0, # Allantoin_e0\n",
    "'EX_cpd00048_e0': 1000.0, # Sulfate_e0\n",
    "'EX_cpd00305_e0': 1000.0, # Thiamin_e0\n",
    "# 'EX_cpd00035_e0': 1000.0, # L-Alanine_e0\n",
    "'EX_cpd00099_e0': 1000.0, # Cl-_e0\n",
    "# 'EX_cpd01080_e0': 1000.0, # ocdca_e0\n",
    "# 'EX_cpd00066_e0': 1000.0, # L-Phenylalanine_e0\n",
    "'EX_cpd00007_e0': 1000.0, # O2_e0\n",
    "# 'EX_cpd00039_e0': 1000.0, # L-Lysine_e0\n",
    "}"
   ]
  },
  {
   "cell_type": "code",
   "execution_count": 9,
   "metadata": {},
   "outputs": [],
   "source": [
    "# Define a new MBM + Glucose\n",
    "mbm_glucose = {\n",
    "    # 'EX_cpd00067_e0': 1000, # H+_e0\n",
    "    'EX_cpd00971_e0': 1000, # 'Na+_e0',\n",
    "    'EX_cpd00009_e0': 1000, # 'Phosphate_e0'\n",
    "    'EX_cpd00007_e0': 2, # O2_e0\n",
    "    'EX_cpd00027_e0': 10, # D-Glucose_e0\n",
    "    'EX_cpd00001_e0': 1000 # H2O_e0\n",
    "}\n",
    "\n",
    "# Set that as the medium to use\n",
    "model.medium = mbm_glucose"
   ]
  },
  {
   "cell_type": "code",
   "execution_count": 10,
   "metadata": {},
   "outputs": [],
   "source": [
    "# Run FBA\n",
    "sol = model.optimize()"
   ]
  },
  {
   "cell_type": "code",
   "execution_count": 11,
   "metadata": {},
   "outputs": [
    {
     "data": {
      "text/plain": [
       "0.0"
      ]
     },
     "execution_count": 11,
     "metadata": {},
     "output_type": "execute_result"
    }
   ],
   "source": [
    "# Check that the objective value is reasonable\n",
    "sol.objective_value"
   ]
  },
  {
   "cell_type": "code",
   "execution_count": null,
   "metadata": {},
   "outputs": [
    {
     "name": "stdout",
     "output_type": "stream",
     "text": [
      "{'ATPM': 3.15, 'rxn14414_c0': 0.0, 'rxn14412_c0': -18.912181252418776, 'rxn14416_c0': 0.0, 'rxn14418_c0': 1.4210854715202004e-14, 'rxn14419_c0': 1.4210854715202004e-14, 'rxn14420_c0': 0.0, 'rxn14421_c0': 0.0, 'rxn14422_c0': 0.0, 'rxn14425_c0': 0.0, 'rxn14426_c0': 0.0, 'rxn14427_c0': -37.82436250483754, 'rxn05553_c0': -2.4235156922013577e-15, 'rxn05488_c0': 0.0, 'rxn11322_c0': 0.0, 'rxn05145_c0': 0.0, 'rxn09679_c0': 10.0, 'rxn11382_c0': 0.0, 'rxn10836_c0': 0.0, 'rxn05467_c0': 3.552713678800506e-15, 'rxn05468_c0': 0.0, 'rxn05319_c0': -6.282227088986462, 'rxn08094_c0': 6.168049518704898, 'rxn00011_c0': 1.0658141036401512e-14, 'rxn00077_c0': 0.0, 'rxn00083_c0': 0.0, 'rxn00102_c0': 0.0, 'rxn00122_c0': 1.4488410471358293e-14, 'rxn05313_c0': 5.657963907897344, 'rxn00147_c0': 1.1459589649096e-14, 'rxn00148_c0': -0.6509955863568834, 'rxn00159_c0': -6.478458602801232, 'rxn00161_c0': 0.0, 'rxn00162_c0': 0.0, 'rxn00173_c0': -1.2397153553347202e-15, 'rxn00175_c0': -1.2865834042656844e-14, 'rxn00178_c0': 0.0, 'rxn00199_c0': 0.0, 'rxn00216_c0': 10.0, 'rxn00224_c0': 0.0, 'rxn00225_c0': 0.0, 'rxn00247_c0': -54.659899938034485, 'rxn00248_c0': 0.0, 'rxn00251_c0': 50.96885943228869, 'rxn00256_c0': -1.292908865986763, 'rxn00285_c0': -6.1680495187048985, 'rxn00288_c0': 1.4488410471358293e-14, 'rxn00330_c0': 6.3232540607530545, 'rxn00336_c0': -6.323254060753065, 'rxn00371_c0': -5.3290705182007514e-14, 'rxn00392_c0': 1.4488410471358293e-14, 'rxn00441_c0': 0.0, 'rxn00459_c0': 5.038778765298457, 'rxn00500_c0': 0.0, 'rxn00505_c0': 7.616162926739836, 'rxn00506_c0': -1.2865834042656844e-14, 'rxn00543_c0': 0.0, 'rxn00544_c0': 1.0658141036401512e-14, 'rxn00545_c0': 0.0, 'rxn00549_c0': 0.0, 'rxn00558_c0': 3.709876225608066, 'rxn00568_c0': -5.083258206699285, 'rxn00569_c0': 5.083258206699288, 'rxn00604_c0': 6.01497014694991, 'rxn00615_c0': 0.0, 'rxn00616_c0': 0.0, 'rxn00623_c0': 0.0, 'rxn00670_c0': 0.0, 'rxn00747_c0': 4.886642955994342e-16, 'rxn00763_c0': 0.0, 'rxn00770_c0': 1.4062443935608437e-15, 'rxn00777_c0': 0.0, 'rxn00781_c0': 7.046729139216568, 'rxn00782_c0': 0.0, 'rxn00785_c0': 2.409808891265098, 'rxn00786_c0': 0.0, 'rxn00799_c0': 0.15520454204816636, 'rxn00868_c0': -1.5917635926726962e-15, 'rxn00874_c0': 1.5917635926726962e-15, 'rxn00973_c0': 1.2929088659867636, 'rxn00974_c0': 1.0658141036401503e-14, 'rxn00985_c0': 0.0, 'rxn01100_c0': -7.046729139216568, 'rxn01106_c0': -5.038778765298468, 'rxn01115_c0': -3.6147133368976454, 'rxn01116_c0': -3.6147133368976454, 'rxn01123_c0': 0.0, 'rxn01169_c0': 7.119305145408816e-15, 'rxn01200_c0': 1.204904445632546, 'rxn01241_c0': 0.0, 'rxn01333_c0': -1.2049044456325502, 'rxn01334_c0': 0.0, 'rxn01343_c0': 4.218847493575595e-15, 'rxn01387_c0': 0.0, 'rxn01388_c0': 0.0, 'rxn01476_c0': 6.014970146949909, 'rxn01477_c0': 9.62968348384756, 'rxn01480_c0': 0.0, 'rxn01871_c0': 0.0, 'rxn01872_c0': 0.0, 'rxn01975_c0': 0.0, 'rxn01977_c0': 0.0, 'rxn02167_c0': 1.5917635926726962e-15, 'rxn02185_c0': 0.0, 'rxn02314_c0': 0.0, 'rxn02342_c0': 0.0, 'rxn02359_c0': 0.0, 'rxn02376_c0': 0.0, 'rxn02380_c0': 7.119305145408816e-15, 'rxn03240_c0': 0.0, 'rxn03249_c0': 0.0, 'rxn03250_c0': 0.0, 'rxn03884_c0': 9.629683483847623, 'rxn05040_c0': 0.0, 'rxn05209_c0': -16.97389172369203, 'rxn05528_c0': 0.0, 'rxn05573_c0': 0.0, 'rxn05581_c0': 0.0, 'rxn05602_c0': 0.0, 'rxn05625_c0': 0.0, 'rxn05627_c0': 0.0, 'rxn06493_c0': 0.0, 'rxn06526_c0': 0.0, 'rxn06777_c0': 0.0, 'rxn08527_c0': 0.0, 'rxn08556_c0': 0.0, 'rxn08557_c0': 0.0, 'rxn08971_c0': 0.0, 'rxn08975_c0': 19.067385794466958, 'rxn09272_c0': -0.15520454204818085, 'rxn10042_c0': 0.0, 'rxn10118_c0': 5.963699607984076e-16, 'rxn10120_c0': 37.82436250483754, 'rxn10121_c0': 0.0, 'rxn10125_c0': -15.203848571550004, 'rxn10126_c0': 0.0, 'bio1_biomass': 1.3422128167901912, 'bio2_biomass': 0.0, 'EX_cpd00067_e0': -24.39055708542956, 'EX_cpd00029_e0': 0.0, 'EX_cpd00058_e0': 0.0, 'EX_cpd01947_e0': 0.0, 'EX_cpd00100_e0': 0.0, 'EX_cpd00141_e0': 0.0, 'EX_cpd00011_e0': 0.0, 'EX_cpd00971_e0': 0.0, 'EX_cpd00159_e0': 0.0, 'EX_cpd00075_e0': 0.0, 'EX_cpd00209_e0': 0.0, 'EX_cpd00009_e0': -5.657963907897344, 'EX_cpd00007_e0': 0.0, 'EX_cpd00027_e0': -10.0, 'EX_cpd00211_e0': 0.0, 'EX_cpd00363_e0': 0.0, 'EX_cpd00001_e0': 6.282227088986462, 'DM_cpd11416_c0': 1.3422128167901886}\n"
     ]
    }
   ],
   "source": [
    "print(sol.fluxes.to_dict())"
   ]
  },
  {
   "cell_type": "code",
   "execution_count": null,
   "metadata": {},
   "outputs": [
    {
     "data": {
      "text/plain": [
       "-2.0"
      ]
     },
     "execution_count": 33,
     "metadata": {},
     "output_type": "execute_result"
    }
   ],
   "source": [
    "sol.fluxes['EX_cpd00007_e0']"
   ]
  },
  {
   "cell_type": "code",
   "execution_count": null,
   "metadata": {},
   "outputs": [
    {
     "data": {
      "text/plain": [
       "0.0"
      ]
     },
     "execution_count": 34,
     "metadata": {},
     "output_type": "execute_result"
    }
   ],
   "source": [
    "# Look at the CO2 excahnge flux\n",
    "sol.fluxes['EX_cpd00011_e0']"
   ]
  },
  {
   "cell_type": "code",
   "execution_count": null,
   "metadata": {},
   "outputs": [
    {
     "data": {
      "text/plain": [
       "0.0"
      ]
     },
     "execution_count": 35,
     "metadata": {},
     "output_type": "execute_result"
    }
   ],
   "source": [
    "# Look at the acetate excahnge flux\n",
    "sol.fluxes['EX_cpd00029_e0']"
   ]
  }
 ],
 "metadata": {
  "kernelspec": {
   "display_name": "base",
   "language": "python",
   "name": "python3"
  },
  "language_info": {
   "codemirror_mode": {
    "name": "ipython",
    "version": 3
   },
   "file_extension": ".py",
   "mimetype": "text/x-python",
   "name": "python",
   "nbconvert_exporter": "python",
   "pygments_lexer": "ipython3",
   "version": "3.9.13"
  },
  "orig_nbformat": 4,
  "vscode": {
   "interpreter": {
    "hash": "5ee899d5a686fcbb406810e4b8d4baf6ae3726e8507dfd4a7eda607d4a51ae84"
   }
  }
 },
 "nbformat": 4,
 "nbformat_minor": 2
}
