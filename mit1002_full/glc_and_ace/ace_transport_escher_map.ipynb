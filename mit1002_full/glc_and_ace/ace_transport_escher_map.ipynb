{
 "cells": [
  {
   "cell_type": "code",
   "execution_count": 1,
   "metadata": {},
   "outputs": [],
   "source": [
    "import escher\n",
    "from escher import Builder\n",
    "import cobra\n",
    "from time import sleep\n",
    "import os\n",
    "import pickle"
   ]
  },
  {
   "cell_type": "code",
   "execution_count": 2,
   "metadata": {},
   "outputs": [
    {
     "name": "stderr",
     "output_type": "stream",
     "text": [
      "'' is not a valid SBML 'SId'.\n"
     ]
    }
   ],
   "source": [
    "# Load the model into cobra\n",
    "# Relative path to model file saved locally on Helen's computer, but no changes to the model since downloading it from BiGG\n",
    "model = cobra.io.read_sbml_model('../../../../GEM-repos/mit1002-model/model.xml')"
   ]
  },
  {
   "cell_type": "code",
   "execution_count": 3,
   "metadata": {},
   "outputs": [],
   "source": [
    "# Load the solutions\n",
    "# Load the results from the COBRA simulations\n",
    "with open('results.pkl', 'rb') as f:\n",
    "    cobra_results = pickle.load(f)\n",
    "\n",
    "glc_only_fba = cobra_results[0]\n",
    "glc_only_pfba = cobra_results[1]\n",
    "ace_only_fba = cobra_results[2]\n",
    "ace_only_pfba = cobra_results[3]\n",
    "mix_fba = cobra_results[4]\n",
    "mix_pfba = cobra_results[5]"
   ]
  },
  {
   "cell_type": "code",
   "execution_count": 4,
   "metadata": {},
   "outputs": [],
   "source": [
    "# Make a map with the solution for glucose only\n",
    "glc_only_map = Builder(\n",
    "    map_json = 'ace_transport_map.json',\n",
    "    reaction_data = glc_only_fba.fluxes\n",
    ")"
   ]
  },
  {
   "cell_type": "code",
   "execution_count": 5,
   "metadata": {},
   "outputs": [
    {
     "data": {
      "application/vnd.jupyter.widget-view+json": {
       "model_id": "229c3e8bed0a40d5bbd59ac8670e3a6f",
       "version_major": 2,
       "version_minor": 0
      },
      "text/plain": [
       "Builder(reaction_data={'rxn00247_c0': 0.0, 'rxn05625_c0': -2.4709443125968686, 'rxn02342_c0': 0.0, 'rxn06493_c…"
      ]
     },
     "metadata": {},
     "output_type": "display_data"
    }
   ],
   "source": [
    "# View the map\n",
    "glc_only_map"
   ]
  },
  {
   "cell_type": "code",
   "execution_count": 6,
   "metadata": {},
   "outputs": [],
   "source": [
    "# Make a map with the solution for acetate only\n",
    "ace_only_map = Builder(\n",
    "    map_json = 'ace_transport_map.json',\n",
    "    reaction_data = ace_only_fba.fluxes\n",
    ")"
   ]
  },
  {
   "cell_type": "code",
   "execution_count": 7,
   "metadata": {},
   "outputs": [
    {
     "data": {
      "application/vnd.jupyter.widget-view+json": {
       "model_id": "c1060fce2402490ba4d028332cf6ec42",
       "version_major": 2,
       "version_minor": 0
      },
      "text/plain": [
       "Builder(reaction_data={'rxn00247_c0': 0.0, 'rxn05625_c0': -0.0944736508977618, 'rxn02342_c0': 0.0, 'rxn06493_c…"
      ]
     },
     "metadata": {},
     "output_type": "display_data"
    }
   ],
   "source": [
    "ace_only_map"
   ]
  },
  {
   "cell_type": "code",
   "execution_count": 10,
   "metadata": {},
   "outputs": [
    {
     "data": {
      "text/html": [
       "\n",
       "        <table>\n",
       "            <tr>\n",
       "                <td><strong>Reaction identifier</strong></td><td>rxn00545_c0</td>\n",
       "            </tr><tr>\n",
       "                <td><strong>Name</strong></td><td>ATP:D-fructose-6-phosphate 1-phosphotransferase_c0</td>\n",
       "            </tr><tr>\n",
       "                <td><strong>Memory address</strong></td>\n",
       "                <td>0x7fd639b08850</td>\n",
       "            </tr><tr>\n",
       "                <td><strong>Stoichiometry</strong></td>\n",
       "                <td>\n",
       "                    <p style='text-align:right'>cpd00002_c0 + cpd00072_c0 --> cpd00008_c0 + cpd00067_c0 + cpd00290_c0</p>\n",
       "                    <p style='text-align:right'>ATP_c0 + D-fructose-6-phosphate_c0 --> ADP_c0 + H+_c0 + D-fructose-1,6-bisphosphate_c0</p>\n",
       "                </td>\n",
       "            </tr><tr>\n",
       "                <td><strong>GPR</strong></td><td></td>\n",
       "            </tr><tr>\n",
       "                <td><strong>Lower bound</strong></td><td>0.0</td>\n",
       "            </tr><tr>\n",
       "                <td><strong>Upper bound</strong></td><td>1000.0</td>\n",
       "            </tr>\n",
       "        </table>\n",
       "        "
      ],
      "text/plain": [
       "<Reaction rxn00545_c0 at 0x7fd639b08850>"
      ]
     },
     "execution_count": 10,
     "metadata": {},
     "output_type": "execute_result"
    }
   ],
   "source": []
  },
  {
   "cell_type": "code",
   "execution_count": 11,
   "metadata": {},
   "outputs": [
    {
     "data": {
      "text/html": [
       "<strong><em>Optimal</em> solution with objective value 1.206</strong><br><div>\n",
       "<style scoped>\n",
       "    .dataframe tbody tr th:only-of-type {\n",
       "        vertical-align: middle;\n",
       "    }\n",
       "\n",
       "    .dataframe tbody tr th {\n",
       "        vertical-align: top;\n",
       "    }\n",
       "\n",
       "    .dataframe thead th {\n",
       "        text-align: right;\n",
       "    }\n",
       "</style>\n",
       "<table border=\"1\" class=\"dataframe\">\n",
       "  <thead>\n",
       "    <tr style=\"text-align: right;\">\n",
       "      <th></th>\n",
       "      <th>fluxes</th>\n",
       "      <th>reduced_costs</th>\n",
       "    </tr>\n",
       "  </thead>\n",
       "  <tbody>\n",
       "    <tr>\n",
       "      <th>rxn00247_c0</th>\n",
       "      <td>0.000000</td>\n",
       "      <td>-4.895864e-13</td>\n",
       "    </tr>\n",
       "    <tr>\n",
       "      <th>rxn05625_c0</th>\n",
       "      <td>-2.470944</td>\n",
       "      <td>-0.000000e+00</td>\n",
       "    </tr>\n",
       "    <tr>\n",
       "      <th>rxn02342_c0</th>\n",
       "      <td>0.000000</td>\n",
       "      <td>-9.645905e-02</td>\n",
       "    </tr>\n",
       "    <tr>\n",
       "      <th>rxn06493_c0</th>\n",
       "      <td>0.028175</td>\n",
       "      <td>5.046197e-18</td>\n",
       "    </tr>\n",
       "    <tr>\n",
       "      <th>rxn02376_c0</th>\n",
       "      <td>0.000000</td>\n",
       "      <td>-2.062043e-18</td>\n",
       "    </tr>\n",
       "    <tr>\n",
       "      <th>...</th>\n",
       "      <td>...</td>\n",
       "      <td>...</td>\n",
       "    </tr>\n",
       "    <tr>\n",
       "      <th>EX_cpd00033_e0</th>\n",
       "      <td>0.000000</td>\n",
       "      <td>-1.929181e-01</td>\n",
       "    </tr>\n",
       "    <tr>\n",
       "      <th>EX_cpd00060_e0</th>\n",
       "      <td>0.000000</td>\n",
       "      <td>-1.929181e-01</td>\n",
       "    </tr>\n",
       "    <tr>\n",
       "      <th>DM_cpd15302_c0</th>\n",
       "      <td>0.000000</td>\n",
       "      <td>0.000000e+00</td>\n",
       "    </tr>\n",
       "    <tr>\n",
       "      <th>DM_cpd02701_c0</th>\n",
       "      <td>0.003383</td>\n",
       "      <td>1.672093e-13</td>\n",
       "    </tr>\n",
       "    <tr>\n",
       "      <th>DM_cpd11416_c0</th>\n",
       "      <td>1.205738</td>\n",
       "      <td>0.000000e+00</td>\n",
       "    </tr>\n",
       "  </tbody>\n",
       "</table>\n",
       "<p>881 rows × 2 columns</p>\n",
       "</div>"
      ],
      "text/plain": [
       "<Solution 1.206 at 0x7fd618bd7e50>"
      ]
     },
     "execution_count": 11,
     "metadata": {},
     "output_type": "execute_result"
    }
   ],
   "source": [
    "glc_only_fba"
   ]
  },
  {
   "cell_type": "code",
   "execution_count": 17,
   "metadata": {},
   "outputs": [],
   "source": [
    "# Make a map with the solution for glucose only using pFBA\n",
    "glc_only_pfba_map = Builder(\n",
    "    map_json = 'ace_transport_map.json',\n",
    "    reaction_data = glc_only_pfba.fluxes\n",
    ")"
   ]
  },
  {
   "cell_type": "code",
   "execution_count": 18,
   "metadata": {},
   "outputs": [
    {
     "data": {
      "application/vnd.jupyter.widget-view+json": {
       "model_id": "3584b6c5fd6e4d7786aaa402a15e06b8",
       "version_major": 2,
       "version_minor": 0
      },
      "text/plain": [
       "Builder(reaction_data={'rxn00247_c0': 0.0, 'rxn05625_c0': -2.470944312573252, 'rxn02342_c0': 0.0, 'rxn06493_c0…"
      ]
     },
     "metadata": {},
     "output_type": "display_data"
    }
   ],
   "source": [
    "glc_only_pfba_map"
   ]
  },
  {
   "cell_type": "code",
   "execution_count": 19,
   "metadata": {},
   "outputs": [],
   "source": [
    "# Make a map with the solution for acetate only using pFBA\n",
    "ace_only_pfba_map = Builder(\n",
    "    map_json = 'ace_transport_map.json',\n",
    "    reaction_data = ace_only_pfba.fluxes\n",
    ")"
   ]
  },
  {
   "cell_type": "code",
   "execution_count": 20,
   "metadata": {},
   "outputs": [
    {
     "data": {
      "application/vnd.jupyter.widget-view+json": {
       "model_id": "c790c4f156264c8b8aeecf61d0f6dcfa",
       "version_major": 2,
       "version_minor": 0
      },
      "text/plain": [
       "Builder(reaction_data={'rxn00247_c0': 0.0, 'rxn05625_c0': -0.09447365089775826, 'rxn02342_c0': 0.0, 'rxn06493_…"
      ]
     },
     "metadata": {},
     "output_type": "display_data"
    }
   ],
   "source": [
    "ace_only_pfba_map"
   ]
  },
  {
   "cell_type": "code",
   "execution_count": null,
   "metadata": {},
   "outputs": [],
   "source": []
  }
 ],
 "metadata": {
  "kernelspec": {
   "display_name": "escher",
   "language": "python",
   "name": "python3"
  },
  "language_info": {
   "codemirror_mode": {
    "name": "ipython",
    "version": 3
   },
   "file_extension": ".py",
   "mimetype": "text/x-python",
   "name": "python",
   "nbconvert_exporter": "python",
   "pygments_lexer": "ipython3",
   "version": "3.8.17"
  }
 },
 "nbformat": 4,
 "nbformat_minor": 2
}
