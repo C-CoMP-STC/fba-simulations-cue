{
 "cells": [
  {
   "cell_type": "code",
   "execution_count": 15,
   "metadata": {},
   "outputs": [],
   "source": [
    "import pickle\n",
    "import cobra"
   ]
  },
  {
   "cell_type": "code",
   "execution_count": 16,
   "metadata": {},
   "outputs": [],
   "source": [
    "# Load the results\n",
    "with open('results.pkl', 'rb') as f:\n",
    "    experiment = pickle.load(f)"
   ]
  },
  {
   "cell_type": "code",
   "execution_count": 17,
   "metadata": {},
   "outputs": [
    {
     "name": "stderr",
     "output_type": "stream",
     "text": [
      "'' is not a valid SBML 'SId'.\n"
     ]
    }
   ],
   "source": [
    "# Load the COBRA model\n",
    "alt_model = cobra.io.read_sbml_model(\"../../../../GEM-repos/mit1002-model/model.xml\")"
   ]
  },
  {
   "cell_type": "code",
   "execution_count": 18,
   "metadata": {},
   "outputs": [],
   "source": [
    "ecoli_model = cobra.io.load_json_model(\"/Users/helenscott/Desktop/iJO1366.json\")"
   ]
  },
  {
   "cell_type": "code",
   "execution_count": 19,
   "metadata": {},
   "outputs": [],
   "source": [
    "def get_readable_metabolite_name(metabolite):\n",
    "    return f\"{metabolite.name} ({metabolite.id})\""
   ]
  },
  {
   "cell_type": "code",
   "execution_count": 20,
   "metadata": {},
   "outputs": [],
   "source": [
    "#metabolite_id = \"cpd00007_c0\" # (O2)\n",
    "# metabolite_id = \"cpd00011_c0\" # (CO2)\n",
    "metabolite_id = \"cpd00002_c0\" # (ATP)"
   ]
  },
  {
   "cell_type": "code",
   "execution_count": 21,
   "metadata": {},
   "outputs": [],
   "source": [
    "# Check if the metabolite exists in the model\n",
    "if metabolite_id in alt_model.metabolites:\n",
    "    metabolite = alt_model.metabolites.get_by_id(metabolite_id)\n",
    "else:\n",
    "    raise ValueError(f\"Metabolite {metabolite_id} not found in the model.\")"
   ]
  },
  {
   "cell_type": "code",
   "execution_count": 22,
   "metadata": {},
   "outputs": [],
   "source": [
    "# Find all reactions containing the metabolite\n",
    "reactions_with_metabolite = [reaction for reaction in alt_model.reactions if metabolite in reaction.metabolites]"
   ]
  },
  {
   "cell_type": "code",
   "execution_count": 23,
   "metadata": {},
   "outputs": [
    {
     "data": {
      "text/plain": [
       "[<Reaction rxn00247_c0 at 0x284474850>,\n",
       " <Reaction rxn00225_c0 at 0x283dd6760>,\n",
       " <Reaction rxn00148_c0 at 0x283dd6910>,\n",
       " <Reaction rxn01100_c0 at 0x283df38b0>,\n",
       " <Reaction rxn01123_c0 at 0x283df3bb0>,\n",
       " <Reaction rxn00770_c0 at 0x28619ab50>,\n",
       " <Reaction rxn00175_c0 at 0x283dccd60>,\n",
       " <Reaction rxn00615_c0 at 0x283dcc880>,\n",
       " <Reaction rxn00216_c0 at 0x283cd8880>,\n",
       " <Reaction rxn00077_c0 at 0x283cd8c10>,\n",
       " <Reaction rxn01275_c0 at 0x283cd54c0>,\n",
       " <Reaction rxn08173_c0 at 0x283cd5e20>,\n",
       " <Reaction rxn00646_c0 at 0x283dcceb0>,\n",
       " <Reaction rxn01673_c0 at 0x283c7f790>,\n",
       " <Reaction rxn00107_c0 at 0x283c7fb80>,\n",
       " <Reaction rxn09240_c0 at 0x283c767c0>,\n",
       " <Reaction rxn00179_c0 at 0x283c76c40>,\n",
       " <Reaction rxn08137_c0 at 0x285e71a30>,\n",
       " <Reaction rxn03181_c0 at 0x285e46e20>,\n",
       " <Reaction rxn08017_c0 at 0x285bbca90>,\n",
       " <Reaction rxn00361_c0 at 0x285b8feb0>,\n",
       " <Reaction rxn04384_c0 at 0x285ba2700>,\n",
       " <Reaction rxn00100_c0 at 0x283c7f3d0>,\n",
       " <Reaction rxn00789_c0 at 0x283c76a90>,\n",
       " <Reaction rxn00097_c0 at 0x2846cafd0>,\n",
       " <Reaction ATPM at 0x2846ca9d0>,\n",
       " <Reaction rxn00695_c0 at 0x2846cacd0>,\n",
       " <Reaction rxn03535_c0 at 0x2846ca5e0>,\n",
       " <Reaction rxn03264_c0 at 0x2846c0e20>,\n",
       " <Reaction rxn01111_c0 at 0x2841b66a0>,\n",
       " <Reaction rxn06937_c0 at 0x28403d700>,\n",
       " <Reaction rxn08136_c0 at 0x28403dfa0>,\n",
       " <Reaction rxn00237_c0 at 0x283edb9d0>,\n",
       " <Reaction rxn00126_c0 at 0x283d997c0>,\n",
       " <Reaction rxn01518_c0 at 0x283d999a0>,\n",
       " <Reaction rxn01300_c0 at 0x2838bd9a0>,\n",
       " <Reaction rxn03908_c0 at 0x283d8cbe0>,\n",
       " <Reaction rxn01509_c0 at 0x2838b19a0>,\n",
       " <Reaction rxn09176_c0 at 0x2838b1af0>,\n",
       " <Reaction rxn00187_c0 at 0x285df9820>,\n",
       " <Reaction rxn00772_c0 at 0x285df9e20>,\n",
       " <Reaction rxn01653_c0 at 0x285c632b0>,\n",
       " <Reaction rxn03147_c0 at 0x285c63520>,\n",
       " <Reaction rxn00113_c0 at 0x285c6c430>,\n",
       " <Reaction rxn01678_c0 at 0x285c69a60>,\n",
       " <Reaction rxn02286_c0 at 0x285c69f10>,\n",
       " <Reaction rxn00412_c0 at 0x285afa4f0>,\n",
       " <Reaction rxn00515_c0 at 0x285afac10>,\n",
       " <Reaction rxn01353_c0 at 0x285afaf40>,\n",
       " <Reaction rxn08924_c0 at 0x285af7ee0>,\n",
       " <Reaction rxn00547_c0 at 0x285c69df0>,\n",
       " <Reaction rxn08020_c0 at 0x285ad6970>,\n",
       " <Reaction rxn02895_c0 at 0x285a914c0>,\n",
       " <Reaction rxn00379_c0 at 0x285a87850>,\n",
       " <Reaction rxn02155_c0 at 0x285a87f10>,\n",
       " <Reaction rxn00410_c0 at 0x28467ee80>,\n",
       " <Reaction rxn00065_c0 at 0x28466fa30>,\n",
       " <Reaction rxn00365_c0 at 0x28466ff10>,\n",
       " <Reaction rxn00105_c0 at 0x284665ac0>,\n",
       " <Reaction rxn05029_c0 at 0x284665e20>,\n",
       " <Reaction rxn01987_c0 at 0x28464fe80>,\n",
       " <Reaction rxn05195_c0 at 0x28464f3a0>,\n",
       " <Reaction rxn01143_c0 at 0x2840a2880>,\n",
       " <Reaction rxn02937_c0 at 0x284097a30>,\n",
       " <Reaction rxn03141_c0 at 0x2840bb4c0>,\n",
       " <Reaction rxn01512_c0 at 0x2843b3ca0>,\n",
       " <Reaction rxn01084_c0 at 0x2843b3e50>,\n",
       " <Reaction rxn01127_c0 at 0x284386370>,\n",
       " <Reaction rxn02277_c0 at 0x28436a3d0>,\n",
       " <Reaction rxn00851_c0 at 0x284359820>,\n",
       " <Reaction rxn00438_c0 at 0x284359d90>,\n",
       " <Reaction rxn01434_c0 at 0x28433d730>,\n",
       " <Reaction rxn00119_c0 at 0x284315f70>,\n",
       " <Reaction rxn00709_c0 at 0x284315670>,\n",
       " <Reaction rxn02008_c0 at 0x284338d60>,\n",
       " <Reaction rxn00409_c0 at 0x283caeb50>,\n",
       " <Reaction rxn08015_c0 at 0x283caebb0>,\n",
       " <Reaction rxn01538_c0 at 0x283caec70>,\n",
       " <Reaction rxn00808_c0 at 0x283c9b670>,\n",
       " <Reaction rxn02517_c0 at 0x284097490>,\n",
       " <Reaction rxn03164_c0 at 0x284097940>,\n",
       " <Reaction rxn05054_c0 at 0x283c91b80>,\n",
       " <Reaction rxn08021_c0 at 0x283c36fa0>,\n",
       " <Reaction rxn00239_c0 at 0x283c12e50>,\n",
       " <Reaction rxn01791_c0 at 0x283c12850>,\n",
       " <Reaction rxn00104_c0 at 0x283bcfe80>,\n",
       " <Reaction rxn00117_c0 at 0x283bd6e80>,\n",
       " <Reaction rxn00839_c0 at 0x2861fc940>,\n",
       " <Reaction rxn42230_c0 at 0x2861ddbb0>,\n",
       " <Reaction rxn16609_c0 at 0x2861ddb80>,\n",
       " <Reaction rxn16574_c0 at 0x2861f8fd0>,\n",
       " <Reaction rxn05148_c0 at 0x2861ca100>,\n",
       " <Reaction rxn08192_c0 at 0x285e85580>,\n",
       " <Reaction rxn00533_c0 at 0x285eabf10>,\n",
       " <Reaction rxn00340_c0 at 0x285e91dc0>,\n",
       " <Reaction rxn03084_c0 at 0x285e913d0>,\n",
       " <Reaction rxn05232_c0 at 0x285e91310>,\n",
       " <Reaction rxn01102_c0 at 0x285c84f40>,\n",
       " <Reaction rxn02175_c0 at 0x285c84f70>,\n",
       " <Reaction rxn12510_c0 at 0x285c84d90>,\n",
       " <Reaction rxn05736_c0 at 0x285c84190>,\n",
       " <Reaction rxn05229_c0 at 0x285c8d070>,\n",
       " <Reaction rxn08708_c0 at 0x285c8d9d0>,\n",
       " <Reaction rxn00122_c0 at 0x285cb4b20>,\n",
       " <Reaction rxn00392_c0 at 0x285cb4ac0>,\n",
       " <Reaction rxn02322_c0 at 0x285c2e8b0>,\n",
       " <Reaction rxn01739_c0 at 0x285c2ed60>,\n",
       " <Reaction rxn00545_c0 at 0x285c34970>,\n",
       " <Reaction rxn01517_c0 at 0x285c25850>,\n",
       " <Reaction rxn12512_c0 at 0x285c25b50>,\n",
       " <Reaction rxn08709_c0 at 0x285c25fa0>,\n",
       " <Reaction rxn01607_c0 at 0x285c25af0>,\n",
       " <Reaction rxn10663_c0 at 0x285c25580>,\n",
       " <Reaction rxn03916_c0 at 0x285c12df0>,\n",
       " <Reaction rxn00351_c0 at 0x2844b9c40>,\n",
       " <Reaction rxn03918_c0 at 0x2844b9fa0>,\n",
       " <Reaction rxn04784_c0 at 0x284496820>,\n",
       " <Reaction rxn04783_c0 at 0x284485850>,\n",
       " <Reaction rxn02831_c0 at 0x283eb46d0>,\n",
       " <Reaction rxn00829_c0 at 0x283eb43a0>,\n",
       " <Reaction rxn03108_c0 at 0x283eb4430>,\n",
       " <Reaction rxn09310_c0 at 0x283ebb820>,\n",
       " <Reaction rxn03536_c0 at 0x283ebbc10>,\n",
       " <Reaction rxn00337_c0 at 0x283e90430>,\n",
       " <Reaction rxn01603_c0 at 0x283839ca0>,\n",
       " <Reaction rxn00690_c0 at 0x283839f70>,\n",
       " <Reaction rxn02011_c0 at 0x28383c400>,\n",
       " <Reaction rxn01513_c0 at 0x28383ccd0>,\n",
       " <Reaction rxn12868_c0 at 0x283825940>,\n",
       " <Reaction rxn08014_c0 at 0x283825e20>,\n",
       " <Reaction bio1_biomass at 0x283825490>]"
      ]
     },
     "execution_count": 23,
     "metadata": {},
     "output_type": "execute_result"
    }
   ],
   "source": [
    "reactions_with_metabolite"
   ]
  },
  {
   "cell_type": "code",
   "execution_count": 24,
   "metadata": {},
   "outputs": [],
   "source": [
    "# Get the fluxes for a specific cycle (the first, index 0) of the simulation\n",
    "fluxes = experiment.fluxes_by_species[''].iloc[0]"
   ]
  },
  {
   "cell_type": "code",
   "execution_count": 25,
   "metadata": {},
   "outputs": [],
   "source": [
    "# Print the nonzero flux reactions containing the metabolite, flux, and bounds\n",
    "for reaction in reactions_with_metabolite:\n",
    "    reaction_id = reaction.id\n",
    "    flux = fluxes[reaction_id]\n",
    "    \n",
    "    # Filter out reactions with near-zero flux (using a threshold, e.g., 1e-6)\n",
    "    if abs(flux) > 1e-6:\n",
    "        lower_bound = reaction.lower_bound\n",
    "        upper_bound = reaction.upper_bound\n",
    "        readable_reaction_string = \" + \".join([f\"{coefficient} {get_readable_metabolite_name(met)}\" for met, coefficient in reaction.metabolites.items()])\n",
    "        print(f\"{reaction_id} | {reaction.name} | {readable_reaction_string} : {flux} | Bounds: [{lower_bound}, {upper_bound}]\")"
   ]
  },
  {
   "cell_type": "code",
   "execution_count": 26,
   "metadata": {},
   "outputs": [],
   "source": [
    "# Print the nonzero flux reactions containing the metabolite, flux, and bounds\n",
    "for reaction in reactions_with_metabolite:\n",
    "    reaction_id = reaction.id\n",
    "    flux = fluxes[reaction_id]\n",
    "    \n",
    "    # Filter out reactions with near-zero flux (using a threshold, e.g., 1e-6)\n",
    "    if abs(flux) < 1e-6:\n",
    "        continue\n",
    "    \n",
    "    # Get reactions where CO2 is being used (i.e. the it is a product and the \n",
    "    # flux is negative or it is a reactant and the flux is positive)\n",
    "    if (metabolite in reaction.products and flux > 0) or (metabolite in reaction.reactants and flux < 0):\n",
    "        lower_bound = reaction.lower_bound\n",
    "        upper_bound = reaction.upper_bound\n",
    "        readable_reaction_string = \" + \".join([f\"{coefficient} {get_readable_metabolite_name(met)}\" for met, coefficient in reaction.metabolites.items()])\n",
    "        print(f\"{reaction_id} | {reaction.name} | {readable_reaction_string} : {flux} | Bounds: [{lower_bound}, {upper_bound}]\")"
   ]
  },
  {
   "cell_type": "code",
   "execution_count": 27,
   "metadata": {},
   "outputs": [
    {
     "name": "stdout",
     "output_type": "stream",
     "text": [
      "rxn00225_c0 | ACKr | Bounds: [-1000.0, 1000.0] | ATP:acetate phosphotransferase_c0 | -1.0 ATP_c0 (cpd00002_c0) + -1.0 Acetate_c0 (cpd00029_c0) + 1.0 ADP_c0 (cpd00008_c0) + 1.0 Acetylphosphate_c0 (cpd00196_c0)\n",
      "rxn00148_c0 | ['CDC19', 'PYK', 'PYK2'] | Bounds: [-1000.0, 0.0] | ATP:pyruvate 2-O-phosphotransferase_c0 | -1.0 ATP_c0 (cpd00002_c0) + -1.0 Pyruvate_c0 (cpd00020_c0) + 1.0 ADP_c0 (cpd00008_c0) + 1.0 Phosphoenolpyruvate_c0 (cpd00061_c0) + 1.0 H+_c0 (cpd00067_c0)\n",
      "rxn01100_c0 | ['PGK1', 'PGK'] | Bounds: [-1000.0, 1000.0] | ATP:3-phospho-D-glycerate 1-phosphotransferase_c0 | -1.0 ATP_c0 (cpd00002_c0) + -1.0 3-Phosphoglycerate_c0 (cpd00169_c0) + 1.0 ADP_c0 (cpd00008_c0) + 1.0 1,3-Bisphospho-D-glycerate_c0 (cpd00203_c0)\n",
      "rxn00770_c0 | No BiGG ID | Bounds: [-1000.0, 1000.0] | ATP:D-ribose-5-phosphate diphosphotransferase_c0 | -1.0 ATP_c0 (cpd00002_c0) + -1.0 ribose-5-phosphate_c0 (cpd00101_c0) + 1.0 AMP_c0 (cpd00018_c0) + 1.0 H+_c0 (cpd00067_c0) + 1.0 PRPP_c0 (cpd00103_c0)\n",
      "rxn08173_c0 | ['ATPS4r', 'ATPS4rpp'] | Bounds: [-1000.0, 1000.0] | F(1)-ATPase_c0 | -1.0 Phosphate_c0 (cpd00009_c0) + -4.0 H+_e0 (cpd00067_e0) + -1.0 ADP_c0 (cpd00008_c0) + 3.0 H+_c0 (cpd00067_c0) + 1.0 ATP_c0 (cpd00002_c0) + 1.0 H2O_c0 (cpd00001_c0)\n",
      "rxn01673_c0 | ['YNK1_5', 'NDPK7'] | Bounds: [-1000.0, 1000.0] | ATP:dCDP phosphotransferase_c0 | -1.0 ATP_c0 (cpd00002_c0) + -1.0 dCDP_c0 (cpd00533_c0) + 1.0 ADP_c0 (cpd00008_c0) + 1.0 dCTP_c0 (cpd00356_c0)\n",
      "rxn08137_c0 | AP5AH | Bounds: [0.0, 1000.0] | P1,P5-bis(5'-adenosyl)pentaphosphate nucleotidohydrolase (ATP-forming)_c0 | -1.0 H2O_c0 (cpd00001_c0) + -1.0 Bis(5'-adenosyl) pentaphosphate_c0 (cpd02511_c0) + 1.0 ATP_c0 (cpd00002_c0) + 1.0 ADP_c0 (cpd00008_c0)\n",
      "rxn00789_c0 | ['ATPPRT', 'HIS1', 'ATPPRTr'] | Bounds: [-1000.0, 0.0] | 1-(5-phospho-D-ribosyl)-ATP:diphosphate phospho-alpha-D-ribosyl-transferase_c0 | -1.0 PPi_c0 (cpd00012_c0) + -1.0 H+_c0 (cpd00067_c0) + -1.0 Phosphoribosyl-ATP_c0 (cpd01775_c0) + 1.0 ATP_c0 (cpd00002_c0) + 1.0 PRPP_c0 (cpd00103_c0)\n",
      "rxn00097_c0 | ['ADK2_1', 'ADK1_1', 'ADK1m', 'ADK1'] | Bounds: [-1000.0, 1000.0] | ATP:AMP phosphotransferase_c0 | -1.0 ATP_c0 (cpd00002_c0) + -1.0 AMP_c0 (cpd00018_c0) + -1.0 H+_c0 (cpd00067_c0) + 2.0 ADP_c0 (cpd00008_c0)\n",
      "rxn00237_c0 | ['YNK1_8', 'NDPK1'] | Bounds: [-1000.0, 1000.0] | ATP:GDP phosphotransferase_c0 | -1.0 ATP_c0 (cpd00002_c0) + -1.0 GDP_c0 (cpd00031_c0) + 1.0 ADP_c0 (cpd00008_c0) + 1.0 GTP_c0 (cpd00038_c0)\n",
      "rxn01509_c0 | ['GUK1_2', 'DGK1'] | Bounds: [-1000.0, 1000.0] | ATP:dGMP phosphotransferase_c0 | -1.0 ATP_c0 (cpd00002_c0) + -1.0 H+_c0 (cpd00067_c0) + -1.0 dGMP_c0 (cpd00296_c0) + 1.0 ADP_c0 (cpd00008_c0) + 1.0 dGDP_c0 (cpd00295_c0)\n",
      "rxn09176_c0 | PPKr | Bounds: [-1000.0, 1000.0] | polyphosphate kinase_c0 | -1.0 ATP_c0 (cpd00002_c0) + -1.0 Phosphate_c0 (cpd00009_c0) + 1.0 ADP_c0 (cpd00008_c0) + 1.0 PPi_c0 (cpd00012_c0)\n",
      "rxn01678_c0 | ['YNK1_4', 'NDPK6'] | Bounds: [-1000.0, 1000.0] | ATP:dUDP phosphotransferase_c0 | -1.0 ATP_c0 (cpd00002_c0) + -1.0 dUDP_c0 (cpd00978_c0) + 1.0 ADP_c0 (cpd00008_c0) + 1.0 dUTP_c0 (cpd00358_c0)\n",
      "rxn00515_c0 | ['NDPK9', 'YNK1_9'] | Bounds: [-1000.0, 1000.0] | ATP:IDP phosphotransferase_c0 | -1.0 ATP_c0 (cpd00002_c0) + -1.0 IDP_c0 (cpd00090_c0) + 1.0 ADP_c0 (cpd00008_c0) + 1.0 ITP_c0 (cpd00068_c0)\n",
      "rxn01353_c0 | ['NDPK5', 'YNK1_3'] | Bounds: [-1000.0, 1000.0] | ATP:dGDP phosphotransferase_c0 | -1.0 ATP_c0 (cpd00002_c0) + -1.0 dGDP_c0 (cpd00295_c0) + 1.0 ADP_c0 (cpd00008_c0) + 1.0 dGTP_c0 (cpd00241_c0)\n",
      "rxn02155_c0 | ['NNAT', 'YLR328W_2', 'NNATr', 'YLR328W_1', 'NNATm'] | Bounds: [-1000.0, 1000.0] | ATP:nicotinamide-nucleotide adenylyltransferase_c0 | -1.0 ATP_c0 (cpd00002_c0) + -1.0 Nicotinate ribonucleotide_c0 (cpd00873_c0) + 1.0 PPi_c0 (cpd00012_c0) + 1.0 Deamido-NAD_c0 (cpd00638_c0)\n",
      "rxn01987_c0 | ['DRBK', 'RBK1_2', 'DRBKr'] | Bounds: [-1000.0, 1000.0] | R02750_c0 | -1.0 ADP_c0 (cpd00008_c0) + -1.0 H+_c0 (cpd00067_c0) + -1.0 deoxyribose-5-phosphate_c0 (cpd00510_c0) + 1.0 ATP_c0 (cpd00002_c0) + 1.0 Thyminose_c0 (cpd01242_c0)\n",
      "rxn01512_c0 | ['YNK1_6', 'NDPK4'] | Bounds: [-1000.0, 1000.0] | ATP:dTDP phosphotransferase_c0 | -1.0 ATP_c0 (cpd00002_c0) + -1.0 dTDP_c0 (cpd00297_c0) + 1.0 ADP_c0 (cpd00008_c0) + 1.0 TTP_c0 (cpd00357_c0)\n",
      "rxn01127_c0 | ['DADK', 'U19'] | Bounds: [-1000.0, 1000.0] | ATP:dAMP phosphotransferase_c0 | -1.0 ATP_c0 (cpd00002_c0) + -1.0 H+_c0 (cpd00067_c0) + -1.0 dAMP_c0 (cpd00294_c0) + 1.0 ADP_c0 (cpd00008_c0) + 1.0 dADP_c0 (cpd00177_c0)\n",
      "rxn00119_c0 | ['UMPK', 'URA6_1', 'URIDK1', 'UMPKURIDK1', 'URA6_2', 'UMPKn'] | Bounds: [-1000.0, 1000.0] | ATP:UMP phosphotransferase_c0 | -1.0 ATP_c0 (cpd00002_c0) + -1.0 H+_c0 (cpd00067_c0) + -1.0 UMP_c0 (cpd00091_c0) + 1.0 ADP_c0 (cpd00008_c0) + 1.0 UDP_c0 (cpd00014_c0)\n",
      "rxn00409_c0 | ['YNK1_2', 'NDPK3'] | Bounds: [-1000.0, 1000.0] | ATP:CDP phosphotransferase_c0 | -1.0 ATP_c0 (cpd00002_c0) + -1.0 CDP_c0 (cpd00096_c0) + 1.0 ADP_c0 (cpd00008_c0) + 1.0 CTP_c0 (cpd00052_c0)\n",
      "rxn02517_c0 | No BiGG ID | Bounds: [-1000.0, 1000.0] | ATP:dIDP phosphotransferase_c0 | -1.0 ATP_c0 (cpd00002_c0) + -1.0 dIDP_c0 (cpd00976_c0) + 1.0 ADP_c0 (cpd00008_c0) + 1.0 dITP_c0 (cpd00977_c0)\n",
      "rxn00239_c0 | ['GK1', 'GUK1_1'] | Bounds: [-1000.0, 1000.0] | ATP:GMP phosphotransferase_c0 | -1.0 ATP_c0 (cpd00002_c0) + -1.0 H+_c0 (cpd00067_c0) + -1.0 GMP_c0 (cpd00126_c0) + 1.0 ADP_c0 (cpd00008_c0) + 1.0 GDP_c0 (cpd00031_c0)\n",
      "rxn00104_c0 | ['PPK2r', 'PPK2', 'PPIK'] | Bounds: [-1000.0, 1000.0] | polyphosphate kinase_c0 | -1.0 ATP_c0 (cpd00002_c0) + -1.0 PPi_c0 (cpd00012_c0) + -1.0 H+_c0 (cpd00067_c0) + 1.0 ADP_c0 (cpd00008_c0) + 1.0 Triphosphate_c0 (cpd00421_c0)\n",
      "rxn00117_c0 | ['NDPK2', 'YNK1_1'] | Bounds: [-1000.0, 1000.0] | ATP:UDP phosphotransferase_c0 | -1.0 ATP_c0 (cpd00002_c0) + -1.0 UDP_c0 (cpd00014_c0) + 1.0 ADP_c0 (cpd00008_c0) + 1.0 UTP_c0 (cpd00062_c0)\n",
      "rxn00839_c0 | ['NDPK8', 'YNK1_7'] | Bounds: [-1000.0, 1000.0] | ATP:dADP phosphotransferase_c0 | -1.0 ATP_c0 (cpd00002_c0) + -1.0 dADP_c0 (cpd00177_c0) + 1.0 ADP_c0 (cpd00008_c0) + 1.0 dATP_c0 (cpd00115_c0)\n",
      "rxn42230_c0 | No BiGG ID | Bounds: [-1000.0, 1000.0] | rxn42230_c0 | -2.0 ATP_c0 (cpd00002_c0) + -1.0 Reduced-Flavoproteins_c0 (cpd28070_c0) + -2.0 Cbi(II)_c0 (cpd33817_c0) + 3.0 H+_c0 (cpd00067_c0) + 2.0 Triphosphate_c0 (cpd00421_c0) + 2.0 Adenosyl cobinamide_c0 (cpd03918_c0) + 1.0 Oxidized-Flavoproteins_c0 (cpd27744_c0)\n",
      "rxn16574_c0 | No BiGG ID | Bounds: [-1000.0, 1000.0] | ATP:molybdopterin adenylyltransferase_c0 | -1.0 ATP_c0 (cpd00002_c0) + -1.0 Molybdopterin_c0 (cpd03520_c0) + 1.0 PPi_c0 (cpd00012_c0) + 1.0 Adenylated molybdopterin_c0 (cpd21090_c0)\n",
      "rxn05148_c0 | HEMEti | Bounds: [-1000.0, 1000.0] | Heme transport via ABC system_c0 | -1.0 ATP_c0 (cpd00002_c0) + -1.0 H2O_c0 (cpd00001_c0) + -1.0 Heme_e0 (cpd00028_e0) + 1.0 H+_c0 (cpd00067_c0) + 1.0 Phosphate_c0 (cpd00009_c0) + 1.0 Heme_c0 (cpd00028_c0) + 1.0 ADP_c0 (cpd00008_c0)\n",
      "rxn01517_c0 | ['URIDK3', 'URIDK2rn', 'URIDK2r', 'URIDK2', 'URA6_3'] | Bounds: [-1000.0, 0.0] | ATP:dUMP phosphotransferase_c0 | -1.0 H+_c0 (cpd00067_c0) + -1.0 dUMP_c0 (cpd00299_c0) + -1.0 ATP_c0 (cpd00002_c0) + 1.0 ADP_c0 (cpd00008_c0) + 1.0 dUDP_c0 (cpd00978_c0)\n",
      "rxn10663_c0 | FAO11 | Bounds: [-1000.0, 0.0] | Fatty acid oxidation (n-C16:1)_c0 | -1.0 hexadecenoate_c0 (cpd15237_c0) + -6.0 FAD_c0 (cpd00015_c0) + -1.0 ATP_c0 (cpd00002_c0) + -8.0 CoA_c0 (cpd00010_c0) + -7.0 NAD_c0 (cpd00003_c0) + -7.0 H2O_c0 (cpd00001_c0) + 1.0 AMP_c0 (cpd00018_c0) + 1.0 PPi_c0 (cpd00012_c0) + 2.0 H+_c0 (cpd00067_c0) + 8.0 Acetyl-CoA_c0 (cpd00022_c0) + 7.0 NADH_c0 (cpd00004_c0) + 6.0 FADH2_c0 (cpd00982_c0)\n"
     ]
    }
   ],
   "source": [
    "# Get all the reactions that can produce ATP\n",
    "metabolite_id = \"cpd00002_c0\" # (ATP)\n",
    "metabolite = alt_model.metabolites.get_by_id(metabolite_id)\n",
    "\n",
    "for reaction in alt_model.reactions:\n",
    "    if metabolite in reaction.products:\n",
    "        if 'bigg.reaction' in reaction.annotation.keys():\n",
    "            bigg_id = reaction.annotation['bigg.reaction']\n",
    "        else:\n",
    "            bigg_id = 'No BiGG ID'\n",
    "        lower_bound = reaction.lower_bound\n",
    "        upper_bound = reaction.upper_bound\n",
    "        readable_reaction_string = \" + \".join([f\"{coefficient} {get_readable_metabolite_name(met)}\" for met, coefficient in reaction.metabolites.items()])\n",
    "        print(f\"{reaction.id} | {bigg_id} | Bounds: [{lower_bound}, {upper_bound}] | {reaction.name} | {readable_reaction_string}\")\n",
    "    if metabolite in reaction.reactants and reaction.lower_bound < 0:\n",
    "        if 'bigg.reaction' in reaction.annotation.keys():\n",
    "            bigg_id = reaction.annotation['bigg.reaction']\n",
    "        else:\n",
    "            bigg_id = 'No BiGG ID'\n",
    "        lower_bound = reaction.lower_bound\n",
    "        upper_bound = reaction.upper_bound\n",
    "        readable_reaction_string = \" + \".join([f\"{coefficient} {get_readable_metabolite_name(met)}\" for met, coefficient in reaction.metabolites.items()])\n",
    "        print(f\"{reaction.id} | {bigg_id} | Bounds: [{lower_bound}, {upper_bound}] | {reaction.name} | {readable_reaction_string}\")"
   ]
  },
  {
   "cell_type": "code",
   "execution_count": 28,
   "metadata": {},
   "outputs": [
    {
     "ename": "SyntaxError",
     "evalue": "invalid syntax (217187064.py, line 14)",
     "output_type": "error",
     "traceback": [
      "\u001b[0;36m  Input \u001b[0;32mIn [28]\u001b[0;36m\u001b[0m\n\u001b[0;31m    for id in b\u001b[0m\n\u001b[0m               ^\u001b[0m\n\u001b[0;31mSyntaxError\u001b[0m\u001b[0;31m:\u001b[0m invalid syntax\n"
     ]
    }
   ],
   "source": [
    "for reaction in alt_model.reactions:\n",
    "    if (metabolite in reaction.products) or (metabolite in reaction.reactants and reaction.lower_bound < 0):\n",
    "        if 'bigg.reaction' in reaction.annotation.keys():\n",
    "            bigg_id = reaction.annotation['bigg.reaction']\n",
    "            ec_reaction = ecoli_model.reactions.get_by_id(bigg_id)\n",
    "            ec_lower_bound = ec_reaction.lower_bound\n",
    "            ec_upper_bound = ec_reaction.upper_bound\n",
    "        else:\n",
    "            bigg_id = 'No BiGG ID'\n",
    "        lower_bound = reaction.lower_bound\n",
    "        upper_bound = reaction.upper_bound\n",
    "        readable_reaction_string = \" + \".join([f\"{coefficient} {get_readable_metabolite_name(met)}\" for met, coefficient in reaction.metabolites.items()])\n",
    "        # Look up the reaction in the E. coli model\n",
    "        for id in b\n",
    "        print(f\"{reaction.id} / {bigg_id}/ {reaction.name}\")\n",
    "        print(\"----------------------------------\")\n",
    "        print(f\"Bounds in ALT: [{lower_bound}, {upper_bound}]\")\n",
    "        print(f\"Bounds in E. coli: [{ec_lower_bound}, {ec_upper_bound}]\")\n",
    "        print(f\"{readable_reaction_string}\\n\")"
   ]
  }
 ],
 "metadata": {
  "kernelspec": {
   "display_name": "base",
   "language": "python",
   "name": "python3"
  },
  "language_info": {
   "codemirror_mode": {
    "name": "ipython",
    "version": 3
   },
   "file_extension": ".py",
   "mimetype": "text/x-python",
   "name": "python",
   "nbconvert_exporter": "python",
   "pygments_lexer": "ipython3",
   "version": "3.9.13"
  },
  "orig_nbformat": 4
 },
 "nbformat": 4,
 "nbformat_minor": 2
}
