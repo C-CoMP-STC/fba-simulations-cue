{
 "cells": [
  {
   "cell_type": "code",
   "execution_count": 1,
   "metadata": {},
   "outputs": [],
   "source": [
    "import escher\n",
    "from escher import Builder\n",
    "import cobra\n",
    "from time import sleep"
   ]
  },
  {
   "cell_type": "code",
   "execution_count": 13,
   "metadata": {},
   "outputs": [],
   "source": [
    "# Load the model into cobra\n",
    "model = cobra.io.load_json_model('e_coli_core.json')"
   ]
  },
  {
   "cell_type": "code",
   "execution_count": 17,
   "metadata": {},
   "outputs": [
    {
     "data": {
      "text/plain": [
       "{'EX_co2_e': 1000.0,\n",
       " 'EX_glc__D_e': 10.0,\n",
       " 'EX_h_e': 1000.0,\n",
       " 'EX_h2o_e': 1000.0,\n",
       " 'EX_nh4_e': 1000.0,\n",
       " 'EX_o2_e': 1000.0,\n",
       " 'EX_pi_e': 1000.0}"
      ]
     },
     "execution_count": 17,
     "metadata": {},
     "output_type": "execute_result"
    }
   ],
   "source": [
    "# Check what the default medium is\n",
    "model.medium"
   ]
  },
  {
   "cell_type": "code",
   "execution_count": 18,
   "metadata": {},
   "outputs": [],
   "source": [
    "# Run FBA for the default medium\n",
    "glc_10_solution = model.optimize()"
   ]
  },
  {
   "cell_type": "code",
   "execution_count": 21,
   "metadata": {},
   "outputs": [
    {
     "name": "stdout",
     "output_type": "stream",
     "text": [
      "Downloading Map from https://escher.github.io/1-0-0/6/maps/Escherichia%20coli/e_coli_core.Core%20metabolism.json\n"
     ]
    }
   ],
   "source": [
    "# Make a map with the solution for the default medium\n",
    "glc_10_map = Builder(\n",
    "    map_name = 'e_coli_core.Core metabolism',\n",
    "    reaction_data = glc_10_solution.fluxes\n",
    ")"
   ]
  },
  {
   "cell_type": "code",
   "execution_count": 22,
   "metadata": {},
   "outputs": [
    {
     "data": {
      "application/vnd.jupyter.widget-view+json": {
       "model_id": "1fb8acf1a14f4420a7f51496c16a0dcd",
       "version_major": 2,
       "version_minor": 0
      },
      "text/plain": [
       "Builder(reaction_data={'PFK': 7.477381962160286, 'PFL': 0.0, 'PGI': 4.860861146496819, 'PGK': -16.023526143167…"
      ]
     },
     "metadata": {},
     "output_type": "display_data"
    }
   ],
   "source": [
    "# View the map\n",
    "glc_10_map"
   ]
  },
  {
   "cell_type": "code",
   "execution_count": 23,
   "metadata": {},
   "outputs": [],
   "source": [
    "# Define medium with just a little bit of acetate available\n",
    "# Note, this does not set the flux, just the limits on it\n",
    "glc_ace_medium = {\n",
    "    'EX_co2_e': 1000.0,\n",
    "    'EX_glc__D_e': 10.0,\n",
    "    'EX_ac_e': 1,\n",
    "    'EX_h_e': 1000.0,\n",
    "    'EX_h2o_e': 1000.0,\n",
    "    'EX_nh4_e': 1000.0,\n",
    "    'EX_o2_e': 1000.0,\n",
    "    'EX_pi_e': 1000.0\n",
    "}"
   ]
  },
  {
   "cell_type": "code",
   "execution_count": 24,
   "metadata": {},
   "outputs": [],
   "source": [
    "# Run FBA for the glucose + acetate medium\n",
    "model.medium = glc_ace_medium\n",
    "ace_1_solution = model.optimize()"
   ]
  },
  {
   "cell_type": "code",
   "execution_count": 25,
   "metadata": {},
   "outputs": [
    {
     "name": "stdout",
     "output_type": "stream",
     "text": [
      "Downloading Map from https://escher.github.io/1-0-0/6/maps/Escherichia%20coli/e_coli_core.Core%20metabolism.json\n"
     ]
    }
   ],
   "source": [
    "# Make a map with the solution for the defulat medium\n",
    "ace_1_map = Builder(\n",
    "    map_name = 'e_coli_core.Core metabolism',\n",
    "    reaction_data = ace_1_solution.fluxes\n",
    ")"
   ]
  },
  {
   "cell_type": "code",
   "execution_count": 26,
   "metadata": {},
   "outputs": [
    {
     "data": {
      "application/vnd.jupyter.widget-view+json": {
       "model_id": "7a0660fd52f2454ab3a7a61308d18fcf",
       "version_major": 2,
       "version_minor": 0
      },
      "text/plain": [
       "Builder(reaction_data={'PFK': 7.506344253575243, 'PFL': 0.0, 'PGI': 5.011434394904456, 'PGK': -16.014365066565…"
      ]
     },
     "metadata": {},
     "output_type": "display_data"
    }
   ],
   "source": [
    "ace_1_map"
   ]
  },
  {
   "cell_type": "code",
   "execution_count": 28,
   "metadata": {},
   "outputs": [],
   "source": [
    "# Get a list of the reactions that are different between the two solutions, with the difference between them\n",
    "diff_reactions = {}\n",
    "for reaction in model.reactions:\n",
    "    if abs(glc_10_solution.fluxes[reaction.id] - ace_1_solution.fluxes[reaction.id]) > 1e-6:\n",
    "        diff_reactions[reaction.id] = ace_1_solution.fluxes[reaction.id] - glc_10_solution.fluxes[reaction.id]"
   ]
  },
  {
   "cell_type": "code",
   "execution_count": 31,
   "metadata": {},
   "outputs": [
    {
     "name": "stdout",
     "output_type": "stream",
     "text": [
      "GLNS Glutamine synthetase 0.22346172933182762 0.22932139824385633\n",
      "PGK Phosphoglycerate kinase -16.02352614316761 -16.014365066565162\n",
      "GAPD Glyceraldehyde-3-phosphate dehydrogenase 16.023526143167608 16.01436506656516\n",
      "BIOMASS_Ecoli_core_w_GAM Biomass Objective Function with GAM 0.8739215069684305 0.8968376935622071\n",
      "PFK Phosphofructokinase 7.477381962160286 7.506344253575243\n",
      "TPI Triose-phosphate isomerase 7.477381962160286 7.506344253575243\n",
      "FBA Fructose-bisphosphate aldolase 7.477381962160286 7.506344253575243\n",
      "RPI Ribose-5-phosphate isomerase -2.2815030940671264 -2.2462182267709454\n",
      "PGM Phosphoglycerate mutase -14.716139568742836 -14.672695876996094\n",
      "ENO Enolase 14.716139568742836 14.672695876996094\n",
      "TALA Transaldolase 1.4969837572615654 1.4411270292601517\n",
      "TKT1 Transketolase 1.4969837572615654 1.4411270292601515\n",
      "TKT2 Transketolase 1.181498093245962 1.117368621884195\n",
      "PPC Phosphoenolpyruvate carboxylase 2.5043094703687325 2.569978094671856\n",
      "PIt2r Phosphate reversible transport via symport 3.214895047684796 3.2991968233072844\n",
      "EX_pi_e Phosphate exchange -3.214895047684796 -3.2991968233072844\n",
      "GLUDy Glutamate dehydrogenase (NADP) -4.54185746386563 -4.660955177212145\n",
      "RPE Ribulose 5-phosphate 3-epimerase 2.678481850507527 2.5584956511443466\n",
      "PYK Pyruvate kinase 1.7581774441067881 1.6371693355960968\n",
      "NH4t Ammonia reversible transport 4.765319193197458 4.890276575456001\n",
      "EX_nh4_e Ammonia exchange -4.765319193197457 -4.890276575456001\n",
      "PGI Glucose-6-phosphate isomerase 4.860861146496819 5.011434394904456\n",
      "PGL 6-phosphogluconolactonase 4.959984944574654 4.804713877915293\n",
      "G6PDH2r Glucose 6-phosphate dehydrogenase 4.959984944574654 4.804713877915292\n",
      "GND Phosphogluconate dehydrogenase 4.9599849445746536 4.804713877915291\n",
      "PDH Pyruvate dehydrogenase 9.28253259916662 9.096607517273078\n",
      "EX_h_e H+ exchange 17.530865429786648 16.990564132857894\n",
      "SUCDi Succinate dehydrogenase (irreversible) 5.064375661482094 5.7678410217563725\n",
      "SUCOAS Succinyl-CoA synthetase (ADP-forming) -5.064375661482094 -5.7678410217563725\n",
      "AKGDH 2-Oxogluterate dehydrogenase 5.064375661482093 5.7678410217563725\n",
      "FUM Fumarase 5.064375661482093 5.7678410217563725\n",
      "MDH Malate dehydrogenase 5.064375661482093 5.7678410217563725\n",
      "CS Citrate synthase 6.007249575350337 6.7354392093406386\n",
      "ACONTa Aconitase (half-reaction A, Citrate hydro-lyase) 6.007249575350337 6.735439209340639\n",
      "ACONTb Aconitase (half-reaction B, Isocitrate hydro-lyase) 6.007249575350338 6.73543920934064\n",
      "ICDHyr Isocitrate dehydrogenase (NADP) 6.007249575350338 6.73543920934064\n",
      "EX_o2_e O2 exchange -21.799492655998762 -22.797789474086247\n",
      "O2t O2 transport  diffusion  21.799492655998762 22.797789474086247\n",
      "ACKr Acetate kinase 0.0 1.0\n",
      "ACt2r Acetate reversible transport via proton symport 0.0 1.0\n",
      "PTAr Phosphotransacetylase 0.0 -1.0\n",
      "EX_ac_e Acetate exchange 0.0 -1.0\n",
      "CO2t CO2 transporter via diffusion -22.80983331020497 -23.834623531613524\n",
      "EX_co2_e CO2 exchange 22.80983331020497 23.834623531613524\n",
      "EX_h2o_e H2O exchange 29.175827135565818 30.367548026598016\n",
      "H2Ot H2O transport via diffusion -29.175827135565818 -30.367548026598016\n",
      "NADH16 NADH dehydrogenase (ubiquinone-8 & 3 protons) 38.534609650515435 39.82773792641613\n",
      "ATPS4r ATP synthase (four protons for one ATP) 45.514009774517476 47.34615267985705\n",
      "CYTBD Cytochrome oxidase bd (ubiquinol-8: 2 protons) 43.59898531199753 45.5955789481725\n"
     ]
    }
   ],
   "source": [
    "# Print the reaction ID, the reaction name, the flux in the glucose medium, and the flux in the glucose + acetate medium in the order of the difference between the two\n",
    "for reaction in sorted(diff_reactions, key = lambda x: abs(diff_reactions[x])):\n",
    "    print(reaction, model.reactions.get_by_id(reaction).name, glc_10_solution.fluxes[reaction], ace_1_solution.fluxes[reaction])"
   ]
  },
  {
   "cell_type": "code",
   "execution_count": null,
   "metadata": {},
   "outputs": [],
   "source": []
  }
 ],
 "metadata": {
  "kernelspec": {
   "display_name": "escher",
   "language": "python",
   "name": "python3"
  },
  "language_info": {
   "codemirror_mode": {
    "name": "ipython",
    "version": 3
   },
   "file_extension": ".py",
   "mimetype": "text/x-python",
   "name": "python",
   "nbconvert_exporter": "python",
   "pygments_lexer": "ipython3",
   "version": "3.8.17"
  }
 },
 "nbformat": 4,
 "nbformat_minor": 2
}
