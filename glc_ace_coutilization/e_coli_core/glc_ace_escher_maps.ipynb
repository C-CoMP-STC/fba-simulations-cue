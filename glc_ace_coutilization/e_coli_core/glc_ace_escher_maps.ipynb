{
 "cells": [
  {
   "cell_type": "code",
   "execution_count": 34,
   "metadata": {},
   "outputs": [],
   "source": [
    "import escher\n",
    "from escher import Builder\n",
    "import cobra\n",
    "from time import sleep"
   ]
  },
  {
   "cell_type": "code",
   "execution_count": 35,
   "metadata": {},
   "outputs": [],
   "source": [
    "# Load the model into cobra\n",
    "model = cobra.io.load_json_model('e_coli_core.json')"
   ]
  },
  {
   "cell_type": "code",
   "execution_count": 36,
   "metadata": {},
   "outputs": [],
   "source": [
    "# Make a medium with only glucose and limited oxygen\n",
    "glc_medium = {\n",
    "    'EX_co2_e': 1000.0,\n",
    "    'EX_glc__D_e': 10.0,\n",
    "    'EX_h_e': 1000.0,\n",
    "    'EX_h2o_e': 1000.0,\n",
    "    'EX_nh4_e': 1000.0,\n",
    "    'EX_o2_e': 20.0,\n",
    "    'EX_pi_e': 1000.0\n",
    "}"
   ]
  },
  {
   "cell_type": "code",
   "execution_count": 37,
   "metadata": {},
   "outputs": [],
   "source": [
    "# Run FBA for the default medium\n",
    "model.medium = glc_medium\n",
    "glc_10_solution = model.optimize()"
   ]
  },
  {
   "cell_type": "code",
   "execution_count": 46,
   "metadata": {},
   "outputs": [
    {
     "name": "stdout",
     "output_type": "stream",
     "text": [
      "Downloading Map from https://escher.github.io/1-0-0/6/maps/Escherichia%20coli/e_coli_core.Core%20metabolism.json\n"
     ]
    }
   ],
   "source": [
    "# Make a map with the solution for the default medium\n",
    "glc_10_map = Builder(\n",
    "    map_name = 'e_coli_core.Core metabolism',\n",
    "    reaction_data = glc_10_solution.fluxes\n",
    ")"
   ]
  },
  {
   "cell_type": "code",
   "execution_count": 47,
   "metadata": {},
   "outputs": [
    {
     "data": {
      "application/vnd.jupyter.widget-view+json": {
       "model_id": "3b2e2a8cbf7d49768e595cbb6bebf2e1",
       "version_major": 2,
       "version_minor": 0
      },
      "text/plain": [
       "Builder(reaction_data={'PFK': 7.425175614551203, 'PFL': 0.0, 'PGI': 4.589443418031537, 'PGK': -16.040039558585…"
      ]
     },
     "metadata": {},
     "output_type": "display_data"
    }
   ],
   "source": [
    "# View the map\n",
    "glc_10_map"
   ]
  },
  {
   "cell_type": "code",
   "execution_count": 40,
   "metadata": {},
   "outputs": [],
   "source": [
    "# Define medium with just a little bit of acetate available\n",
    "# Note, this does not set the flux, just the limits on it\n",
    "glc_ace_medium = {\n",
    "    'EX_co2_e': 1000.0,\n",
    "    'EX_glc__D_e': 10.0,\n",
    "    'EX_ac_e': 1,\n",
    "    'EX_h_e': 1000.0,\n",
    "    'EX_h2o_e': 1000.0,\n",
    "    'EX_nh4_e': 1000.0,\n",
    "    'EX_o2_e': 20.0,\n",
    "    'EX_pi_e': 1000.0\n",
    "}"
   ]
  },
  {
   "cell_type": "code",
   "execution_count": 41,
   "metadata": {},
   "outputs": [],
   "source": [
    "# Run FBA for the glucose + acetate medium\n",
    "model.medium = glc_ace_medium\n",
    "ace_1_solution = model.optimize()"
   ]
  },
  {
   "cell_type": "code",
   "execution_count": 42,
   "metadata": {},
   "outputs": [
    {
     "name": "stdout",
     "output_type": "stream",
     "text": [
      "Downloading Map from https://escher.github.io/1-0-0/6/maps/Escherichia%20coli/e_coli_core.Core%20metabolism.json\n"
     ]
    }
   ],
   "source": [
    "# Make a map with the solution for the defulat medium\n",
    "ace_1_map = Builder(\n",
    "    map_name = 'e_coli_core.Core metabolism',\n",
    "    reaction_data = ace_1_solution.fluxes\n",
    ")"
   ]
  },
  {
   "cell_type": "code",
   "execution_count": 43,
   "metadata": {},
   "outputs": [
    {
     "data": {
      "application/vnd.jupyter.widget-view+json": {
       "model_id": "c86e18c7a93f4b23a88d0f17955895fd",
       "version_major": 2,
       "version_minor": 0
      },
      "text/plain": [
       "Builder(reaction_data={'PFK': 7.425175614551202, 'PFL': 0.0, 'PGI': 4.589443418031526, 'PGK': -16.040039558585…"
      ]
     },
     "metadata": {},
     "output_type": "display_data"
    }
   ],
   "source": [
    "ace_1_map"
   ]
  },
  {
   "cell_type": "code",
   "execution_count": 44,
   "metadata": {},
   "outputs": [],
   "source": [
    "# Get a list of the reactions that are different between the two solutions, with the difference between them\n",
    "diff_reactions = {}\n",
    "for reaction in model.reactions:\n",
    "    if abs(glc_10_solution.fluxes[reaction.id] - ace_1_solution.fluxes[reaction.id]) > 1e-6:\n",
    "        diff_reactions[reaction.id] = ace_1_solution.fluxes[reaction.id] - glc_10_solution.fluxes[reaction.id]"
   ]
  },
  {
   "cell_type": "code",
   "execution_count": 45,
   "metadata": {},
   "outputs": [],
   "source": [
    "# Print the reaction ID, the reaction name, the flux in the glucose medium, and the flux in the glucose + acetate medium in the order of the difference between the two\n",
    "for reaction in sorted(diff_reactions, key = lambda x: abs(diff_reactions[x])):\n",
    "    print(reaction, model.reactions.get_by_id(reaction).name, glc_10_solution.fluxes[reaction], ace_1_solution.fluxes[reaction])"
   ]
  },
  {
   "cell_type": "code",
   "execution_count": 48,
   "metadata": {},
   "outputs": [
    {
     "data": {
      "text/html": [
       "\n",
       "        <table>\n",
       "            <tr>\n",
       "                <td><strong>Reaction identifier</strong></td><td>ACt2r</td>\n",
       "            </tr><tr>\n",
       "                <td><strong>Name</strong></td><td>Acetate reversible transport via proton symport</td>\n",
       "            </tr><tr>\n",
       "                <td><strong>Memory address</strong></td>\n",
       "                <td>0x7f8256434310</td>\n",
       "            </tr><tr>\n",
       "                <td><strong>Stoichiometry</strong></td>\n",
       "                <td>\n",
       "                    <p style='text-align:right'>ac_e + h_e <=> ac_c + h_c</p>\n",
       "                    <p style='text-align:right'>Acetate + H+ <=> Acetate + H+</p>\n",
       "                </td>\n",
       "            </tr><tr>\n",
       "                <td><strong>GPR</strong></td><td></td>\n",
       "            </tr><tr>\n",
       "                <td><strong>Lower bound</strong></td><td>-1000.0</td>\n",
       "            </tr><tr>\n",
       "                <td><strong>Upper bound</strong></td><td>1000.0</td>\n",
       "            </tr>\n",
       "        </table>\n",
       "        "
      ],
      "text/plain": [
       "<Reaction ACt2r at 0x7f8256434310>"
      ]
     },
     "execution_count": 48,
     "metadata": {},
     "output_type": "execute_result"
    }
   ],
   "source": [
    "model.reactions.ACt2r"
   ]
  },
  {
   "cell_type": "code",
   "execution_count": 49,
   "metadata": {},
   "outputs": [
    {
     "data": {
      "text/html": [
       "\n",
       "        <table>\n",
       "            <tr>\n",
       "                <td><strong>Reaction identifier</strong></td><td>ACKr</td>\n",
       "            </tr><tr>\n",
       "                <td><strong>Name</strong></td><td>Acetate kinase</td>\n",
       "            </tr><tr>\n",
       "                <td><strong>Memory address</strong></td>\n",
       "                <td>0x7f820583c460</td>\n",
       "            </tr><tr>\n",
       "                <td><strong>Stoichiometry</strong></td>\n",
       "                <td>\n",
       "                    <p style='text-align:right'>ac_c + atp_c <=> actp_c + adp_c</p>\n",
       "                    <p style='text-align:right'>Acetate + ATP C10H12N5O13P3 <=> Acetyl phosphate + ADP C10H12N5O10P2</p>\n",
       "                </td>\n",
       "            </tr><tr>\n",
       "                <td><strong>GPR</strong></td><td>b3115 or b2296 or b1849</td>\n",
       "            </tr><tr>\n",
       "                <td><strong>Lower bound</strong></td><td>-1000.0</td>\n",
       "            </tr><tr>\n",
       "                <td><strong>Upper bound</strong></td><td>1000.0</td>\n",
       "            </tr>\n",
       "        </table>\n",
       "        "
      ],
      "text/plain": [
       "<Reaction ACKr at 0x7f820583c460>"
      ]
     },
     "execution_count": 49,
     "metadata": {},
     "output_type": "execute_result"
    }
   ],
   "source": [
    "model.reactions.ACKr"
   ]
  },
  {
   "cell_type": "code",
   "execution_count": null,
   "metadata": {},
   "outputs": [],
   "source": []
  }
 ],
 "metadata": {
  "kernelspec": {
   "display_name": "escher",
   "language": "python",
   "name": "python3"
  },
  "language_info": {
   "codemirror_mode": {
    "name": "ipython",
    "version": 3
   },
   "file_extension": ".py",
   "mimetype": "text/x-python",
   "name": "python",
   "nbconvert_exporter": "python",
   "pygments_lexer": "ipython3",
   "version": "3.8.17"
  }
 },
 "nbformat": 4,
 "nbformat_minor": 2
}
